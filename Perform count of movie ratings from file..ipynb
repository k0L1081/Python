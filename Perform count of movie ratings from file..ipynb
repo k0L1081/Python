{
 "cells": [
  {
   "cell_type": "markdown",
   "metadata": {},
   "source": [
    "**Perform count of movie ratings from file.**\n",
    "\n",
    "**Source file name:** u.data\n",
    "\n",
    "**First 10 lines of source file:**<br>\n",
    "196\t242\t3\t881250949<br>\n",
    "186\t302\t3\t891717742<br>\n",
    "22\t377\t1\t878887116<br>\n",
    "244\t51\t2\t880606923<br>\n",
    "166\t346\t1\t886397596<br>\n",
    "298\t474\t4\t884182806<br>\n",
    "115\t265\t2\t881171488<br>\n",
    "253\t465\t5\t891628467<br>\n",
    "305\t451\t3\t886324817<br>\n",
    "6\t86\t3\t883603013<br>\n",
    "\n",
    "**Spin up Spark cluster.**"
   ]
  },
  {
   "cell_type": "code",
   "execution_count": 1,
   "metadata": {
    "collapsed": false
   },
   "outputs": [
    {
     "name": "stdout",
     "output_type": "stream",
     "text": [
      "Spinning up Spark cluster ...\n"
     ]
    },
    {
     "data": {
      "text/html": [
       "\n",
       "        <div>\n",
       "            <p><b>SparkContext</b></p>\n",
       "\n",
       "            <p><a href=\"http://10.0.0.30:4040\">Spark UI</a></p>\n",
       "\n",
       "            <dl>\n",
       "              <dt>Version</dt>\n",
       "                <dd><code>v2.2.0</code></dd>\n",
       "              <dt>Master</dt>\n",
       "                <dd><code>local</code></dd>\n",
       "              <dt>AppName</dt>\n",
       "                <dd><code>RatingsHistogram</code></dd>\n",
       "            </dl>\n",
       "        </div>\n",
       "        "
      ],
      "text/plain": [
       "<SparkContext master=local appName=RatingsHistogram>"
      ]
     },
     "execution_count": 1,
     "metadata": {},
     "output_type": "execute_result"
    }
   ],
   "source": [
    "# Import packages.\n",
    "import findspark\n",
    "findspark.init()\n",
    "\n",
    "from pyspark import SparkConf, SparkContext\n",
    "import os\n",
    "import json\n",
    "import collections\n",
    "\n",
    "# Launch spark cluster. Restart cluster, if it is already started.\n",
    "try:\n",
    "    sc\n",
    "    sc.stop()\n",
    "except NameError:\n",
    "    pass\n",
    "finally:\n",
    "    print('Spinning up Spark cluster ...')\n",
    "    conf = SparkConf().setMaster(\"local\").setAppName(\"RatingsHistogram\")\n",
    "    sc = SparkContext(conf = conf)\n",
    "\n",
    "# Display cluster information.\n",
    "sc"
   ]
  },
  {
   "cell_type": "markdown",
   "metadata": {},
   "source": [
    "Get working directory. Get configurations from configuration file. Using configurations, set data file location."
   ]
  },
  {
   "cell_type": "code",
   "execution_count": 4,
   "metadata": {
    "collapsed": false
   },
   "outputs": [],
   "source": [
    "# Get current working directory.\n",
    "current_working_directory = os.getcwd()\n",
    "\n",
    "# Load configuration file.\n",
    "with open(current_working_directory + '\\configuration.json', 'r') as configuration_file:\n",
    "    dict_configurations = json.load(configuration_file)\n",
    "\n",
    "# Get path part for u.data file from configuration file.\n",
    "u_data_path_part = dict_configurations['u.data_path_part']\n",
    "\n",
    "# Get current working directory's parent.\n",
    "current_working_directory_parent = os.path.dirname(current_working_directory)\n",
    "\n",
    "# Get full path for u.data file.\n",
    "u_data_path = os.path.abspath(os.path.join(current_working_directory_parent, u_data_path_part))"
   ]
  },
  {
   "cell_type": "code",
   "execution_count": 17,
   "metadata": {
    "collapsed": false
   },
   "outputs": [
    {
     "name": "stdout",
     "output_type": "stream",
     "text": [
      "100000\n"
     ]
    },
    {
     "data": {
      "text/plain": [
       "['196\\t242\\t3\\t881250949',\n",
       " '186\\t302\\t3\\t891717742',\n",
       " '22\\t377\\t1\\t878887116',\n",
       " '244\\t51\\t2\\t880606923',\n",
       " '166\\t346\\t1\\t886397596',\n",
       " '298\\t474\\t4\\t884182806',\n",
       " '115\\t265\\t2\\t881171488',\n",
       " '253\\t465\\t5\\t891628467',\n",
       " '305\\t451\\t3\\t886324817',\n",
       " '6\\t86\\t3\\t883603013']"
      ]
     },
     "execution_count": 17,
     "metadata": {},
     "output_type": "execute_result"
    }
   ],
   "source": [
    "# Read in data file into lines RDD.\n",
    "lines = sc.textFile(u_data_path)\n",
    "\n",
    "# Print count of lines RDD.\n",
    "print(lines.count())\n",
    "\n",
    "# Display first 10 rows of lines RDD.\n",
    "lines.take(10)"
   ]
  },
  {
   "cell_type": "code",
   "execution_count": 18,
   "metadata": {
    "collapsed": false
   },
   "outputs": [
    {
     "name": "stdout",
     "output_type": "stream",
     "text": [
      "100000\n"
     ]
    },
    {
     "data": {
      "text/plain": [
       "['3', '3', '1', '2', '1', '4', '2', '5', '3', '3']"
      ]
     },
     "execution_count": 18,
     "metadata": {},
     "output_type": "execute_result"
    }
   ],
   "source": [
    "# Map third column of each line into ratings RDD.\n",
    "ratings = lines.map(lambda x: x.split()[2])\n",
    "\n",
    "# Print count of ratings RDD.\n",
    "print(ratings.count())\n",
    "\n",
    "# Display first 10 entries of ratings RDD.\n",
    "ratings.take(10)"
   ]
  },
  {
   "cell_type": "code",
   "execution_count": 19,
   "metadata": {
    "collapsed": false
   },
   "outputs": [
    {
     "name": "stdout",
     "output_type": "stream",
     "text": [
      "<class 'collections.defaultdict'>\n"
     ]
    },
    {
     "data": {
      "text/plain": [
       "defaultdict(int, {'1': 6110, '2': 11370, '3': 27145, '4': 34174, '5': 21201})"
      ]
     },
     "execution_count": 19,
     "metadata": {},
     "output_type": "execute_result"
    }
   ],
   "source": [
    "# countByValue: Return the count of each unique value in an RDD as a map of (value, count) pairs.\n",
    "result = ratings.countByValue()\n",
    "\n",
    "# Print type of result object.\n",
    "print(type(result))\n",
    "\n",
    "# Display result object.\n",
    "result"
   ]
  },
  {
   "cell_type": "code",
   "execution_count": 20,
   "metadata": {
    "collapsed": false
   },
   "outputs": [
    {
     "name": "stdout",
     "output_type": "stream",
     "text": [
      "<class 'collections.OrderedDict'>\n"
     ]
    },
    {
     "data": {
      "text/plain": [
       "OrderedDict([('1', 6110),\n",
       "             ('2', 11370),\n",
       "             ('3', 27145),\n",
       "             ('4', 34174),\n",
       "             ('5', 21201)])"
      ]
     },
     "execution_count": 20,
     "metadata": {},
     "output_type": "execute_result"
    }
   ],
   "source": [
    "# collections.OrderDict: dict subclass that remembers the order entries were added.\n",
    "sortedResults = collections.OrderedDict(sorted(result.items()))\n",
    "\n",
    "# Print type of sortedResults object.\n",
    "print(type(sortedResults))\n",
    "\n",
    "# Display sortedResults object.\n",
    "sortedResults"
   ]
  },
  {
   "cell_type": "code",
   "execution_count": 21,
   "metadata": {
    "collapsed": false
   },
   "outputs": [
    {
     "name": "stdout",
     "output_type": "stream",
     "text": [
      "1 6110\n",
      "2 11370\n",
      "3 27145\n",
      "4 34174\n",
      "5 21201\n"
     ]
    }
   ],
   "source": [
    "# Print content of sortedResults OrderDict.\n",
    "for key, value in sortedResults.items():\n",
    "    print(\"%s %i\" % (key, value))"
   ]
  }
 ],
 "metadata": {
  "kernelspec": {
   "display_name": "Python 3",
   "language": "python",
   "name": "python3"
  },
  "language_info": {
   "codemirror_mode": {
    "name": "ipython",
    "version": 3
   },
   "file_extension": ".py",
   "mimetype": "text/x-python",
   "name": "python",
   "nbconvert_exporter": "python",
   "pygments_lexer": "ipython3",
   "version": "3.5.2"
  }
 },
 "nbformat": 4,
 "nbformat_minor": 2
}
