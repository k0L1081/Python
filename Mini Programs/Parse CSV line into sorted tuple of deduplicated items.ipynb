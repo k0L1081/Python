{
 "cells": [
  {
   "cell_type": "code",
   "execution_count": 11,
   "metadata": {
    "collapsed": false
   },
   "outputs": [
    {
     "name": "stdout",
     "output_type": "stream",
     "text": [
      "('12', '33', '34', '55', '67', '98')\n"
     ]
    }
   ],
   "source": [
    "# Build tuple from comma-separated list of values.\n",
    "# Tuple should deduplicate and sort items in the list.\n",
    "# E.g., 34,12,67,55,33,12,98,33,33,34\n",
    "# Should return:\n",
    "# ('12', '33', '34', '55', '67', '98')\n",
    "\n",
    "csv = '34,12,67,55,33,12,98,33,33,34'\n",
    "\n",
    "set_csv = set(csv.split(','))\n",
    "tuple_csv = tuple(sorted(set_csv))\n",
    "\n",
    "print(tuple_csv)"
   ]
  }
 ],
 "metadata": {
  "kernelspec": {
   "display_name": "Python 3",
   "language": "python",
   "name": "python3"
  },
  "language_info": {
   "codemirror_mode": {
    "name": "ipython",
    "version": 3
   },
   "file_extension": ".py",
   "mimetype": "text/x-python",
   "name": "python",
   "nbconvert_exporter": "python",
   "pygments_lexer": "ipython3",
   "version": "3.5.2"
  }
 },
 "nbformat": 4,
 "nbformat_minor": 2
}
