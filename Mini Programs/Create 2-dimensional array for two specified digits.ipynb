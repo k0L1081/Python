{
 "cells": [
  {
   "cell_type": "code",
   "execution_count": 8,
   "metadata": {
    "collapsed": false
   },
   "outputs": [
    {
     "name": "stdout",
     "output_type": "stream",
     "text": [
      "3,5\n"
     ]
    },
    {
     "data": {
      "text/plain": [
       "[[0, 0, 0, 0, 0], [0, 1, 2, 3, 4], [0, 2, 4, 6, 8]]"
      ]
     },
     "execution_count": 8,
     "metadata": {},
     "output_type": "execute_result"
    }
   ],
   "source": [
    "# Take 2 digits, X,Y, as input and generate a 2-dimensional array.\n",
    "# The element value in the i-th row and j-th column of the array should be i*j.\n",
    "# E.g., for the following input: 3,5\n",
    "# The output of the program should be:\n",
    "# [[0, 0, 0, 0, 0], [0, 1, 2, 3, 4], [0, 2, 4, 6, 8]] \n",
    "\n",
    "def build_array(two_digits):\n",
    "    # split(): Parse delimited string into list.\n",
    "    # map(): Apply int() function to each element of list.\n",
    "    X, Y = map(int, two_digits.split(','))\n",
    "\n",
    "    a = [[] for i in range(X)]\n",
    "    \n",
    "    for i in range(X):\n",
    "        for j in range(Y):\n",
    "            a[i].append(i * j)\n",
    "            \n",
    "    return(a)\n",
    "\n",
    "two_digits = input()\n",
    "build_array(two_digits)"
   ]
  },
  {
   "cell_type": "code",
   "execution_count": 10,
   "metadata": {
    "collapsed": false
   },
   "outputs": [
    {
     "name": "stdout",
     "output_type": "stream",
     "text": [
      "3,5\n"
     ]
    },
    {
     "data": {
      "text/plain": [
       "[[0, 0, 0, 0, 0], [0, 1, 2, 3, 4], [0, 2, 4, 6, 8]]"
      ]
     },
     "execution_count": 10,
     "metadata": {},
     "output_type": "execute_result"
    }
   ],
   "source": [
    "# Using list comprehension\n",
    "\n",
    "def build_array(two_digits):\n",
    "    # split(): Parse delimited string into list.\n",
    "    # map(): Apply int() function to each element of list.\n",
    "    X, Y = map(int, two_digits.split(','))\n",
    "\n",
    "    a = [[(i * j) for j in range(Y)] for i in range(X)]\n",
    "        \n",
    "    return(a)\n",
    "\n",
    "two_digits = input()\n",
    "build_array(two_digits)"
   ]
  }
 ],
 "metadata": {
  "kernelspec": {
   "display_name": "Python 3",
   "language": "python",
   "name": "python3"
  },
  "language_info": {
   "codemirror_mode": {
    "name": "ipython",
    "version": 3
   },
   "file_extension": ".py",
   "mimetype": "text/x-python",
   "name": "python",
   "nbconvert_exporter": "python",
   "pygments_lexer": "ipython3",
   "version": "3.5.2"
  }
 },
 "nbformat": 4,
 "nbformat_minor": 2
}
