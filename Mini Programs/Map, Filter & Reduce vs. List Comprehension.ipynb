{
 "cells": [
  {
   "cell_type": "markdown",
   "metadata": {},
   "source": [
    "### Demonstration of using Map(), Filter() & Reduce() on a 10,000,000-item list.###\n",
    "\n",
    "Also compare performance of **map()** and **filter()** to that of **list comprehension**.\n",
    "\n",
    "Finally, compare performance of **reduce()** to that of **sum()**.\n",
    "\n",
    "Construct 10,00,000-item list, named aList."
   ]
  },
  {
   "cell_type": "code",
   "execution_count": null,
   "metadata": {
    "collapsed": false
   },
   "outputs": [
    {
     "name": "stdout",
     "output_type": "stream",
     "text": [
      "First 10 items of aList: [1, 2, 3, 4, 5, 6, 7, 8, 9, 10]\n",
      "Last 10 items of aList: [9999991, 9999992, 9999993, 9999994, 9999995, 9999996, 9999997, 9999998, 9999999, 10000000]\n"
     ]
    }
   ],
   "source": [
    "aList = list(range(1, 10000001))\n",
    "\n",
    "# Print first and last 10 items of aList.\n",
    "print('First 10 items of aList:', aList[:10])\n",
    "print('Last 10 items of aList:', aList[-10:])"
   ]
  },
  {
   "cell_type": "markdown",
   "metadata": {},
   "source": [
    "### Create new list, sqrList, containing square root of each item in aList. ###\n",
    "\n",
    "Perform the computation using **list comprehension**."
   ]
  },
  {
   "cell_type": "code",
   "execution_count": null,
   "metadata": {
    "collapsed": false
   },
   "outputs": [],
   "source": [
    "import time\n",
    "\n",
    "start_time = time.time()\n",
    "\n",
    "sqrList = [i ** 2 for i in aList]\n",
    "\n",
    "end_time = time.time()\n",
    "\n",
    "elapsed_time = end_time - start_time\n",
    "\n",
    "# Print first and last 10 items of sqrList.\n",
    "print('First 10 items of aList:', sqrList[:10])\n",
    "print('Last 10 items of aList:', sqrList[-10:])\n",
    "print('Elapsed Time:', str(elapsed_time))"
   ]
  },
  {
   "cell_type": "markdown",
   "metadata": {},
   "source": [
    "Perform the prior computation using **map()** and a **lambda** function.\n",
    "\n",
    "**Map:** Apply function to each element in a sequence; and return a new sequence containing the results of the function on each element of the original sequence. The new sequence will have the same number of elements as the original sequence."
   ]
  },
  {
   "cell_type": "code",
   "execution_count": null,
   "metadata": {
    "collapsed": false
   },
   "outputs": [],
   "source": [
    "start_time = time.time()\n",
    "\n",
    "sqrList = list(map((lambda x: x ** 2), aList))\n",
    "\n",
    "end_time = time.time()\n",
    "\n",
    "elapsed_time = end_time - start_time\n",
    "\n",
    "# Print first and last 10 items of sqrList.\n",
    "print('First 10 items of aList:', sqrList[:10])\n",
    "print('Last 10 items of aList:', sqrList[-10:])\n",
    "print('Elapsed Time:', str(elapsed_time))"
   ]
  },
  {
   "cell_type": "markdown",
   "metadata": {},
   "source": [
    "When squaring items in a 10,000,000-item list, **list comprehension** performed better than the **map()** function.\n",
    "\n",
    "### Create new list, fltrList, containing items from aList that are multiples of 7. ###\n",
    "\n",
    "Perform the computation using **list comprehension**."
   ]
  },
  {
   "cell_type": "code",
   "execution_count": null,
   "metadata": {
    "collapsed": false
   },
   "outputs": [],
   "source": [
    "start_time = time.time()\n",
    "\n",
    "fltrList = [i for i in aList if (i % 7 == 0)]\n",
    "\n",
    "end_time = time.time()\n",
    "\n",
    "elapsed_time = end_time - start_time\n",
    "\n",
    "# Print first and last 10 items of fltrList.\n",
    "print('First 10 items of aList:', fltrList[:10])\n",
    "print('Last 10 items of aList:', fltrList[-10:])\n",
    "print('Elapsed Time:', str(elapsed_time))"
   ]
  },
  {
   "cell_type": "markdown",
   "metadata": {},
   "source": [
    "Perform the prior computation using **filter()** and a **lambda** function.\n",
    "\n",
    "**Filter**: Apply boolean function to each element in a sequence; and return a new sequence containing only the elements on which the function evaluated to True."
   ]
  },
  {
   "cell_type": "code",
   "execution_count": null,
   "metadata": {
    "collapsed": false
   },
   "outputs": [],
   "source": [
    "start_time = time.time()\n",
    "\n",
    "fltrList = list(filter((lambda x: ((x % 7) == 0)), aList))\n",
    "\n",
    "end_time = time.time()\n",
    "\n",
    "elapsed_time = end_time - start_time\n",
    "\n",
    "# Print first and last 10 items of fltrList.\n",
    "print('First 10 items of aList:', fltrList[:10])\n",
    "print('Last 10 items of aList:', fltrList[-10:])\n",
    "print('Elapsed Time:', str(elapsed_time))"
   ]
  },
  {
   "cell_type": "markdown",
   "metadata": {},
   "source": [
    "When filtering items in a 10,000,000-item list for multiples of 7, **list comprehension** performed better than the **map()** function.\n",
    "\n",
    "### Create new value, sumList, containing the sum of items in aList. ###\n",
    "\n",
    "Perform the computation using the **sum()** function."
   ]
  },
  {
   "cell_type": "code",
   "execution_count": null,
   "metadata": {
    "collapsed": false
   },
   "outputs": [],
   "source": [
    "start_time = time.time()\n",
    "\n",
    "sumList = sum(aList)\n",
    "\n",
    "end_time = time.time()\n",
    "\n",
    "elapsed_time = end_time - start_time\n",
    "\n",
    "# Print value of sumList.\n",
    "print('sumList:', sumList)\n",
    "print('Elapsed Time:', str(elapsed_time))"
   ]
  },
  {
   "cell_type": "markdown",
   "metadata": {},
   "source": [
    "Perform the prior computation using **reduce()** and a **lambda** function.\n",
    "\n",
    "**Reduce:** Apply *combine* function to each element in a sequence; and return **single** value based on the results of the *combine* function."
   ]
  },
  {
   "cell_type": "code",
   "execution_count": null,
   "metadata": {
    "collapsed": false
   },
   "outputs": [],
   "source": [
    "from functools import reduce\n",
    "\n",
    "start_time = time.time()\n",
    "\n",
    "sumList = reduce((lambda x, y: x + y), aList)\n",
    "\n",
    "end_time = time.time()\n",
    "\n",
    "elapsed_time = end_time - start_time\n",
    "\n",
    "# Print value of sumList.\n",
    "print('sumList:', sumList)\n",
    "print('Elapsed Time:', str(elapsed_time))"
   ]
  },
  {
   "cell_type": "markdown",
   "metadata": {},
   "source": [
    "When performing a summation of a 10,000,000-item list, **sum()** performed better than the **reduce()** function.\n"
   ]
  }
 ],
 "metadata": {
  "kernelspec": {
   "display_name": "Python 3",
   "language": "python",
   "name": "python3"
  },
  "language_info": {
   "codemirror_mode": {
    "name": "ipython",
    "version": 3
   },
   "file_extension": ".py",
   "mimetype": "text/x-python",
   "name": "python",
   "nbconvert_exporter": "python",
   "pygments_lexer": "ipython3",
   "version": "3.5.2"
  }
 },
 "nbformat": 4,
 "nbformat_minor": 2
}
