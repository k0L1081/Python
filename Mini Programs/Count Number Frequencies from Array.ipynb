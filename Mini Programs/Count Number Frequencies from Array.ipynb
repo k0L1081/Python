{
 "cells": [
  {
   "cell_type": "code",
   "execution_count": 6,
   "metadata": {
    "collapsed": false
   },
   "outputs": [
    {
     "name": "stdout",
     "output_type": "stream",
     "text": [
      "1:3, 5:2, 12:1, 30:1\n",
      "1:3, 2:1, 3:1, 9:1\n"
     ]
    }
   ],
   "source": [
    "\"\"\"\n",
    " Count the frequency of each unique number occurring in an array and\n",
    " return the output as a string with the unique numbers in ascending sorted\n",
    " order next to their counts.  e.g. for [1,30,1,1,5,12,5] the expected output\n",
    " would be '1:3, 5:2, 12:1, 30:1,'\n",
    "\"\"\"\n",
    "def f_count(li):\n",
    "    di = {i:0 for i in set(li)}\n",
    "\n",
    "    for i in li:\n",
    "        di[i] += 1\n",
    "\n",
    "    li = sorted([(d[0], d[1]) for d in di.items()])\n",
    "    st = ', '.join([str(i[0]) + ':' + str(i[1]) for i in li])\n",
    "    return(st)\n",
    "\n",
    "print(f_count([1,30,1,1,5,12,5]))\n",
    "print(f_count([1,1,1,2,9,3]))"
   ]
  }
 ],
 "metadata": {
  "kernelspec": {
   "display_name": "Python 3",
   "language": "python",
   "name": "python3"
  },
  "language_info": {
   "codemirror_mode": {
    "name": "ipython",
    "version": 3
   },
   "file_extension": ".py",
   "mimetype": "text/x-python",
   "name": "python",
   "nbconvert_exporter": "python",
   "pygments_lexer": "ipython3",
   "version": "3.5.2"
  }
 },
 "nbformat": 4,
 "nbformat_minor": 2
}
