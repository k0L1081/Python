{
 "cells": [
  {
   "cell_type": "code",
   "execution_count": 9,
   "metadata": {
    "collapsed": false
   },
   "outputs": [
    {
     "name": "stdout",
     "output_type": "stream",
     "text": [
      "100,150,180\n"
     ]
    },
    {
     "data": {
      "text/plain": [
       "'18,22,24'"
      ]
     },
     "execution_count": 9,
     "metadata": {},
     "output_type": "execute_result"
    }
   ],
   "source": [
    "# For a given CSV row, calculate and print the value according to the following formula:\n",
    "# Q = Square root of [(2 * C * D)/H]\n",
    "\n",
    "# Following are the fixed values of C and H: C is 50. H is 30.\n",
    "\n",
    "# D is the variable whose values should be parsed from a comma-separated sequence.\n",
    "\n",
    "# E.g., for the following input: 100,150,180\n",
    "# The output of the program should be: 18,22,24\n",
    "\n",
    "def square_root(lst_d_in, c = 50, h = 30):\n",
    "    import math\n",
    "\n",
    "    lst_d_in = lst_d_in.split(',')\n",
    "    lst_d_out = []\n",
    "    \n",
    "    for d in lst_d_in:\n",
    "        lst_d_out.append(str(round(math.sqrt(2 * int(c) * int(d) / int(h)))))\n",
    "        \n",
    "    return(','.join(lst_d_out))\n",
    "\n",
    "lst_d_in = input()\n",
    "square_root(lst_d_in)"
   ]
  },
  {
   "cell_type": "code",
   "execution_count": 10,
   "metadata": {
    "collapsed": false
   },
   "outputs": [
    {
     "name": "stdout",
     "output_type": "stream",
     "text": [
      "100,150,180\n"
     ]
    },
    {
     "data": {
      "text/plain": [
       "'18,22,24'"
      ]
     },
     "execution_count": 10,
     "metadata": {},
     "output_type": "execute_result"
    }
   ],
   "source": [
    "# Using list comprehension.\n",
    "\n",
    "def square_root(lst_d_in, c = 50, h = 30):\n",
    "    import math\n",
    "    \n",
    "    lst_d_out = [str(round(math.sqrt(2 * int(c) * int(d) / int(h)))) for d in lst_d_in.split(',')]\n",
    "        \n",
    "    return(','.join(lst_d_out))\n",
    "\n",
    "lst_d_in = input()\n",
    "square_root(lst_d_in)"
   ]
  }
 ],
 "metadata": {
  "kernelspec": {
   "display_name": "Python 3",
   "language": "python",
   "name": "python3"
  },
  "language_info": {
   "codemirror_mode": {
    "name": "ipython",
    "version": 3
   },
   "file_extension": ".py",
   "mimetype": "text/x-python",
   "name": "python",
   "nbconvert_exporter": "python",
   "pygments_lexer": "ipython3",
   "version": "3.5.2"
  }
 },
 "nbformat": 4,
 "nbformat_minor": 2
}
