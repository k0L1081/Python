{
 "cells": [
  {
   "cell_type": "code",
   "execution_count": 16,
   "metadata": {
    "collapsed": false
   },
   "outputs": [
    {
     "name": "stdout",
     "output_type": "stream",
     "text": [
      "abc\n",
      "Enter string value: xyz\n",
      "XYZ\n",
      "['a', 'b', 'c', 'd', 'e', 'f', 'g', 'h', 'i', 'j', 'k', 'l', 'm', 'n', 'o', 'p', 'q', 'r', 's', 't', 'u', 'v', 'w', 'A', 'B', 'C', 'D', 'E', 'F', 'G', 'H', 'I', 'J', 'K', 'L', 'M', 'N', 'O', 'P', 'Q', 'R', 'S', 'T', 'U', 'V', 'W']\n"
     ]
    }
   ],
   "source": [
    "# Define a simple class which has at least two methods:\n",
    "# getString: Get a string from console input\n",
    "# printString: Print the string in upper case.\n",
    "# printAlphabetsExceptString: Print all letters of the alphabet except letters of the string.\n",
    "\n",
    "class String2:\n",
    "    def __init__(self, value):\n",
    "        self.value = value\n",
    "        \n",
    "    def getString(self):\n",
    "        value = input(\"Enter string value: \")\n",
    "        self.value = value\n",
    "        \n",
    "    def printString(self):\n",
    "        print(self.value.upper())\n",
    "        \n",
    "    def printAlphabetsExceptString(self):\n",
    "        import string\n",
    "        \n",
    "        print([a for a in (string.ascii_lowercase + string.ascii_uppercase) if a.lower() not in (self.value).lower()])\n",
    "\n",
    "sString = String2(\"abc\")\n",
    "print(sString.value)\n",
    "\n",
    "sString.getString()\n",
    "\n",
    "sString.printString()\n",
    "\n",
    "sString.printAlphabetsExceptString()"
   ]
  }
 ],
 "metadata": {
  "kernelspec": {
   "display_name": "Python 3",
   "language": "python",
   "name": "python3"
  },
  "language_info": {
   "codemirror_mode": {
    "name": "ipython",
    "version": 3
   },
   "file_extension": ".py",
   "mimetype": "text/x-python",
   "name": "python",
   "nbconvert_exporter": "python",
   "pygments_lexer": "ipython3",
   "version": "3.5.2"
  }
 },
 "nbformat": 4,
 "nbformat_minor": 2
}
