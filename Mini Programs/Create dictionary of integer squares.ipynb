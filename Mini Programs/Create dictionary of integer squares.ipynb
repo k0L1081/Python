{
 "cells": [
  {
   "cell_type": "code",
   "execution_count": 2,
   "metadata": {
    "collapsed": false
   },
   "outputs": [
    {
     "name": "stdout",
     "output_type": "stream",
     "text": [
      "Type in integer:8\n",
      "{1: 1, 2: 4, 3: 9, 4: 16, 5: 25, 6: 36, 7: 49, 8: 64}\n"
     ]
    }
   ],
   "source": [
    "# For a given integer number, n, create a dictionary that contains (i: i*i)\n",
    "# for each integer number i (1 through n).\n",
    "# E.g., for 8, generate the following dictionary:\n",
    "# {1: 1, 2: 4, 3: 9, 4: 16, 5: 25, 6: 36, 7: 49, 8: 64}\n",
    "\n",
    "def get_integer_squares(int_integer):\n",
    "    i = 1\n",
    "    integer_squares = {}\n",
    "    \n",
    "    for i in range(1, int_integer + 1):\n",
    "        integer_squares[i] = i ** 2\n",
    "        \n",
    "    return(integer_squares)\n",
    "\n",
    "int_integer = int(input(\"Type in integer:\"))\n",
    "print(get_integer_squares(int_integer))"
   ]
  },
  {
   "cell_type": "code",
   "execution_count": 7,
   "metadata": {
    "collapsed": false
   },
   "outputs": [
    {
     "name": "stdout",
     "output_type": "stream",
     "text": [
      "Type in integer:8\n",
      "{1: 1, 2: 4, 3: 9, 4: 16, 5: 25, 6: 36, 7: 49, 8: 64}\n"
     ]
    }
   ],
   "source": [
    "# Using list comprehension.\n",
    "def get_integer_squares(int_integer):\n",
    "    integer_squares = {i:i*i for i in range(1, int_integer + 1)}\n",
    "    return(integer_squares)\n",
    "\n",
    "int_integer = int(input(\"Type in integer:\"))\n",
    "print(get_integer_squares(int_integer))"
   ]
  }
 ],
 "metadata": {
  "kernelspec": {
   "display_name": "Python 3",
   "language": "python",
   "name": "python3"
  },
  "language_info": {
   "codemirror_mode": {
    "name": "ipython",
    "version": 3
   },
   "file_extension": ".py",
   "mimetype": "text/x-python",
   "name": "python",
   "nbconvert_exporter": "python",
   "pygments_lexer": "ipython3",
   "version": "3.5.2"
  }
 },
 "nbformat": 4,
 "nbformat_minor": 2
}
