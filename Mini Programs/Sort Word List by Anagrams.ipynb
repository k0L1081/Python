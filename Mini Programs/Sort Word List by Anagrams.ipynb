{
 "cells": [
  {
   "cell_type": "code",
   "execution_count": 8,
   "metadata": {
    "collapsed": false
   },
   "outputs": [
    {
     "name": "stdout",
     "output_type": "stream",
     "text": [
      "['car', 'rac', 'cat', 'cat', 'cta', 'tac', 'catt', 'dans', 'dsan', 'sand', 'rain', 'ran', 'arrow', 'worra', 'listen', 'silent']\n"
     ]
    }
   ],
   "source": [
    "# Output list with anagrams grouped next each other\n",
    "# Anagram: Word formed by rearranging the letters of a different word.\n",
    "words = ['cat', 'car', 'tac', 'cta', 'listen', 'sand', 'cat', 'arrow', 'dsan', 'catt', 'rac', 'dans', 'rain', 'ran',\n",
    "         'silent', 'worra']\n",
    "\n",
    "anagrams = []\n",
    "\n",
    "for word in words:\n",
    "    word_tuple = (''.join(sorted(word)), word)\n",
    "    anagrams.append(word_tuple)\n",
    "\n",
    "anagrams = sorted(anagrams, key = lambda x: x[0] + x[1])\n",
    "anagrams = [anagram[1] for anagram in anagrams]\n",
    "\n",
    "print(anagrams)"
   ]
  },
  {
   "cell_type": "code",
   "execution_count": 22,
   "metadata": {
    "collapsed": false
   },
   "outputs": [
    {
     "name": "stdout",
     "output_type": "stream",
     "text": [
      "['car', 'rac', 'cat', 'cat', 'cta', 'tac', 'catt', 'dans', 'dsan', 'sand', 'rain', 'ran', 'arrow', 'worra', 'listen', 'silent']\n"
     ]
    }
   ],
   "source": [
    "# Using list comprehension.\n",
    "anagrams = [(''.join(sorted(w)), w) for w in words]\n",
    "anagrams = sorted(anagrams, key = lambda i: i[0] + i[1])\n",
    "anagrams = [anagram[1] for anagram in anagrams]\n",
    "\n",
    "print(anagrams)"
   ]
  }
 ],
 "metadata": {
  "kernelspec": {
   "display_name": "Python 3",
   "language": "python",
   "name": "python3"
  },
  "language_info": {
   "codemirror_mode": {
    "name": "ipython",
    "version": 3
   },
   "file_extension": ".py",
   "mimetype": "text/x-python",
   "name": "python",
   "nbconvert_exporter": "python",
   "pygments_lexer": "ipython3",
   "version": "3.5.2"
  }
 },
 "nbformat": 4,
 "nbformat_minor": 2
}
