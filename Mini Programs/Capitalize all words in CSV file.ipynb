{
 "cells": [
  {
   "cell_type": "code",
   "execution_count": 12,
   "metadata": {
    "collapsed": false
   },
   "outputs": [
    {
     "name": "stdout",
     "output_type": "stream",
     "text": [
      "BOB,SMITH,UNITED STATES,24\n",
      "ALICE,WILLIAMS,CANADA,23\n",
      "MALCOLM,JONE,ENGLAND,22\n",
      "FELIX,BROWN,USA,23\n",
      "ALEX,COOPER,POLAND,23\n",
      "TOD,CAMPBELL,UNITED STATES,22\n",
      "DEREK,WARD,SWITZERLAND,25\n"
     ]
    }
   ],
   "source": [
    "# Capitalize all words in a CSV file.\n",
    "# Capitalize all words in a sequence of lines.\n",
    "\n",
    "# E.g., the following input:\n",
    "# Hello world\n",
    "# Practice makes perfect\n",
    "\n",
    "# Should produce the following output:\n",
    "# HELLO WORLD\n",
    "# PRACTICE MAKES PERFECT\n",
    "\n",
    "def capitalize_file_content(file_URL):\n",
    "    lst_upper = []\n",
    "\n",
    "    with open(file_URL, 'r') as file:\n",
    "        for line in file:\n",
    "            line = str.strip(str.upper(line))\n",
    "            lst_upper.append(line)\n",
    "\n",
    "    return('\\n'.join(lst_upper))\n",
    "\n",
    "print(capitalize_file_content(r'C:\\temp\\people.csv'))"
   ]
  },
  {
   "cell_type": "code",
   "execution_count": 17,
   "metadata": {
    "collapsed": false
   },
   "outputs": [
    {
     "name": "stdout",
     "output_type": "stream",
     "text": [
      "BOB,SMITH,UNITED STATES,24\n",
      "ALICE,WILLIAMS,CANADA,23\n",
      "MALCOLM,JONE,ENGLAND,22\n",
      "FELIX,BROWN,USA,23\n",
      "ALEX,COOPER,POLAND,23\n",
      "TOD,CAMPBELL,UNITED STATES,22\n",
      "DEREK,WARD,SWITZERLAND,25\n"
     ]
    }
   ],
   "source": [
    "# Using list comprehension\n",
    "\n",
    "def capitalize_file_content(file_URL):\n",
    "    with open(file_URL, 'r') as file:\n",
    "        lst_upper = [str.strip(str.upper(line)) for line in file]\n",
    "        \n",
    "    return('\\n'.join(lst_upper))\n",
    "\n",
    "print(capitalize_file_content(r'C:\\temp\\people.csv'))"
   ]
  }
 ],
 "metadata": {
  "kernelspec": {
   "display_name": "Python 3",
   "language": "python",
   "name": "python3"
  },
  "language_info": {
   "codemirror_mode": {
    "name": "ipython",
    "version": 3
   },
   "file_extension": ".py",
   "mimetype": "text/x-python",
   "name": "python",
   "nbconvert_exporter": "python",
   "pygments_lexer": "ipython3",
   "version": "3.5.2"
  }
 },
 "nbformat": 4,
 "nbformat_minor": 2
}
