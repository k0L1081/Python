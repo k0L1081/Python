{
 "cells": [
  {
   "cell_type": "markdown",
   "metadata": {},
   "source": [
    "### Create class to compute distance of robot from original point\n",
    "\n",
    "A robot moves in a plane starting from any point, (0, 0), by default. The robot can move **UP**, **DOWN**, **LEFT** and **RIGHT** with a given number of steps, for example:\n",
    "\n",
    "`UP 5\n",
    "DOWN 3\n",
    "LEFT 3\n",
    "RIGHT 2`\n",
    "\n",
    "The numbers after the direction are steps.\n",
    "\n",
    "Compute the distance from the current position after a sequence of steps in several directions.\n",
    "\n",
    "E.g., if the robot moves according to the following sequence of movements:\n",
    "\n",
    "`UP 5\n",
    "DOWN 3\n",
    "LEFT 3\n",
    "RIGHT 2`\n",
    "\n",
    "Then, the output of the program should be: `2.236`\n",
    "\n",
    "#### Create robot class."
   ]
  },
  {
   "cell_type": "code",
   "execution_count": 46,
   "metadata": {
    "collapsed": false
   },
   "outputs": [],
   "source": [
    "class robot:\n",
    "\n",
    "    # Default original position to (0, 0)\n",
    "    def __init__(self, x = 0, y = 0, verboseMovements = True):\n",
    "        self.originalPosition = (x, y)\n",
    "        self.x = x\n",
    "        self.y = y\n",
    "        self.verboseMovements = verboseMovements\n",
    "\n",
    "    def moveUp(self, stepCount):\n",
    "        self.y += stepCount\n",
    "        \n",
    "        if self.verboseMovements:\n",
    "            print('Moved %i steps up' % stepCount)\n",
    "        \n",
    "    def moveDown(self, stepCount):\n",
    "        self.y -= stepCount\n",
    "        \n",
    "        if self.verboseMovements:\n",
    "            print('Moved %i steps down' % stepCount)\n",
    "        \n",
    "    def moveRight(self, stepCount):\n",
    "        self.x += stepCount\n",
    "        \n",
    "        if self.verboseMovements:\n",
    "            print('Moved %i steps right' % stepCount)\n",
    "        \n",
    "    def moveLeft(self, stepCount):\n",
    "        self.x -= stepCount\n",
    "        \n",
    "        if self.verboseMovements:\n",
    "            print('Moved %i steps left' % stepCount)\n",
    "        \n",
    "    def getCurrentPosition(self):\n",
    "        return(self.x, self.y)\n",
    "    \n",
    "    def getCurrentDistanceFromOriginalPosition(self):\n",
    "        import math\n",
    "        \n",
    "        # Get current distance for each dimension.\n",
    "        currentXDistance = self.x - self.originalPosition[0]\n",
    "        currentYDistance = self.y - self.originalPosition[1]\n",
    "        \n",
    "        # Use Pythagorean Theorem to calculate current distance.\n",
    "        currentDistance = math.sqrt(math.pow(currentXDistance, 2) + math.pow(currentYDistance, 2))\n",
    "        \n",
    "        return(currentDistance)"
   ]
  },
  {
   "cell_type": "markdown",
   "metadata": {},
   "source": [
    "Display **Current Position** and **Current Distance** for the following sequence of steps, starting from **(0, 0)**:\n",
    "    \n",
    "`UP 5\n",
    "DOWN 3\n",
    "LEFT 3\n",
    "RIGHT 2`"
   ]
  },
  {
   "cell_type": "code",
   "execution_count": 47,
   "metadata": {
    "collapsed": false
   },
   "outputs": [
    {
     "name": "stdout",
     "output_type": "stream",
     "text": [
      "Original position: (0, 0)\n",
      "Moved 5 steps up\n",
      "Moved 3 steps down\n",
      "Moved 3 steps left\n",
      "Moved 2 steps right\n",
      "Current position: (-1, 2)\n",
      "Current distance from original position: 2.236\n"
     ]
    }
   ],
   "source": [
    "iRobot = robot()\n",
    "\n",
    "# Original position defaults to (0, 0), if not specified.\n",
    "print('Original position:', iRobot.originalPosition)\n",
    "\n",
    "# Specify sequence of movements.\n",
    "iRobot.moveUp(5)\n",
    "iRobot.moveDown(3)\n",
    "iRobot.moveLeft(3)\n",
    "iRobot.moveRight(2)\n",
    "\n",
    "# Print current positon.\n",
    "print('Current position:', iRobot.getCurrentPosition())\n",
    "\n",
    "# Print current distance from original positon.\n",
    "print('Current distance from original position:', round(iRobot.getCurrentDistanceFromOriginalPosition(), 3))"
   ]
  },
  {
   "cell_type": "markdown",
   "metadata": {},
   "source": [
    "Display **Current Position** and **Current Distance** for the following sequence of steps, starting from **(3, 4)**:\n",
    "    \n",
    "`LEFT 10\n",
    "DOWN 2\n",
    "UP 7\n",
    "RIGHT 5`"
   ]
  },
  {
   "cell_type": "code",
   "execution_count": 48,
   "metadata": {
    "collapsed": false
   },
   "outputs": [
    {
     "name": "stdout",
     "output_type": "stream",
     "text": [
      "Original position: (3, 4)\n",
      "Moved 10 steps left\n",
      "Moved 2 steps down\n",
      "Moved 7 steps up\n",
      "Moved 5 steps right\n",
      "Current position: (-2, 9)\n",
      "Current distance from original position: 7.071\n"
     ]
    }
   ],
   "source": [
    "iRobot = robot(3, 4)\n",
    "\n",
    "# Original position defaults to (0, 0), if not specified.\n",
    "print('Original position:', iRobot.originalPosition)\n",
    "\n",
    "# Specify sequence of movements.\n",
    "iRobot.moveLeft(10)\n",
    "iRobot.moveDown(2)\n",
    "iRobot.moveUp(7)\n",
    "iRobot.moveRight(5)\n",
    "\n",
    "# Print current positon.\n",
    "print('Current position:', iRobot.getCurrentPosition())\n",
    "\n",
    "# Print current distance from original positon.\n",
    "print('Current distance from original position:', round(iRobot.getCurrentDistanceFromOriginalPosition(), 3))"
   ]
  },
  {
   "cell_type": "markdown",
   "metadata": {},
   "source": [
    "Display **Current Position** and **Current Distance** for the following sequence of steps, starting from **(3, 4)**:\n",
    "    \n",
    "`LEFT 10\n",
    "DOWN 2\n",
    "UP 7\n",
    "RIGHT 5\n",
    "DOWN 9\n",
    "RIGHT 2`\n",
    "\n",
    "The preceding sequence of steps should direct the robot back to **(0, 0)**."
   ]
  },
  {
   "cell_type": "code",
   "execution_count": 49,
   "metadata": {
    "collapsed": false
   },
   "outputs": [
    {
     "name": "stdout",
     "output_type": "stream",
     "text": [
      "Original position: (3, 4)\n",
      "Moved 10 steps left\n",
      "Moved 2 steps down\n",
      "Moved 7 steps up\n",
      "Moved 5 steps right\n",
      "Moved 9 steps down\n",
      "Moved 2 steps right\n",
      "Current position: (0, 0)\n",
      "Current distance from original position: 5.0\n"
     ]
    }
   ],
   "source": [
    "iRobot = robot(3, 4)\n",
    "\n",
    "# Original position defaults to (0, 0), if not specified.\n",
    "print('Original position:', iRobot.originalPosition)\n",
    "\n",
    "# Specify sequence of movements.\n",
    "iRobot.moveLeft(10)\n",
    "iRobot.moveDown(2)\n",
    "iRobot.moveUp(7)\n",
    "iRobot.moveRight(5)\n",
    "iRobot.moveDown(9)\n",
    "iRobot.moveRight(2)\n",
    "\n",
    "# Print current positon.\n",
    "print('Current position:', iRobot.getCurrentPosition())\n",
    "\n",
    "# Print current distance from original positon.\n",
    "print('Current distance from original position:', round(iRobot.getCurrentDistanceFromOriginalPosition(), 3))"
   ]
  },
  {
   "cell_type": "markdown",
   "metadata": {},
   "source": [
    "Display **Current Position** and **Current Distance** for the following sequence of steps, starting from **(3, 4)**:\n",
    "    \n",
    "`LEFT 10\n",
    "DOWN 2\n",
    "UP 7\n",
    "RIGHT 5\n",
    "DOWN 5\n",
    "RIGHT 5`\n",
    "\n",
    "The preceding sequence of steps should direct the robot back to the original position **(3, 4)**."
   ]
  },
  {
   "cell_type": "code",
   "execution_count": 50,
   "metadata": {
    "collapsed": false
   },
   "outputs": [
    {
     "name": "stdout",
     "output_type": "stream",
     "text": [
      "Original position: (3, 4)\n",
      "Moved 10 steps left\n",
      "Moved 2 steps down\n",
      "Moved 7 steps up\n",
      "Moved 5 steps right\n",
      "Moved 5 steps down\n",
      "Moved 5 steps right\n",
      "Current position: (3, 4)\n",
      "Current distance from original position: 0.0\n"
     ]
    }
   ],
   "source": [
    "iRobot = robot(3, 4)\n",
    "\n",
    "# Original position defaults to (0, 0), if not specified.\n",
    "print('Original position:', iRobot.originalPosition)\n",
    "\n",
    "# Specify sequence of movements.\n",
    "iRobot.moveLeft(10)\n",
    "iRobot.moveDown(2)\n",
    "iRobot.moveUp(7)\n",
    "iRobot.moveRight(5)\n",
    "iRobot.moveDown(5)\n",
    "iRobot.moveRight(5)\n",
    "\n",
    "# Print current positon.\n",
    "print('Current position:', iRobot.getCurrentPosition())\n",
    "\n",
    "# Print current distance from original positon.\n",
    "print('Current distance from original position:', round(iRobot.getCurrentDistanceFromOriginalPosition(), 3))"
   ]
  }
 ],
 "metadata": {
  "kernelspec": {
   "display_name": "Python 3",
   "language": "python",
   "name": "python3"
  },
  "language_info": {
   "codemirror_mode": {
    "name": "ipython",
    "version": 3
   },
   "file_extension": ".py",
   "mimetype": "text/x-python",
   "name": "python",
   "nbconvert_exporter": "python",
   "pygments_lexer": "ipython3",
   "version": "3.5.2"
  }
 },
 "nbformat": 4,
 "nbformat_minor": 2
}
