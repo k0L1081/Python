{
 "cells": [
  {
   "cell_type": "code",
   "execution_count": 1,
   "metadata": {
    "collapsed": false
   },
   "outputs": [
    {
     "name": "stdout",
     "output_type": "stream",
     "text": [
      "1:3, 5:2, 12:1, 30:1\n",
      "1:3, 2:1, 3:1, 9:1\n"
     ]
    }
   ],
   "source": [
    "\"\"\"\n",
    " Count the frequency of each unique number occurring in the array and\n",
    " returns the output as a string with the unique numbers in ascending sorted\n",
    " order next to their counts.  e.g. for [1,30,1,1,5,12,5] the expected output\n",
    " would be '1:3, 5:2, 12:1, 30:1,'\n",
    "\n",
    "# Expected answers:\n",
    "# \"1:3, 5:2, 12:1, 30:1,\"\n",
    "# \"1:3, 2:1, 3:1, 9:1\"\n",
    "\n",
    "\"\"\"\n",
    "def f_count(in_arr):    \n",
    "    item_dict = {item:0 for item in list(set(in_arr))}\n",
    "    \n",
    "    for i in in_arr:\n",
    "        item_dict[i] += 1\n",
    "        \n",
    "    item_list = sorted([(int(key), value) for key, value in item_dict.items()])\n",
    "    item_list = [str(key) + ':' + str(value) for key, value in item_list]\n",
    "    item_list = ', '.join(item_list)\n",
    "\n",
    "    return(item_list)\n",
    "\n",
    "print(f_count([1,30,1,1,5,12,5]))\n",
    "print(f_count([1,1,1,2,9,3]))"
   ]
  }
 ],
 "metadata": {
  "kernelspec": {
   "display_name": "Python 3",
   "language": "python",
   "name": "python3"
  },
  "language_info": {
   "codemirror_mode": {
    "name": "ipython",
    "version": 3
   },
   "file_extension": ".py",
   "mimetype": "text/x-python",
   "name": "python",
   "nbconvert_exporter": "python",
   "pygments_lexer": "ipython3",
   "version": "3.5.2"
  }
 },
 "nbformat": 4,
 "nbformat_minor": 2
}
