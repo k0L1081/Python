{
 "cells": [
  {
   "cell_type": "markdown",
   "metadata": {},
   "source": [
    "** Sample rows from source file (page-views.csv) **\n",
    "\n",
    "1496253932,/search?q=geophysics,,1689<br>\n",
    "1496253946,/repository/1207,/search?q=geophysics,1689<br>\n",
    "1496253979,/repository/8057,/search?q=geophysics,1689<br>\n",
    "1496229649,/search?q=millstream,,7040<br>\n",
    "1496229668,/repository/8947,/search?q=millstream,7040<br>\n",
    "1496229692,/repository/7436,/search?q=millstream,7040<br>\n",
    "1496229666,/repository/4531,/search?q=millstream,7040<br>\n",
    "1496280938,/search?q=sibyllist,,4190<br>\n",
    "1496280958,/repository/8561,/search?q=sibyllist,4190<br>\n",
    "1496280949,/repository/1748,/search?q=sibyllist,4190<br>\n",
    "1496256457,/search?q=protocanonical,,214<br>\n",
    "1496256488,/repository/4345,/search?q=protocanonical,214<br>\n",
    "1496256490,/repository/2128,/search?q=protocanonical,214<br>\n",
    "1496256514,/repository/9783,/search?q=protocanonical,214<br>\n",
    "1496259900,/search?q=kerchunk,,2340<br>\n",
    "1496259937,/repository/6248,/search?q=kerchunk,2340<br>\n",
    "1496259941,/repository/5532,/search?q=kerchunk,2340<br>\n",
    "1496278788,/search?q=postulate,,1614<br>\n",
    "1496278829,/repository/1357,/search?q=postulate,1614<br>\n",
    "1496278811,/repository/3555,/search?q=postulate,1614<br>"
   ]
  },
  {
   "cell_type": "code",
   "execution_count": 1,
   "metadata": {
    "collapsed": false
   },
   "outputs": [],
   "source": [
    "# Import Package(s)\n",
    "import pandas as pd\n",
    "\n",
    "# Set csv_path: The path of the source file.\n",
    "csv_path = 'C:\\Temp\\page-views.csv'\n",
    "\n",
    "# Set top_N: The number of top records to return.\n",
    "top_N = 5\n",
    "\n",
    "pd.options.mode.chained_assignment = None"
   ]
  },
  {
   "cell_type": "code",
   "execution_count": 2,
   "metadata": {
    "collapsed": true
   },
   "outputs": [],
   "source": [
    "# Create function to load page views CSV into dataframe.\n",
    "def get_page_views(csv_path):\n",
    "\n",
    "    # Load page views CSV into df_page_views dataframe.\n",
    "    df_page_views = pd.read_csv(csv_path, header=None, names=['timestamp', 'path', 'referrer', 'cid'])\n",
    "    \n",
    "    # Replace NaN referrer values with empty string.\n",
    "    df_page_views['referrer'] = df_page_views['referrer'].fillna('')\n",
    "    \n",
    "    # Add query field to df_page_views data frame.\n",
    "    df_page_views = set_page_views_query(df_page_views)\n",
    "\n",
    "    return(df_page_views)"
   ]
  },
  {
   "cell_type": "code",
   "execution_count": 3,
   "metadata": {
    "collapsed": true
   },
   "outputs": [],
   "source": [
    "# Create function to create query field in data frame, using both path and referrer fields.\n",
    "def set_page_views_query(df_page_views):\n",
    "\n",
    "    # Create df_page_views_path data frame containing only relevant rows, filtering on path.\n",
    "    df_page_views_path = df_page_views[df_page_views['path'].str.startswith('/search?q=')]\n",
    "\n",
    "    # Create query column based on content of path.\n",
    "    df_page_views_path['query'] = df_page_views_path['path'].apply(lambda x: x.replace('/search?q=', '').strip())\n",
    "    \n",
    "    # Create df_page_views_referrer data frame containing only relevant rows, filtering on referrer.\n",
    "    df_page_views_referrer = df_page_views[df_page_views['referrer'].str.startswith('/search?q=')]\n",
    "\n",
    "    # Create query column based on content of referrer.\n",
    "    df_page_views_referrer['query'] = df_page_views_referrer['referrer'].apply(lambda x: x.replace('/search?q=', '').strip())\n",
    "\n",
    "    # Concatenate dataframes then return combined dataframe.\n",
    "    return(pd.concat([df_page_views_path, df_page_views_referrer]))"
   ]
  },
  {
   "cell_type": "code",
   "execution_count": 4,
   "metadata": {
    "collapsed": true
   },
   "outputs": [],
   "source": [
    "# Create function to compute query counts for both issued queries and query referrals.\n",
    "def get_top_query_counts(df_page_views, group_by, top_N = 5):\n",
    "    \n",
    "    #group_by = issued:\n",
    "    # Identify most frequently issued queries, including query counts.\n",
    "    \n",
    "    #group_by = referral:\n",
    "    # Indentify top queries by number of referrals, including click counts.\n",
    "    \n",
    "    # top:\n",
    "    # The number of top queries to return. Defaults to 5.\n",
    "    \n",
    "    # Validate group_by argument.\n",
    "    if (group_by not in ['issued', 'referral']):\n",
    "        print(\"Invalid 'group_by' value supplied. Please use 'issued' or referral'\")\n",
    "        return()\n",
    "        \n",
    "    # Set primary field.\n",
    "    query_source_field = ''\n",
    "    if (group_by == 'issued'):\n",
    "        query_source_field = 'path'\n",
    "    else:\n",
    "        query_source_field = 'referrer'\n",
    "\n",
    "    # Create df_filtered_page_views data frame containing only relevant rows:\n",
    "    # If group_by = 'issued' then filter on path field.\n",
    "    # If group_by = 'referral' then filter on referrer field.\n",
    "    df_filtered_page_views = df_page_views[df_page_views[query_source_field].str.startswith('/search?q=')]\n",
    "    \n",
    "    # Group by query.\n",
    "    df_filtered_page_views_groupby_query = df_filtered_page_views.groupby('query')[['query']].count()\n",
    "\n",
    "    # Rename query column to count.\n",
    "    df_filtered_page_views_groupby_query.columns = ['count']\n",
    "\n",
    "    # Sort by count in descending order.\n",
    "    df_filtered_page_views_groupby_query = df_filtered_page_views_groupby_query.sort_values(by = 'count', ascending=False)\n",
    "\n",
    "    # Reset the index.\n",
    "    df_filtered_page_views_groupby_query = df_filtered_page_views_groupby_query.reset_index()\n",
    "    \n",
    "    # Create rank column.\n",
    "    df_filtered_page_views_groupby_query['count_rank'] = df_filtered_page_views_groupby_query['count'].rank()\n",
    "    \n",
    "    # Retrieve the top 5 query count ranks.\n",
    "    lst_top_query_count_ranks = sorted(df_filtered_page_views_groupby_query['count_rank'].unique(), reverse=True)[:top_N]\n",
    "\n",
    "    # Filter the sorted and ranked results for the top 5 ranks.\n",
    "    df_top_queries = df_filtered_page_views_groupby_query.loc[df_filtered_page_views_groupby_query['count_rank']\n",
    "                                                            .isin(lst_top_query_count_ranks),\n",
    "                                                            ['query', 'count']]\n",
    "\n",
    "    return(df_top_queries)"
   ]
  },
  {
   "cell_type": "code",
   "execution_count": 5,
   "metadata": {
    "collapsed": true
   },
   "outputs": [],
   "source": [
    "# Create function to compute average duration for all queries.\n",
    "def get_session_average_duration(df_page_views):\n",
    "\n",
    "    # Assumption: Search session is defined as the duration of time between when a user issues a search\n",
    "    # for a given keyword and when the user clicks on the last referral from the same keyword.\n",
    "\n",
    "    # For the sake of this analysis, if a user issues another search,\n",
    "    # the analysis infers that a new session has been started.\n",
    "\n",
    "    # Add query field to page_views data frame.\n",
    "    df_page_views = set_page_views_query(df_page_views)\n",
    "\n",
    "    # Compute min and max timestamp for each session (grouped by cid and query).\n",
    "    df_page_views_groupby_session = df_page_views.groupby(['cid', 'query'])['timestamp'].agg(['min', 'max'])\n",
    "\n",
    "    # Add duration field.\n",
    "    df_page_views_groupby_session['duration'] = df_page_views_groupby_session['max'] - df_page_views_groupby_session['min']\n",
    "\n",
    "    return(round(df_page_views_groupby_session['duration'].mean(), 3))"
   ]
  },
  {
   "cell_type": "code",
   "execution_count": 6,
   "metadata": {
    "collapsed": false
   },
   "outputs": [
    {
     "name": "stdout",
     "output_type": "stream",
     "text": [
      "\n",
      "The top 5 most frequently issued queries (including query counts):\n",
      "                   query  count\n",
      "0                   crop     21\n",
      "1             entosphere     19\n",
      "2                Gaudete     17\n",
      "3               operette     16\n",
      "4               kerchunk     16\n",
      "5            hemosalpinx     16\n",
      "6            coachmaking     16\n",
      "7          contrabandage     16\n",
      "8             beaconless     16\n",
      "9   roentgenographically     15\n",
      "10         preconfinedly     15\n",
      "11               archaic     15\n",
      "12          trigonometry     15\n",
      "13               Natalia     15\n",
      "14             Argasidae     15\n",
      "\n",
      "The top 5 most frequently clicked queries (including click counts):\n",
      "           query  count\n",
      "0           crop     58\n",
      "1    hemosalpinx     47\n",
      "2       kerchunk     46\n",
      "3     entosphere     45\n",
      "4  contrabandage     44\n",
      "5        Natalia     44\n",
      "\n",
      "The average length (in seconds) of a search session (across all sessions):\n",
      "39.855\n"
     ]
    }
   ],
   "source": [
    "print('')\n",
    "print('The top ' + str(top_N) + ' most frequently issued queries (including query counts):')\n",
    "print(get_top_query_counts(get_page_views(csv_path), 'issued', top_N))\n",
    "\n",
    "print('')\n",
    "print('The top ' + str(top_N) + ' most frequently clicked queries (including click counts):')\n",
    "print(get_top_query_counts(get_page_views(csv_path), 'referral', top_N))\n",
    "\n",
    "print('')\n",
    "print('The average length (in seconds) of a search session (across all sessions):')\n",
    "print(get_session_average_duration(get_page_views(csv_path)))"
   ]
  }
 ],
 "metadata": {
  "kernelspec": {
   "display_name": "Python 3",
   "language": "python",
   "name": "python3"
  },
  "language_info": {
   "codemirror_mode": {
    "name": "ipython",
    "version": 3
   },
   "file_extension": ".py",
   "mimetype": "text/x-python",
   "name": "python",
   "nbconvert_exporter": "python",
   "pygments_lexer": "ipython3",
   "version": "3.5.2"
  }
 },
 "nbformat": 4,
 "nbformat_minor": 2
}
