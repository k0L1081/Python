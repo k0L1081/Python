{
 "cells": [
  {
   "cell_type": "code",
   "execution_count": 1,
   "metadata": {
    "collapsed": false
   },
   "outputs": [
    {
     "name": "stdout",
     "output_type": "stream",
     "text": [
      "[('acr', 'car'), ('acr', 'rac'), ('act', 'cat'), ('act', 'cat'), ('act', 'cta'), ('act', 'tac'), ('actt', 'catt'), ('adns', 'dans'), ('adns', 'dsan'), ('adns', 'sand'), ('ainr', 'rain'), ('anr', 'ran'), ('aorrw', 'arrow'), ('aorrw', 'worra'), ('eilnst', 'listen'), ('eilnst', 'silent')]\n"
     ]
    },
    {
     "data": {
      "text/plain": [
       "['car',\n",
       " 'rac',\n",
       " 'cat',\n",
       " 'cat',\n",
       " 'cta',\n",
       " 'tac',\n",
       " 'catt',\n",
       " 'dans',\n",
       " 'dsan',\n",
       " 'sand',\n",
       " 'rain',\n",
       " 'ran',\n",
       " 'arrow',\n",
       " 'worra',\n",
       " 'listen',\n",
       " 'silent']"
      ]
     },
     "execution_count": 1,
     "metadata": {},
     "output_type": "execute_result"
    }
   ],
   "source": [
    "# Output list with anagrams grouped next each other\n",
    "# Anagram: Word formed by rearranging the letters of a different word.\n",
    "words = ['cat', 'car', 'tac', 'cta', 'listen', 'sand', 'cat', 'arrow', 'dsan', 'catt', 'rac', 'dans', 'rain', 'ran',\n",
    "         'silent', 'worra']\n",
    "\n",
    "anagrams = []\n",
    "\n",
    "for word in words:\n",
    "    word_tuple = (''.join(sorted(word)), word)\n",
    "    anagrams.append(word_tuple)\n",
    "\n",
    "anagrams = sorted(anagrams, key = lambda x: x[0] + x[1])\n",
    "print(anagrams)\n",
    "\n",
    "[anagram[1] for anagram in anagrams]"
   ]
  }
 ],
 "metadata": {
  "kernelspec": {
   "display_name": "Python 3",
   "language": "python",
   "name": "python3"
  },
  "language_info": {
   "codemirror_mode": {
    "name": "ipython",
    "version": 3
   },
   "file_extension": ".py",
   "mimetype": "text/x-python",
   "name": "python",
   "nbconvert_exporter": "python",
   "pygments_lexer": "ipython3",
   "version": "3.5.2"
  }
 },
 "nbformat": 4,
 "nbformat_minor": 2
}
