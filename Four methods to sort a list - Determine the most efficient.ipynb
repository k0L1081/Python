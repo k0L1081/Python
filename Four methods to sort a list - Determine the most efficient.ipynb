{
 "cells": [
  {
   "cell_type": "markdown",
   "metadata": {},
   "source": [
    "### Demonstration of four methods to sort a list: Identify the most efficient method\n",
    "\n",
    "**Methods tested are as follows:**\n",
    "1. `sorted()` function\n",
    "2. Extended list slicing\n",
    "3. `reverse()` method\n",
    "4. `sort()` method"
   ]
  },
  {
   "cell_type": "markdown",
   "metadata": {},
   "source": [
    "**1. Sort list using `sorted()` function.**"
   ]
  },
  {
   "cell_type": "code",
   "execution_count": 37,
   "metadata": {
    "collapsed": false
   },
   "outputs": [
    {
     "name": "stdout",
     "output_type": "stream",
     "text": [
      "[0, 1, 2, 3, 4, 5, 6, 7, 8, 9, 10, 11, 12, 13, 14, 15, 16, 17, 18, 19]\n",
      "[19, 18, 17, 16, 15, 14, 13, 12, 11, 10, 9, 8, 7, 6, 5, 4, 3, 2, 1, 0]\n"
     ]
    },
    {
     "data": {
      "text/plain": [
       "2.0007217766371923"
      ]
     },
     "execution_count": 37,
     "metadata": {},
     "output_type": "execute_result"
    }
   ],
   "source": [
    "# Import package(s).\n",
    "import timeit\n",
    "\n",
    "# Create list.\n",
    "lst_numbers = list(range(20))\n",
    "print(lst_numbers)\n",
    "\n",
    "# Sort list using sorted() function.\n",
    "lst_numbers = sorted(lst_numbers, reverse=True)\n",
    "print(lst_numbers)\n",
    "\n",
    "# Create Python code for testing.\n",
    "code = '''\n",
    "lst_numbers = list(range(20))\n",
    "lst_numbers = sorted(lst_numbers, reverse=True)\n",
    "'''\n",
    "\n",
    "# Execute Python code 1,000,000 times and return duration.\n",
    "timeit.timeit(code, number=1000000)"
   ]
  },
  {
   "cell_type": "markdown",
   "metadata": {},
   "source": [
    "**2. Sort list using extended list slicing.**"
   ]
  },
  {
   "cell_type": "code",
   "execution_count": 32,
   "metadata": {
    "collapsed": false
   },
   "outputs": [
    {
     "name": "stdout",
     "output_type": "stream",
     "text": [
      "[0, 1, 2, 3, 4, 5, 6, 7, 8, 9, 10, 11, 12, 13, 14, 15, 16, 17, 18, 19]\n",
      "[19, 18, 17, 16, 15, 14, 13, 12, 11, 10, 9, 8, 7, 6, 5, 4, 3, 2, 1, 0]\n",
      "\n"
     ]
    },
    {
     "data": {
      "text/plain": [
       "0.8246288203396261"
      ]
     },
     "execution_count": 32,
     "metadata": {},
     "output_type": "execute_result"
    }
   ],
   "source": [
    "# Create list.\n",
    "lst_numbers = list(range(20))\n",
    "print(lst_numbers)\n",
    "\n",
    "# Sort list using extended list slicing.\n",
    "lst_numbers = lst_numbers[::-1]\n",
    "print(lst_numbers); print()\n",
    "\n",
    "# Create Python code for testing\n",
    "code = '''\n",
    "lst_numbers = list(range(20))\n",
    "lst_numbers = lst_numbers[::-1]\n",
    "'''\n",
    "\n",
    "# Execute Python code 1,000,000 times and return duration.\n",
    "timeit.timeit(code, number=1000000)"
   ]
  },
  {
   "cell_type": "markdown",
   "metadata": {},
   "source": [
    "**3. Sort list using `reverse()` method.**"
   ]
  },
  {
   "cell_type": "code",
   "execution_count": 34,
   "metadata": {
    "collapsed": false
   },
   "outputs": [
    {
     "name": "stdout",
     "output_type": "stream",
     "text": [
      "[0, 1, 2, 3, 4, 5, 6, 7, 8, 9, 10, 11, 12, 13, 14, 15, 16, 17, 18, 19]\n",
      "[19, 18, 17, 16, 15, 14, 13, 12, 11, 10, 9, 8, 7, 6, 5, 4, 3, 2, 1, 0]\n"
     ]
    },
    {
     "data": {
      "text/plain": [
       "0.662274113937201"
      ]
     },
     "execution_count": 34,
     "metadata": {},
     "output_type": "execute_result"
    }
   ],
   "source": [
    "# Create list.\n",
    "lst_numbers = list(range(20))\n",
    "print(lst_numbers)\n",
    "\n",
    "# Sort list using reverse() method.\n",
    "lst_numbers.reverse()\n",
    "print(lst_numbers)\n",
    "\n",
    "# Create Python code for testing\n",
    "code = '''\n",
    "lst_numbers = list(range(20))\n",
    "lst_numbers.reverse()\n",
    "'''\n",
    "\n",
    "# Execute Python code 1,000,000 times and return duration.\n",
    "timeit.timeit(code, number=1000000)"
   ]
  },
  {
   "cell_type": "markdown",
   "metadata": {},
   "source": [
    "**4. Sort list using `sort()` method.**"
   ]
  },
  {
   "cell_type": "code",
   "execution_count": 35,
   "metadata": {
    "collapsed": false
   },
   "outputs": [
    {
     "name": "stdout",
     "output_type": "stream",
     "text": [
      "[0, 1, 2, 3, 4, 5, 6, 7, 8, 9, 10, 11, 12, 13, 14, 15, 16, 17, 18, 19]\n",
      "[19, 18, 17, 16, 15, 14, 13, 12, 11, 10, 9, 8, 7, 6, 5, 4, 3, 2, 1, 0]\n"
     ]
    },
    {
     "data": {
      "text/plain": [
       "1.459661100782455"
      ]
     },
     "execution_count": 35,
     "metadata": {},
     "output_type": "execute_result"
    }
   ],
   "source": [
    "# Create list.\n",
    "lst_numbers = list(range(20))\n",
    "print(lst_numbers)\n",
    "\n",
    "# Sort list using sort() method.\n",
    "lst_numbers.sort(reverse=True)\n",
    "print(lst_numbers)\n",
    "\n",
    "# Create Python code for testing\n",
    "code = '''\n",
    "lst_numbers = list(range(20))\n",
    "lst_numbers.sort(reverse=True)\n",
    "'''\n",
    "\n",
    "# Execute Python code 1,000,000 times and return duration.\n",
    "timeit.timeit(code, number=1000000)"
   ]
  },
  {
   "cell_type": "markdown",
   "metadata": {},
   "source": [
    "Based on the preceding results, the ranking of list sort methods by decreasing duration is as follows:\n",
    "1. `reverse()` method: 0.662\n",
    "2. Extended list slicing: 0.825\n",
    "3. `sort()` method: 1.46\n",
    "4. `sorted()` function: 2.001\n",
    "\n",
    "Using the `reverse()` method is the most effective way to sort a list. The least effective way of sorting a list is the `sorted()` function. In fact, the `reverse()` method performs over **3x** faster than the `sorted()` function."
   ]
  }
 ],
 "metadata": {
  "kernelspec": {
   "display_name": "Python 3",
   "language": "python",
   "name": "python3"
  },
  "language_info": {
   "codemirror_mode": {
    "name": "ipython",
    "version": 3
   },
   "file_extension": ".py",
   "mimetype": "text/x-python",
   "name": "python",
   "nbconvert_exporter": "python",
   "pygments_lexer": "ipython3",
   "version": "3.5.2"
  }
 },
 "nbformat": 4,
 "nbformat_minor": 2
}
