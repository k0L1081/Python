{
 "cells": [
  {
   "cell_type": "markdown",
   "metadata": {},
   "source": [
    "### Program to read lines of log file and output the average runtime of all operations ###"
   ]
  },
  {
   "cell_type": "code",
   "execution_count": 2,
   "metadata": {
    "collapsed": true
   },
   "outputs": [],
   "source": [
    "# Import package(s).\n",
    "import numpy as np\n",
    "from datetime import datetime"
   ]
  },
  {
   "cell_type": "markdown",
   "metadata": {},
   "source": [
    "** Sample operation.txt content: Source file for average computation<br> **\n",
    "\n",
    "2017-02-01T10:00 Operation ABC Start<br>\n",
    "2017-02-01T10:01 Operation ABC End<br>\n",
    "2017-02-01T10:02 Operation DEF Start<br>\n",
    "2017-02-01T10:08 Operation XYZ Start<br>\n",
    "2017-02-01T20:09 Operation WXY Start<br>\n",
    "2017-02-01T20:10 Operation XYZ End<br>\n",
    "2017-02-01T20:12 Operation WXY End"
   ]
  },
  {
   "cell_type": "code",
   "execution_count": 3,
   "metadata": {
    "collapsed": false
   },
   "outputs": [],
   "source": [
    "# Declare variable(s).\n",
    "Operations = {}\n",
    "\n",
    "# Open file.\n",
    "MyFile = open(r\"C:\\Temp\\operation.txt\", \"r\")"
   ]
  },
  {
   "cell_type": "code",
   "execution_count": 4,
   "metadata": {
    "collapsed": false
   },
   "outputs": [
    {
     "name": "stdout",
     "output_type": "stream",
     "text": [
      "2017-02-01T10:00 ABC\n",
      "2017-02-01T10:01 ABC\n",
      "2017-02-01T10:02 DEF\n",
      "2017-02-01T10:08 XYZ\n",
      "2017-02-01T20:09 WXY\n",
      "2017-02-01T20:10 XYZ\n",
      "2017-02-01T20:12 WXY\n"
     ]
    },
    {
     "data": {
      "text/plain": [
       "{'ABC': ['2017-02-01T10:00', '2017-02-01T10:01'],\n",
       " 'DEF': ['2017-02-01T10:02', None],\n",
       " 'WXY': ['2017-02-01T20:09', '2017-02-01T20:12'],\n",
       " 'XYZ': ['2017-02-01T10:08', '2017-02-01T20:10']}"
      ]
     },
     "execution_count": 4,
     "metadata": {},
     "output_type": "execute_result"
    }
   ],
   "source": [
    "# For each line in file.\n",
    "for line in MyFile:    \n",
    "    # Retrieve the first item in line: OperationTime\n",
    "    OperationTime = line.split()[0]\n",
    "    \n",
    "    # Retrieve the third item in line: OperationName\n",
    "    OperationName = line.split()[2]\n",
    "    \n",
    "    print(OperationTime, OperationName)\n",
    "    \n",
    "    # If OperationName is not in the dictionary of operations,\n",
    "    # Add OperationName to dictionary.\n",
    "    if OperationName not in Operations:\n",
    "        # Set value of dictionary entry to list of first time and None.\n",
    "        Operations[OperationName] = [OperationTime, None]\n",
    "        \n",
    "    # If OperationName is in the dictionary of operations,\n",
    "    # Update OperationName value in dictionary.\n",
    "    else:\n",
    "    # Set value of dictionary entry to list of existing time and second time.\n",
    "        Operations[OperationName] = [Operations[OperationName][0], OperationTime]\n",
    "        \n",
    "Operations"
   ]
  },
  {
   "cell_type": "code",
   "execution_count": 5,
   "metadata": {
    "collapsed": false
   },
   "outputs": [
    {
     "name": "stdout",
     "output_type": "stream",
     "text": [
      "['2017-02-01T10:00', '2017-02-01T10:01']\n",
      "['2017-02-01T20:09', '2017-02-01T20:12']\n",
      "['2017-02-01T10:02', None]\n",
      "['2017-02-01T10:08', '2017-02-01T20:10']\n"
     ]
    }
   ],
   "source": [
    "for times in Operations.values():\n",
    "    print(times)"
   ]
  },
  {
   "cell_type": "code",
   "execution_count": 6,
   "metadata": {
    "collapsed": false
   },
   "outputs": [
    {
     "name": "stdout",
     "output_type": "stream",
     "text": [
      "[1.0, 3.0, 0.0, 602.0]\n",
      "Average Run Time: 151.5\n"
     ]
    }
   ],
   "source": [
    "# Declare variable(s).\n",
    "durations = []\n",
    "\n",
    "# For each value (Two item list of times) in Operations dictionary.\n",
    "for times in Operations.values():\n",
    "    # Set duration to the time difference.\n",
    "\n",
    "    # Assumption #1: 2nd time - 1st time = duration\n",
    "\n",
    "    # Assumption #2: The times are listed in sequential order.\n",
    "    # 2nd time >= 1st time.\n",
    "    # duration = times[1] - times[0]\n",
    "\n",
    "    DateTimeFormat = \"%Y-%m-%dT%H:%M\"\n",
    "    \n",
    "    if (times[1] is None):\n",
    "        times[1] = times[0]\n",
    "    duration = datetime.strptime(times[1], DateTimeFormat) - datetime.strptime(times[0], DateTimeFormat)\n",
    "    \n",
    "    duration_minutes = duration.total_seconds() / 60\n",
    "    \n",
    "    # Append each duration to durations list.\n",
    "    durations.append(duration_minutes)\n",
    "\n",
    "print(durations)\n",
    "\n",
    "# Use numpy's mean() function to calculate the average of the durations.\n",
    "AverageRunTimeMinutes = np.mean(durations)\n",
    "print('Average Run Time:', AverageRunTimeMinutes)"
   ]
  }
 ],
 "metadata": {
  "kernelspec": {
   "display_name": "Python 3",
   "language": "python",
   "name": "python3"
  },
  "language_info": {
   "codemirror_mode": {
    "name": "ipython",
    "version": 3
   },
   "file_extension": ".py",
   "mimetype": "text/x-python",
   "name": "python",
   "nbconvert_exporter": "python",
   "pygments_lexer": "ipython3",
   "version": "3.5.2"
  }
 },
 "nbformat": 4,
 "nbformat_minor": 2
}
