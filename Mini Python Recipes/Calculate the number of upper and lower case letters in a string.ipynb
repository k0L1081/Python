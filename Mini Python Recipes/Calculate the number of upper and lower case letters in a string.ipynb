{
 "cells": [
  {
   "cell_type": "markdown",
   "metadata": {},
   "source": [
    "### Calculate the number of upper case letters and lower case letters in a string. ###\n",
    "\n",
    "E.g., the following input: The United States of America (USA), commonly known as the United States (U.S.) or America, is a federal republic composed of 50 states, a federal district, five major self-governing territories, and various possessions.\n",
    "\n",
    "Should produce the following output:<br>\n",
    "UPPER CASE: 12<br>\n",
    "LOWER CASE: 160<br>"
   ]
  },
  {
   "cell_type": "markdown",
   "metadata": {},
   "source": [
    "Perform computation using **list comprehension** and string methods."
   ]
  },
  {
   "cell_type": "code",
   "execution_count": 13,
   "metadata": {
    "collapsed": true
   },
   "outputs": [],
   "source": [
    "def display_case_count(s_string):\n",
    "    print('UPPER CASE:', len([character for character in s_string if character.isupper()]))\n",
    "    print('LOWER CASE:', len([character for character in s_string if character.islower()]))"
   ]
  },
  {
   "cell_type": "code",
   "execution_count": 14,
   "metadata": {
    "collapsed": false
   },
   "outputs": [
    {
     "name": "stdout",
     "output_type": "stream",
     "text": [
      "UPPER CASE: 12\n",
      "LOWER CASE: 160\n"
     ]
    }
   ],
   "source": [
    "s_string = 'The United States of America (USA), commonly known as the United States (U.S.) or America, is a federal \\\n",
    "republic composed of 50 states, a federal district, five major self-governing territories, and various possessions.'\n",
    "\n",
    "display_case_count(s_string)"
   ]
  },
  {
   "cell_type": "code",
   "execution_count": 15,
   "metadata": {
    "collapsed": false
   },
   "outputs": [
    {
     "name": "stdout",
     "output_type": "stream",
     "text": [
      "UPPER CASE: 7\n",
      "LOWER CASE: 59\n"
     ]
    }
   ],
   "source": [
    "s_string = 'The capital is Washington, D.C., and the largest city by population is New York City.'\n",
    "\n",
    "display_case_count(s_string)"
   ]
  }
 ],
 "metadata": {
  "kernelspec": {
   "display_name": "Python 3",
   "language": "python",
   "name": "python3"
  },
  "language_info": {
   "codemirror_mode": {
    "name": "ipython",
    "version": 3
   },
   "file_extension": ".py",
   "mimetype": "text/x-python",
   "name": "python",
   "nbconvert_exporter": "python",
   "pygments_lexer": "ipython3",
   "version": "3.5.2"
  }
 },
 "nbformat": 4,
 "nbformat_minor": 2
}
