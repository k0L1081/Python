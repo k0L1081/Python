{
 "cells": [
  {
   "cell_type": "markdown",
   "metadata": {},
   "source": [
    "### Define a class with a generator which can iterate the numbers, which are divisible by 7, between a given range 0 and n."
   ]
  },
  {
   "cell_type": "markdown",
   "metadata": {},
   "source": [
    "Create generator (use `yield` statement) to iterate through multiples.\n",
    "\n",
    "`yield` is similar to `return`. Difference is that function continues to execute with `yield`."
   ]
  },
  {
   "cell_type": "code",
   "execution_count": 1,
   "metadata": {},
   "outputs": [],
   "source": [
    "class multiples():\n",
    "    \n",
    "    def __init__(self, start, end, divisor):\n",
    "        self.start = start\n",
    "        self.end = end\n",
    "        self.divisor = divisor\n",
    "    \n",
    "    def get_multiples(self):\n",
    "        for number in range(self.start, self.end + 1):\n",
    "            if number % self.divisor == 0:\n",
    "                yield number\n",
    "\n",
    "assert [multiple for multiple in multiples(start=1, end=10, divisor=3).get_multiples()] == [3, 6, 9]\n",
    "assert [multiple for multiple in multiples(start=5, end=20, divisor=5).get_multiples()] == [5, 10, 15, 20]"
   ]
  },
  {
   "cell_type": "markdown",
   "metadata": {},
   "source": [
    "Get multiples of 7 between 0 and 100."
   ]
  },
  {
   "cell_type": "code",
   "execution_count": 2,
   "metadata": {},
   "outputs": [
    {
     "data": {
      "text/plain": [
       "'0, 7, 14, 21, 28, 35, 42, 49, 56, 63, 70, 77, 84, 91, 98'"
      ]
     },
     "execution_count": 2,
     "metadata": {},
     "output_type": "execute_result"
    }
   ],
   "source": [
    "', '.join([str(multiple) for multiple in multiples(start=0, end=100, divisor=7).get_multiples()])"
   ]
  }
 ],
 "metadata": {
  "kernelspec": {
   "display_name": "Python 3",
   "language": "python",
   "name": "python3"
  },
  "language_info": {
   "codemirror_mode": {
    "name": "ipython",
    "version": 3
   },
   "file_extension": ".py",
   "mimetype": "text/x-python",
   "name": "python",
   "nbconvert_exporter": "python",
   "pygments_lexer": "ipython3",
   "version": "3.7.4"
  }
 },
 "nbformat": 4,
 "nbformat_minor": 2
}
