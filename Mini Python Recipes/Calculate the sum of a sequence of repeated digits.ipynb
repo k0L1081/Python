{
 "cells": [
  {
   "cell_type": "markdown",
   "metadata": {},
   "source": [
    "### Calculate the sum of a sequence of repeated digits. ###\n",
    "\n",
    "For a given digit, a, compute the value of a + aa + aaa + aaaa + ... for a specified number of iterations.\n",
    "\n",
    "E.g., specifying digit 9 as input, over n = 4 iterations should produce 11106.\n",
    "\n",
    "The output is based on the sum of a sequence of repeated 9s, repeated 3 (4-1) times:\n",
    "9 + 99 + 999 + 9999"
   ]
  },
  {
   "cell_type": "markdown",
   "metadata": {},
   "source": [
    "Perform computation using **for loop**."
   ]
  },
  {
   "cell_type": "code",
   "execution_count": 1,
   "metadata": {
    "collapsed": false
   },
   "outputs": [],
   "source": [
    "def get_repeated_sum(digit = 9, n = 4):\n",
    "    s_sum = 0\n",
    "\n",
    "    for i in range(1, n + 1):\n",
    "        s_sum += int(str(digit) * i)\n",
    "    \n",
    "    return(s_sum)"
   ]
  },
  {
   "cell_type": "code",
   "execution_count": 2,
   "metadata": {
    "collapsed": false
   },
   "outputs": [
    {
     "data": {
      "text/plain": [
       "11106"
      ]
     },
     "execution_count": 2,
     "metadata": {},
     "output_type": "execute_result"
    }
   ],
   "source": [
    "get_repeated_sum(9, 4)"
   ]
  },
  {
   "cell_type": "markdown",
   "metadata": {},
   "source": [
    "Perform computation using **list comprehension**."
   ]
  },
  {
   "cell_type": "code",
   "execution_count": 3,
   "metadata": {
    "collapsed": false
   },
   "outputs": [],
   "source": [
    "def get_repeated_sum_v2(digit = 9, n = 4):\n",
    "    s_sum = sum([int(str(digit) * i) for i in range(1, n + 1)])\n",
    "    \n",
    "    return(s_sum)"
   ]
  },
  {
   "cell_type": "code",
   "execution_count": 4,
   "metadata": {
    "collapsed": false
   },
   "outputs": [
    {
     "data": {
      "text/plain": [
       "11106"
      ]
     },
     "execution_count": 4,
     "metadata": {},
     "output_type": "execute_result"
    }
   ],
   "source": [
    "get_repeated_sum_v2(9, 4)"
   ]
  }
 ],
 "metadata": {
  "kernelspec": {
   "display_name": "Python 3",
   "language": "python",
   "name": "python3"
  },
  "language_info": {
   "codemirror_mode": {
    "name": "ipython",
    "version": 3
   },
   "file_extension": ".py",
   "mimetype": "text/x-python",
   "name": "python",
   "nbconvert_exporter": "python",
   "pygments_lexer": "ipython3",
   "version": "3.5.2"
  }
 },
 "nbformat": 4,
 "nbformat_minor": 2
}
