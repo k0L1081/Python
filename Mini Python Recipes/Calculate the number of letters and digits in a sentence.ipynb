{
 "cells": [
  {
   "cell_type": "markdown",
   "metadata": {},
   "source": [
    "### Calculate the number of letters and digits in a sentence.###\n",
    "\n",
    "E.g., The following input: hello world! 123\n",
    "\n",
    "Should produce the following output:\n",
    "\n",
    "Letters: 10<br>\n",
    "Digits: 3"
   ]
  },
  {
   "cell_type": "code",
   "execution_count": 17,
   "metadata": {
    "collapsed": true
   },
   "outputs": [],
   "source": [
    "def print_letters_digits_in_sentence(sentence):\n",
    "    letter_count = 0\n",
    "    digit_count = 0\n",
    "    \n",
    "    for character in sentence:\n",
    "        if character.isalpha():\n",
    "            letter_count += 1\n",
    "        elif character.isnumeric():\n",
    "            digit_count += 1\n",
    "    \n",
    "    print('Letters:', str(letter_count))\n",
    "    print('Digits:', str(digit_count))"
   ]
  },
  {
   "cell_type": "code",
   "execution_count": 18,
   "metadata": {
    "collapsed": false
   },
   "outputs": [
    {
     "name": "stdout",
     "output_type": "stream",
     "text": [
      "Letters: 10\n",
      "Digits: 3\n"
     ]
    }
   ],
   "source": [
    "print_letters_digits_in_sentence('hello world! 123')"
   ]
  },
  {
   "cell_type": "code",
   "execution_count": 19,
   "metadata": {
    "collapsed": false
   },
   "outputs": [
    {
     "name": "stdout",
     "output_type": "stream",
     "text": [
      "Letters: 51\n",
      "Digits: 3\n"
     ]
    }
   ],
   "source": [
    "print_letters_digits_in_sentence('There are 50 states in the USA. There are 5 boroughs in New York City.')"
   ]
  },
  {
   "cell_type": "markdown",
   "metadata": {},
   "source": [
    "### Perform above computation using string comprehension.###"
   ]
  },
  {
   "cell_type": "code",
   "execution_count": 20,
   "metadata": {
    "collapsed": false
   },
   "outputs": [],
   "source": [
    "def print_letters_digits_in_sentence_v2(sentence):\n",
    "    letter_count = len([character for character in sentence if character.isalpha()])\n",
    "    digit_count = len([character for character in sentence if character.isnumeric()])\n",
    "\n",
    "    print('Letters:', str(letter_count))\n",
    "    print('Digits:', str(digit_count))"
   ]
  },
  {
   "cell_type": "code",
   "execution_count": 21,
   "metadata": {
    "collapsed": false
   },
   "outputs": [
    {
     "name": "stdout",
     "output_type": "stream",
     "text": [
      "Letters: 10\n",
      "Digits: 3\n"
     ]
    }
   ],
   "source": [
    "print_letters_digits_in_sentence_v2('hello world! 123')"
   ]
  },
  {
   "cell_type": "code",
   "execution_count": 22,
   "metadata": {
    "collapsed": false
   },
   "outputs": [
    {
     "name": "stdout",
     "output_type": "stream",
     "text": [
      "Letters: 51\n",
      "Digits: 3\n"
     ]
    }
   ],
   "source": [
    "print_letters_digits_in_sentence_v2('There are 50 states in the USA. There are 5 boroughs in New York City.')"
   ]
  }
 ],
 "metadata": {
  "kernelspec": {
   "display_name": "Python 3",
   "language": "python",
   "name": "python3"
  },
  "language_info": {
   "codemirror_mode": {
    "name": "ipython",
    "version": 3
   },
   "file_extension": ".py",
   "mimetype": "text/x-python",
   "name": "python",
   "nbconvert_exporter": "python",
   "pygments_lexer": "ipython3",
   "version": "3.5.2"
  }
 },
 "nbformat": 4,
 "nbformat_minor": 2
}
