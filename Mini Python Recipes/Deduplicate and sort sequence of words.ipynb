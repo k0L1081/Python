{
 "cells": [
  {
   "cell_type": "markdown",
   "metadata": {},
   "source": [
    "### For a sequence of whitespace separated words as input, print the words after removing all duplicate words and sorting them alphanumerically. ###\n",
    "\n",
    "For example, the following input: *hello world and practice makes perfect and hello world again*\n",
    "\n",
    "Should produce the following output: *again and hello makes perfect practice world*\n",
    "\n",
    "Perform computation using **set()** to deduplicate list."
   ]
  },
  {
   "cell_type": "code",
   "execution_count": 9,
   "metadata": {
    "collapsed": false
   },
   "outputs": [
    {
     "data": {
      "text/plain": [
       "'again and hello makes perfect practice world'"
      ]
     },
     "execution_count": 9,
     "metadata": {},
     "output_type": "execute_result"
    }
   ],
   "source": [
    "def deduplicate_and_sort_words(words):\n",
    "    words = words.split()\n",
    "    words = [word for word in set(words)]\n",
    "    words = sorted(words)\n",
    "    return(' '.join(words))\n",
    "\n",
    "deduplicate_and_sort_words('hello world and practice makes perfect and hello world again')"
   ]
  },
  {
   "cell_type": "markdown",
   "metadata": {},
   "source": [
    "Perform same computation using **list comprehension**."
   ]
  },
  {
   "cell_type": "code",
   "execution_count": 11,
   "metadata": {
    "collapsed": false
   },
   "outputs": [
    {
     "data": {
      "text/plain": [
       "'again and hello makes perfect practice world'"
      ]
     },
     "execution_count": 11,
     "metadata": {},
     "output_type": "execute_result"
    }
   ],
   "source": [
    "def deduplicate_and_sort_words_v2(words):\n",
    "    words = [word for word in sorted(set(words.split()))]\n",
    "    return(' '.join(words))\n",
    "\n",
    "deduplicate_and_sort_words_v2('hello world and practice makes perfect and hello world again')"
   ]
  },
  {
   "cell_type": "markdown",
   "metadata": {},
   "source": [
    "Perform same computation using **numpy**."
   ]
  },
  {
   "cell_type": "code",
   "execution_count": 16,
   "metadata": {
    "collapsed": false
   },
   "outputs": [
    {
     "data": {
      "text/plain": [
       "'again and hello makes perfect practice world'"
      ]
     },
     "execution_count": 16,
     "metadata": {},
     "output_type": "execute_result"
    }
   ],
   "source": [
    "def deduplicate_and_sort_words_v3(words):\n",
    "    import numpy as np\n",
    "    \n",
    "    words = np.sort(np.unique(words.split()))\n",
    "    return(' '.join(words))\n",
    "\n",
    "deduplicate_and_sort_words_v3('hello world and practice makes perfect and hello world again')"
   ]
  }
 ],
 "metadata": {
  "kernelspec": {
   "display_name": "Python 3",
   "language": "python",
   "name": "python3"
  },
  "language_info": {
   "codemirror_mode": {
    "name": "ipython",
    "version": 3
   },
   "file_extension": ".py",
   "mimetype": "text/x-python",
   "name": "python",
   "nbconvert_exporter": "python",
   "pygments_lexer": "ipython3",
   "version": "3.5.2"
  }
 },
 "nbformat": 4,
 "nbformat_minor": 2
}
