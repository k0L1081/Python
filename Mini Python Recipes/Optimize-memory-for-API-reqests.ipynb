{
 "cells": [
  {
   "cell_type": "markdown",
   "id": "e87f6475",
   "metadata": {},
   "source": [
    "# Optimize memory for API reqests #\n",
    "\n",
    "In a scenario where you perform multiple API requests in *rapid succession,* you might be required to actively clean up memory, in order to avoid running out of memory.\n",
    "\n",
    "Python is great at garbage collection.\n",
    "\n",
    "However, in certain scenarios, such as when you execute thousands of API requests per second in a single RAM space, you might need to perform active garbage collection in your program.\n",
    "\n",
    "**Techniques to actively clean up memory:**\n",
    "\n",
    "1. Use context manager:[`with`](#1)\n",
    "\n",
    "\n",
    "2. Persist to storage: [`json.dump`](#2a), [`f.write`](#2b)\n",
    "\n",
    "\n",
    "3. Scope lifespan of variables as tightly as possible: [Use functions](#3)\n",
    "\n",
    "\n",
    "4. Explicitly delete large objects: [`del`](#4)\n",
    "\n",
    "\n",
    "5. Run garbage collection: [`gc.collect()`](#5)"
   ]
  },
  {
   "cell_type": "markdown",
   "id": "f2f0565d",
   "metadata": {},
   "source": [
    "## Import Libraries + Initialize Key Variables + Perform Setups ##"
   ]
  },
  {
   "cell_type": "code",
   "execution_count": 1,
   "id": "b872f56f",
   "metadata": {},
   "outputs": [],
   "source": [
    "!pip install langdetect -q\n",
    "\n",
    "import gc\n",
    "import json\n",
    "import os\n",
    "import pprint\n",
    "import requests\n",
    "\n",
    "from langdetect import detect\n",
    "\n",
    "countries_all = 'https://restcountries.com/v3.1/all'\n",
    "\n",
    "target_file_name = 'countries.json'\n",
    "target_file_name_2 = 'countries_2.json'\n",
    "\n",
    "target_directory_path = os.getenv('DOWNLOADS_PATH')\n",
    "\n",
    "# Create target directory.\n",
    "if not(os.path.exists(target_directory_path)):\n",
    "  os.makedirs(target_directory_path)\n",
    "\n",
    "target_file_path = os.path.join(target_directory_path, target_file_name)\n",
    "\n",
    "target_file_path_2 = os.path.join(target_directory_path, target_file_name_2)\n",
    "\n",
    "request_success_message = 'Request was successful: Received Success 200 Status Code.'\n",
    "request_not_success_message = 'Request was not successful.'"
   ]
  },
  {
   "cell_type": "markdown",
   "id": "d60f315f",
   "metadata": {},
   "source": [
    "#### Create function to detect whether text is English. ####"
   ]
  },
  {
   "cell_type": "code",
   "execution_count": 2,
   "id": "e8b78633",
   "metadata": {},
   "outputs": [],
   "source": [
    "def is_english(text):\n",
    "\n",
    "  if detect(text) == 'en':\n",
    "    return True\n",
    "  else:\n",
    "    return False"
   ]
  },
  {
   "cell_type": "code",
   "execution_count": 3,
   "id": "01acc10d",
   "metadata": {},
   "outputs": [
    {
     "name": "stdout",
     "output_type": "stream",
     "text": [
      "República Federativa do Brasil is English: False\n",
      "\n",
      "Federative Republic of Brazil is English: True\n",
      "\n",
      "Republic of Moldova is English: True\n",
      "\n",
      "Republica Moldova is English: False\n",
      "\n",
      "Hashemite Kingdom of Jordan is English: True\n",
      "\n",
      "al-Mamlakah al-Urdunīyah al-Hāshimīyah is English: False\n",
      "\n",
      "United States of America is English: True\n",
      "\n"
     ]
    }
   ],
   "source": [
    "text = 'República Federativa do Brasil'\n",
    "print(f'{text} is English: {is_english(text)}\\n')\n",
    "\n",
    "text = 'Federative Republic of Brazil'\n",
    "print(f'{text} is English: {is_english(text)}\\n')\n",
    "\n",
    "text = 'Republic of Moldova'\n",
    "print(f'{text} is English: {is_english(text)}\\n')\n",
    "\n",
    "text = 'Republica Moldova'\n",
    "print(f'{text} is English: {is_english(text)}\\n')\n",
    "\n",
    "text = 'Hashemite Kingdom of Jordan'\n",
    "print(f'{text} is English: {is_english(text)}\\n')\n",
    "\n",
    "text = 'al-Mamlakah al-Urdunīyah al-Hāshimīyah'\n",
    "print(f'{text} is English: {is_english(text)}\\n')\n",
    "\n",
    "text = 'United States of America'\n",
    "print(f'{text} is English: {is_english(text)}\\n')"
   ]
  },
  {
   "cell_type": "markdown",
   "id": "5302f91a",
   "metadata": {},
   "source": [
    "## GET API request ##"
   ]
  },
  {
   "cell_type": "code",
   "execution_count": 4,
   "id": "c11df170",
   "metadata": {},
   "outputs": [
    {
     "name": "stdout",
     "output_type": "stream",
     "text": [
      "Request was successful: Received Success 200 Status Code.\n"
     ]
    }
   ],
   "source": [
    "countries_response = requests.get('https://restcountries.com/v3.1/all')\n",
    "\n",
    "if countries_response.status_code == 200:\n",
    "  print(request_success_message)\n",
    "else:\n",
    "  print(request_not_success_message)"
   ]
  },
  {
   "cell_type": "code",
   "execution_count": 5,
   "id": "1d46db53",
   "metadata": {},
   "outputs": [
    {
     "name": "stdout",
     "output_type": "stream",
     "text": [
      "<class 'list'>\n",
      "250\n"
     ]
    }
   ],
   "source": [
    "# Print type of response JSON.\n",
    "print(type(countries_response.json()))\n",
    "\n",
    "# Print length of response JSON.\n",
    "print(len(countries_response.json()))"
   ]
  },
  {
   "cell_type": "code",
   "execution_count": 6,
   "id": "9ad4cd8f",
   "metadata": {},
   "outputs": [
    {
     "name": "stdout",
     "output_type": "stream",
     "text": [
      "{'altSpellings': ['NU'],\n",
      " 'area': 260.0,\n",
      " 'capital': ['Alofi'],\n",
      " 'capitalInfo': {'latlng': [-19.02, -169.92]},\n",
      " 'car': {'side': 'left', 'signs': ['NZ']},\n",
      " 'cca2': 'NU',\n",
      " 'cca3': 'NIU',\n",
      " 'ccn3': '570',\n",
      " 'coatOfArms': {},\n",
      " 'continents': ['Oceania'],\n",
      " 'currencies': {'NZD': {'name': 'New Zealand dollar', 'symbol': '$'}},\n",
      " 'demonyms': {'eng': {'f': 'Niuean', 'm': 'Niuean'},\n",
      "              'fra': {'f': 'Niuéenne', 'm': 'Niuéen'}},\n",
      " 'flag': '🇳🇺',\n",
      " 'flags': {'png': 'https://flagcdn.com/w320/nu.png',\n",
      "           'svg': 'https://flagcdn.com/nu.svg'},\n",
      " 'idd': {'root': '+6', 'suffixes': ['83']},\n",
      " 'independent': False,\n",
      " 'landlocked': False,\n",
      " 'languages': {'eng': 'English', 'niu': 'Niuean'},\n",
      " 'latlng': [-19.03333333, -169.86666666],\n",
      " 'maps': {'googleMaps': 'https://goo.gl/maps/xFgdzs3E55Rk1y8P9',\n",
      "          'openStreetMaps': 'https://www.openstreetmap.org/relation/1558556'},\n",
      " 'name': {'common': 'Niue',\n",
      "          'nativeName': {'eng': {'common': 'Niue', 'official': 'Niue'},\n",
      "                         'niu': {'common': 'Niuē', 'official': 'Niuē'}},\n",
      "          'official': 'Niue'},\n",
      " 'population': 1470,\n",
      " 'region': 'Oceania',\n",
      " 'startOfWeek': 'monday',\n",
      " 'status': 'officially-assigned',\n",
      " 'subregion': 'Polynesia',\n",
      " 'timezones': ['UTC-11:00'],\n",
      " 'tld': ['.nu'],\n",
      " 'translations': {'ara': {'common': 'نييوي', 'official': 'نييوي'},\n",
      "                  'bre': {'common': 'Niue', 'official': 'Niue'},\n",
      "                  'ces': {'common': 'Niue', 'official': 'Niue'},\n",
      "                  'cym': {'common': 'Niue', 'official': 'Niue'},\n",
      "                  'deu': {'common': 'Niue', 'official': 'Niue'},\n",
      "                  'est': {'common': 'Niue', 'official': 'Niue'},\n",
      "                  'fin': {'common': 'Niue', 'official': 'Niue'},\n",
      "                  'fra': {'common': 'Niue', 'official': 'Niue'},\n",
      "                  'hrv': {'common': 'Niue', 'official': 'Niue'},\n",
      "                  'hun': {'common': 'Niue', 'official': 'Niue'},\n",
      "                  'ita': {'common': 'Niue', 'official': 'Niue'},\n",
      "                  'jpn': {'common': 'ニウエ', 'official': 'ニウエ'},\n",
      "                  'kor': {'common': '니우에', 'official': '니우에'},\n",
      "                  'nld': {'common': 'Niue', 'official': 'Niue'},\n",
      "                  'per': {'common': 'نیووی', 'official': 'نیووی'},\n",
      "                  'pol': {'common': 'Niue', 'official': 'Niue'},\n",
      "                  'por': {'common': 'Niue', 'official': 'Niue'},\n",
      "                  'rus': {'common': 'Ниуэ', 'official': 'Ниуэ'},\n",
      "                  'slk': {'common': 'Niue', 'official': 'Niue'},\n",
      "                  'spa': {'common': 'Niue', 'official': 'Niue'},\n",
      "                  'srp': {'common': 'Нијуе', 'official': 'Нијуе'},\n",
      "                  'swe': {'common': 'Niue', 'official': 'Niue'},\n",
      "                  'tur': {'common': 'Niue', 'official': 'Niue'},\n",
      "                  'urd': {'common': 'نیووے', 'official': 'نیووے'},\n",
      "                  'zho': {'common': '纽埃', 'official': '纽埃'}},\n",
      " 'unMember': False}\n"
     ]
    }
   ],
   "source": [
    "# Print second element of response JSON: USA\n",
    "pprint.pprint(countries_response.json()[10])"
   ]
  },
  {
   "cell_type": "code",
   "execution_count": 7,
   "id": "0b1f4c88",
   "metadata": {},
   "outputs": [
    {
     "data": {
      "text/plain": [
       "'Washington, D.C.'"
      ]
     },
     "execution_count": 7,
     "metadata": {},
     "output_type": "execute_result"
    }
   ],
   "source": [
    "# Print capital of the first element.\n",
    "countries_response.json()[1].get('capital')[0]"
   ]
  },
  {
   "cell_type": "code",
   "execution_count": 8,
   "id": "72dd10d9",
   "metadata": {},
   "outputs": [
    {
     "name": "stdout",
     "output_type": "stream",
     "text": [
      "<class 'str'>\n",
      "776703\n",
      "[{\"name\":{\"common\":\"Moldova\",\"official\":\"Republic of Moldova\",\"nativeName\":{\"ron\":{\"official\":\"Republica Moldova\",\"common\":\"Moldova\"}}},\"tld\":[\".md\"],\"cca2\":\"MD\",\"ccn3\":\"498\",\"cca3\":\"MDA\",\"cioc\":\"MDA\",\"independent\":true,\"status\":\"officially-assigned\"\n"
     ]
    }
   ],
   "source": [
    "# Print type of response text.\n",
    "print(type(countries_response.text))\n",
    "\n",
    "# Print length of response text.\n",
    "print(len(countries_response.text))\n",
    "\n",
    "# Print 1st 250 characters of response text.\n",
    "print(countries_response.text[:250])"
   ]
  },
  {
   "cell_type": "code",
   "execution_count": 9,
   "id": "11fef813",
   "metadata": {},
   "outputs": [],
   "source": [
    "# Convert response text to JSON object.\n",
    "countries_response_json_2 = json.loads(countries_response.text)"
   ]
  },
  {
   "cell_type": "code",
   "execution_count": 10,
   "id": "f0d65121",
   "metadata": {},
   "outputs": [
    {
     "name": "stdout",
     "output_type": "stream",
     "text": [
      "<class 'list'>\n",
      "250\n"
     ]
    }
   ],
   "source": [
    "# Print type of response JSON.\n",
    "print(type(countries_response_json_2))\n",
    "\n",
    "# Print length of response JSON.\n",
    "print(len(countries_response_json_2))"
   ]
  },
  {
   "cell_type": "markdown",
   "id": "3cf279f1",
   "metadata": {},
   "source": [
    "## Active Memory Optimization ##"
   ]
  },
  {
   "cell_type": "markdown",
   "id": "38dc78b4",
   "metadata": {},
   "source": [
    "<a id='1'></a>\n",
    "### 1. Use context manager: `with` ###"
   ]
  },
  {
   "cell_type": "code",
   "execution_count": 11,
   "id": "e4d0c125",
   "metadata": {},
   "outputs": [
    {
     "name": "stdout",
     "output_type": "stream",
     "text": [
      "Request was successful: Received Success 200 Status Code.\n",
      "Capital of Element 1: Washington, D.C.\n"
     ]
    }
   ],
   "source": [
    "with requests.get(countries_all) as countries_response_3:\n",
    "  countries_response_json_3 = countries_response_3.json()\n",
    "\n",
    "  if countries_response_3.status_code == 200:\n",
    "    print(request_success_message)\n",
    "\n",
    "    if len(countries_response_json_3) > 1:\n",
    "      element_1_capital = countries_response_json_3[1].get('capital')[0]\n",
    "      print(f'Capital of Element 1: {element_1_capital}')\n",
    "\n",
    "  else:\n",
    "    print(request_not_success_message)"
   ]
  },
  {
   "cell_type": "markdown",
   "id": "4f124673",
   "metadata": {},
   "source": [
    "<a id='2a'></a>\n",
    "### 2a. Persist to storage ASAP: `json.dump()` ###"
   ]
  },
  {
   "cell_type": "code",
   "execution_count": 12,
   "id": "93ca7224",
   "metadata": {},
   "outputs": [
    {
     "name": "stdout",
     "output_type": "stream",
     "text": [
      "Successfully saved countries.json.\n"
     ]
    }
   ],
   "source": [
    "# Save JSON to file.\n",
    "with open(target_file_path, 'w') as f:\n",
    "  json.dump(countries_response_json_2, f)\n",
    "  print(f'Successfully saved {target_file_name}.')"
   ]
  },
  {
   "cell_type": "markdown",
   "id": "ce05158a",
   "metadata": {},
   "source": [
    "<a id='2b'></a>\n",
    "### 2b. Persist to storage ASAP: `f.write()` ###"
   ]
  },
  {
   "cell_type": "code",
   "execution_count": 13,
   "id": "4501dfdb",
   "metadata": {},
   "outputs": [
    {
     "name": "stdout",
     "output_type": "stream",
     "text": [
      "Successfully saved countries_2.json.\n"
     ]
    }
   ],
   "source": [
    "countries_response_str_2 = json.dumps(countries_response_json_2)\n",
    "\n",
    "with open(target_file_path_2, 'w') as f:\n",
    "  f.write(countries_response_str_2)\n",
    "  print(f'Successfully saved {target_file_name_2}.')"
   ]
  },
  {
   "cell_type": "markdown",
   "id": "fe13620a",
   "metadata": {},
   "source": [
    "<a id='3'></a>\n",
    "### 3. Scope lifespan of variables as tightly as possible: Use functions ###"
   ]
  },
  {
   "cell_type": "markdown",
   "id": "93e7b69b",
   "metadata": {},
   "source": [
    "Use function scopes to limit the lifespan of large objects. Objects created within a function are typically cleaned up when the function exits."
   ]
  },
  {
   "cell_type": "markdown",
   "id": "b6e53020",
   "metadata": {},
   "source": [
    "#### Create function to get country name and capital. ####"
   ]
  },
  {
   "cell_type": "code",
   "execution_count": 14,
   "id": "26ad9160",
   "metadata": {},
   "outputs": [],
   "source": [
    "def get_country_name_capital(countries_endpoint_url, element_ids):\n",
    "\n",
    "  request_success_message = 'Request was successful: Received Success 200 Status Code.\\n'\n",
    "  request_not_success_message = 'Request was not successful.\\n'\n",
    "  country = None\n",
    "\n",
    "  with requests.get(countries_endpoint_url) as countries_response:\n",
    "    countries_response_json = countries_response.json()\n",
    "\n",
    "    if countries_response.status_code == 200:\n",
    "      print(request_success_message)\n",
    "\n",
    "      for element_id in element_ids:\n",
    "\n",
    "        country_names = countries_response_json[element_id].get('altSpellings')\n",
    "\n",
    "        for country_name in country_names:\n",
    "\n",
    "          if is_english(country_name):\n",
    "            \n",
    "              country = country_name\n",
    "\n",
    "              print(f'Country of Element {element_id}: {country}')\n",
    "\n",
    "              break\n",
    "\n",
    "        capital = countries_response_json[element_id].get('capital')[0]\n",
    "        \n",
    "        print(f'Capital of Element {element_id}: {capital}\\n')\n",
    "\n",
    "    else:\n",
    "      print(request_not_success_message)"
   ]
  },
  {
   "cell_type": "code",
   "execution_count": 15,
   "id": "65795ac9",
   "metadata": {},
   "outputs": [
    {
     "name": "stdout",
     "output_type": "stream",
     "text": [
      "Request was successful: Received Success 200 Status Code.\n",
      "\n",
      "Country of Element 0: Republic of Moldova\n",
      "Capital of Element 0: Chișinău\n",
      "\n",
      "Country of Element 1: United States of America\n",
      "Capital of Element 1: Washington, D.C.\n",
      "\n",
      "Country of Element 5: Federative Republic of Brazil\n",
      "Capital of Element 5: Brasília\n",
      "\n",
      "Country of Element 20: Republic of Madagascar\n",
      "Capital of Element 20: Antananarivo\n",
      "\n",
      "Country of Element 25: Republic of Paraguay\n",
      "Capital of Element 25: Asunción\n",
      "\n"
     ]
    }
   ],
   "source": [
    "countries_endpoint_url = 'https://restcountries.com/v3.1/all'\n",
    "\n",
    "get_country_name_capital(countries_endpoint_url, [0, 1, 5, 20, 25])"
   ]
  },
  {
   "cell_type": "markdown",
   "id": "0428601a",
   "metadata": {},
   "source": [
    "<a id='4'></a>\n",
    "### 4. Explicitly delete large objects: `del` ###"
   ]
  },
  {
   "cell_type": "code",
   "execution_count": 16,
   "id": "329e7332",
   "metadata": {},
   "outputs": [],
   "source": [
    "if 'countries_response' in locals() or 'countries_response' in globals():\n",
    "    del countries_response\n",
    "\n",
    "if 'countries_response_json_2' in locals() or 'countries_response_json_2' in globals():\n",
    "    del countries_response_json_2\n",
    "\n",
    "if 'countries_response_json_3' in locals() or 'countries_response_json_3' in globals():\n",
    "    del countries_response_json_3\n",
    "\n",
    "if 'countries_response_str_2' in locals() or 'countries_response_str_2' in globals():\n",
    "    del countries_response_str_2\n",
    "\n",
    "if 'countries_response_3' in locals() or 'countries_response_3' in globals():\n",
    "    del countries_response_3"
   ]
  },
  {
   "cell_type": "markdown",
   "id": "cecfda3f",
   "metadata": {},
   "source": [
    "<a id='5'></a>\n",
    "### 5. Run garbage collection: `gc.collect()` ###"
   ]
  },
  {
   "cell_type": "code",
   "execution_count": 17,
   "id": "79301e56",
   "metadata": {},
   "outputs": [
    {
     "data": {
      "text/plain": [
       "0"
      ]
     },
     "execution_count": 17,
     "metadata": {},
     "output_type": "execute_result"
    }
   ],
   "source": [
    "gc.collect()"
   ]
  }
 ],
 "metadata": {
  "kernelspec": {
   "display_name": "python39",
   "language": "python",
   "name": "python39"
  },
  "language_info": {
   "codemirror_mode": {
    "name": "ipython",
    "version": 3
   },
   "file_extension": ".py",
   "mimetype": "text/x-python",
   "name": "python",
   "nbconvert_exporter": "python",
   "pygments_lexer": "ipython3",
   "version": "3.9.18"
  }
 },
 "nbformat": 4,
 "nbformat_minor": 5
}
