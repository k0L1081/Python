{
 "cells": [
  {
   "cell_type": "markdown",
   "metadata": {
    "collapsed": false
   },
   "source": [
    "### Compute the frequencies of words typed into input\n",
    "\n",
    "Alphanumerically sort the results by key.\n",
    "\n",
    "E.g., the following input is supplied to the program: `Zhang Xuhao, Ele.me's founder, will become chairman of the company, while Wang Lei, vice president of Alibaba Group, will become chief executive officer of Ele.me, the company said.`\n",
    "\n",
    "The output should be:<br>\n",
    "`Alibaba:1\n",
    "Ele.me's:1\n",
    "Ele.me,:1\n",
    "Founder,:1\n",
    "Group,:1\n",
    "Lei,:1\n",
    "Wang:1\n",
    "Xuhao,:1\n",
    "Zhang:1\n",
    "become:2\n",
    "chairman:1\n",
    "chief:1\n",
    "company:1\n",
    "company,:1\n",
    "executive:1\n",
    "of:3\n",
    "officer:1\n",
    "president:1\n",
    "said.:1\n",
    "the:2\n",
    "vice:1\n",
    "while:1\n",
    "will:2`"
   ]
  },
  {
   "cell_type": "markdown",
   "metadata": {},
   "source": [
    "#### Create function to compute frequencies of words typed into input."
   ]
  },
  {
   "cell_type": "code",
   "execution_count": 37,
   "metadata": {
    "collapsed": false
   },
   "outputs": [],
   "source": [
    "def compute_word_frequencies():\n",
    "    sentence = input()\n",
    "\n",
    "    # Split sentence by whitespace into list.\n",
    "    lst_words = sentence.split()\n",
    "\n",
    "    # Create dictionary for each unique word.\n",
    "    dict_words = {word:0 for word in set(lst_words)}\n",
    "\n",
    "    # Set each value to each key's count.\n",
    "    for word in lst_words:\n",
    "        dict_words[word] += 1\n",
    "\n",
    "    # Create list of word-count pairs from sorted dictionary key-value tuples.\n",
    "    str_word_counts = [(word + ':' + str(count)) for word, count in sorted(dict_words.items())]\n",
    "\n",
    "    # Convert list of word-count pairs into new line-delimited string.\n",
    "    print('\\n' + '\\n'.join(str_word_counts))"
   ]
  },
  {
   "cell_type": "markdown",
   "metadata": {},
   "source": [
    "#### Compute frequencies of words typed into input."
   ]
  },
  {
   "cell_type": "code",
   "execution_count": 39,
   "metadata": {
    "collapsed": false
   },
   "outputs": [
    {
     "name": "stdout",
     "output_type": "stream",
     "text": [
      "Zhang Xuhao, Ele.me's Founder, will become chairman of the company, while Wang Lei, vice president of Alibaba Group, will become chief executive officer of Ele.me, the company said.\n",
      "\n",
      "Alibaba:1\n",
      "Ele.me's:1\n",
      "Ele.me,:1\n",
      "Founder,:1\n",
      "Group,:1\n",
      "Lei,:1\n",
      "Wang:1\n",
      "Xuhao,:1\n",
      "Zhang:1\n",
      "become:2\n",
      "chairman:1\n",
      "chief:1\n",
      "company:1\n",
      "company,:1\n",
      "executive:1\n",
      "of:3\n",
      "officer:1\n",
      "president:1\n",
      "said.:1\n",
      "the:2\n",
      "vice:1\n",
      "while:1\n",
      "will:2\n"
     ]
    }
   ],
   "source": [
    "compute_word_frequencies()"
   ]
  },
  {
   "cell_type": "code",
   "execution_count": 40,
   "metadata": {
    "collapsed": false
   },
   "outputs": [
    {
     "name": "stdout",
     "output_type": "stream",
     "text": [
      "In Microsoft's most recent fiscal year, Windows was only the third-biggest source of revenue, behind the Office software bundle and a group of technologies for businesses including computer server software, databases and Microsoft's Azure cloud-computing service.\n",
      "\n",
      "Azure:1\n",
      "In:1\n",
      "Microsoft's:2\n",
      "Office:1\n",
      "Windows:1\n",
      "a:1\n",
      "and:2\n",
      "behind:1\n",
      "bundle:1\n",
      "businesses:1\n",
      "cloud-computing:1\n",
      "computer:1\n",
      "databases:1\n",
      "fiscal:1\n",
      "for:1\n",
      "group:1\n",
      "including:1\n",
      "most:1\n",
      "of:2\n",
      "only:1\n",
      "recent:1\n",
      "revenue,:1\n",
      "server:1\n",
      "service.:1\n",
      "software:1\n",
      "software,:1\n",
      "source:1\n",
      "technologies:1\n",
      "the:2\n",
      "third-biggest:1\n",
      "was:1\n",
      "year,:1\n"
     ]
    }
   ],
   "source": [
    "compute_word_frequencies()"
   ]
  }
 ],
 "metadata": {
  "kernelspec": {
   "display_name": "Python 3",
   "language": "python",
   "name": "python3"
  },
  "language_info": {
   "codemirror_mode": {
    "name": "ipython",
    "version": 3
   },
   "file_extension": ".py",
   "mimetype": "text/x-python",
   "name": "python",
   "nbconvert_exporter": "python",
   "pygments_lexer": "ipython3",
   "version": "3.5.2"
  }
 },
 "nbformat": 4,
 "nbformat_minor": 2
}
