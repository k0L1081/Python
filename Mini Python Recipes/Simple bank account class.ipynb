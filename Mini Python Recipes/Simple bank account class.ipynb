{
 "cells": [
  {
   "cell_type": "markdown",
   "metadata": {},
   "source": [
    "### Compute the current balance of a bank account after a series of transaction entries from console input. ###\n",
    "\n",
    "Use object oriented programming to create account class and methods to perform relevant computations.\n",
    "\n",
    "The transaction entry format is as follows:<br>\n",
    "**D** *amount*<br>\n",
    "**W** *amount*<br>\n",
    "\n",
    "**D**: Deposit. E.g., **D 500**: Deposit 500<br>\n",
    "**W**: Withdrawal. E.g., **W 100**: Withdraw 100\n",
    "\n",
    "The following series of transaction entries:<br>\n",
    "D 300<br>\n",
    "D 300<br>\n",
    "W 200<br>\n",
    "D 100<br>\n",
    "\n",
    "Should produce a balance of: 500\n",
    "\n",
    "**Construct account class.**"
   ]
  },
  {
   "cell_type": "code",
   "execution_count": 9,
   "metadata": {
    "collapsed": false
   },
   "outputs": [],
   "source": [
    "class account:\n",
    "    def __init__(self, balance = 0):\n",
    "        self.balance = balance\n",
    "        \n",
    "    def deposit(self, amount):\n",
    "        self.balance += amount\n",
    "        \n",
    "    def withdraw(self, amount):\n",
    "        self.balance -= amount\n",
    "        \n",
    "    def get_balance(self):\n",
    "        return(self.balance)"
   ]
  },
  {
   "cell_type": "markdown",
   "metadata": {},
   "source": [
    "**Create account object and perform computations on the instance.**"
   ]
  },
  {
   "cell_type": "code",
   "execution_count": 11,
   "metadata": {
    "collapsed": false
   },
   "outputs": [
    {
     "name": "stdout",
     "output_type": "stream",
     "text": [
      "100\n",
      "1000100\n",
      "1250100\n",
      "1200100\n"
     ]
    }
   ],
   "source": [
    "GoldmanSachsMarcusChecking = account(100)\n",
    "print(GoldmanSachsMarcusChecking.get_balance())\n",
    "\n",
    "GoldmanSachsMarcusChecking.deposit(1000000)\n",
    "print(GoldmanSachsMarcusChecking.get_balance())\n",
    "\n",
    "GoldmanSachsMarcusChecking.deposit(250000)\n",
    "print(GoldmanSachsMarcusChecking.get_balance())\n",
    "\n",
    "GoldmanSachsMarcusChecking.withdraw(50000)\n",
    "print(GoldmanSachsMarcusChecking.get_balance())"
   ]
  },
  {
   "cell_type": "markdown",
   "metadata": {},
   "source": [
    "**Perform series of transactions on account object.**"
   ]
  },
  {
   "cell_type": "code",
   "execution_count": 13,
   "metadata": {
    "collapsed": false
   },
   "outputs": [
    {
     "name": "stdout",
     "output_type": "stream",
     "text": [
      "0\n",
      "D 100\n",
      "D 1000000\n",
      "D 250000\n",
      "W 50000\n",
      "D 750000\n",
      "exit\n",
      "1950100\n"
     ]
    }
   ],
   "source": [
    "CreditSuissePrivateChecking = account()\n",
    "print(CreditSuissePrivateChecking.get_balance())\n",
    "\n",
    "while(True):\n",
    "    str_transaction = input()\n",
    "    if (str_transaction.lower() == 'exit' or not str_transaction):\n",
    "        break\n",
    "\n",
    "    lst_transaction = str_transaction.split()\n",
    "        \n",
    "    t_type = lst_transaction[0]\n",
    "    a_amount = int(lst_transaction[1])\n",
    "    \n",
    "    if (t_type.upper() == 'D'):\n",
    "        CreditSuissePrivateChecking.deposit(a_amount)\n",
    "    elif (t_type.upper() == 'W'):\n",
    "        CreditSuissePrivateChecking.withdraw(a_amount)\n",
    "    else:\n",
    "        pass\n",
    "    \n",
    "print(CreditSuissePrivateChecking.get_balance())"
   ]
  }
 ],
 "metadata": {
  "kernelspec": {
   "display_name": "Python 3",
   "language": "python",
   "name": "python3"
  },
  "language_info": {
   "codemirror_mode": {
    "name": "ipython",
    "version": 3
   },
   "file_extension": ".py",
   "mimetype": "text/x-python",
   "name": "python",
   "nbconvert_exporter": "python",
   "pygments_lexer": "ipython3",
   "version": "3.5.2"
  }
 },
 "nbformat": 4,
 "nbformat_minor": 2
}
