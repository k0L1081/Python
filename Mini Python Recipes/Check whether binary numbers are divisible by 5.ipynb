{
 "cells": [
  {
   "cell_type": "markdown",
   "metadata": {},
   "source": [
    "For a sequence of comma-separated 4 digit binary numbers, return new comma-separated squence containing only numbers that are divisible by 5.\n",
    "\n",
    "E.g., The following sequence: 0100,0011,1010,1001\n",
    "\n",
    "Should return: 1010"
   ]
  },
  {
   "cell_type": "code",
   "execution_count": 26,
   "metadata": {
    "collapsed": false
   },
   "outputs": [
    {
     "name": "stdout",
     "output_type": "stream",
     "text": [
      "1010 base 2 = 10 base 10\n",
      "0100 base 2 = 4 base 10\n",
      "0011 base 2 = 3 base 10\n",
      "1001 base 2 = 9 base 10\n",
      "\n"
     ]
    }
   ],
   "source": [
    "# Create function to convert a number from specified base to base 10.\n",
    "def convert_to_base_10(number, from_base):\n",
    "    l_number = list(number)\n",
    "    l_number_length = len(l_number)\n",
    "    decimal = 0\n",
    "\n",
    "    for i, item in enumerate(l_number):\n",
    "        power = from_base ** (l_number_length - i - 1)\n",
    "        decimal = decimal + (int(item) * power)\n",
    "\n",
    "    return(decimal)\n",
    "\n",
    "print('1010', 'base 2 =', str(convert_to_base_10('1010', 2)), 'base 10')\n",
    "print('0100', 'base 2 =', str(convert_to_base_10('0100', 2)), 'base 10')\n",
    "print('0011', 'base 2 =', str(convert_to_base_10('0011', 2)), 'base 10')\n",
    "print('1001', 'base 2 =', str(convert_to_base_10('1001', 2)), 'base 10')\n",
    "print('')"
   ]
  },
  {
   "cell_type": "code",
   "execution_count": 29,
   "metadata": {
    "collapsed": false
   },
   "outputs": [
    {
     "name": "stdout",
     "output_type": "stream",
     "text": [
      "1010\n",
      "1010,1010\n",
      "0100\n",
      "0011,1001\n"
     ]
    }
   ],
   "source": [
    "# Create function to filter list based on whether items are divsible by specified factor.\n",
    "def filter_list_divisible_by_factor(l_list, from_base, factor):\n",
    "    numbers = l_list.split(',')\n",
    "    filtered_numbers = []\n",
    "    \n",
    "    for number in numbers:\n",
    "        base_10_number = convert_to_base_10(number, from_base)\n",
    "        if (base_10_number % factor == 0):\n",
    "            filtered_numbers.append(number)\n",
    "            \n",
    "    return(','.join(filtered_numbers))\n",
    "    \n",
    "print(filter_list_divisible_by_factor('0100,0011,1010,1001', 2, 5))\n",
    "print(filter_list_divisible_by_factor('0100,0011,1010,1001,1010', 2, 5))\n",
    "print(filter_list_divisible_by_factor('0100,0011,1010,1001', 2, 4))\n",
    "print(filter_list_divisible_by_factor('0100,0011,1010,1001', 2, 3))"
   ]
  },
  {
   "cell_type": "markdown",
   "metadata": {},
   "source": [
    "Perform above computation using **list comprehension** and **int()** function. Utilize the *from_base* argument of the **int(x, from_base)** function. The *from_base* argument defaults to 10 if not specifed."
   ]
  },
  {
   "cell_type": "code",
   "execution_count": 33,
   "metadata": {
    "collapsed": false
   },
   "outputs": [
    {
     "name": "stdout",
     "output_type": "stream",
     "text": [
      "1010\n",
      "1010,1010\n",
      "1010\n",
      "1010\n"
     ]
    }
   ],
   "source": [
    "# Create function to filter list based on whether items are divsible by specified factor.\n",
    "def filter_list_divisible_by_factor_v2(l_list, from_base, factor):\n",
    "    numbers = l_list.split(',')\n",
    "    \n",
    "    filtered_numbers = [number for number in numbers if (int(number, 2) % 5 == 0)]\n",
    "    \n",
    "    return(','.join(filtered_numbers))\n",
    "\n",
    "print(filter_list_divisible_by_factor_v2('0100,0011,1010,1001', 2, 5))\n",
    "print(filter_list_divisible_by_factor_v2('0100,0011,1010,1001,1010', 2, 5))\n",
    "print(filter_list_divisible_by_factor_v2('0100,0011,1010,1001', 2, 4))\n",
    "print(filter_list_divisible_by_factor_v2('0100,0011,1010,1001', 2, 3))"
   ]
  }
 ],
 "metadata": {
  "kernelspec": {
   "display_name": "Python 3",
   "language": "python",
   "name": "python3"
  },
  "language_info": {
   "codemirror_mode": {
    "name": "ipython",
    "version": 3
   },
   "file_extension": ".py",
   "mimetype": "text/x-python",
   "name": "python",
   "nbconvert_exporter": "python",
   "pygments_lexer": "ipython3",
   "version": "3.5.2"
  }
 },
 "nbformat": 4,
 "nbformat_minor": 2
}
