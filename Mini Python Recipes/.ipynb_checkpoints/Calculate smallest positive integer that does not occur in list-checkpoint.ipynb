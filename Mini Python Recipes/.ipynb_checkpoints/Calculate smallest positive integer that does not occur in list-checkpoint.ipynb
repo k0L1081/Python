{
 "cells": [
  {
   "cell_type": "markdown",
   "metadata": {},
   "source": [
    "### Calculate smallest positive integer that does not occur in list. ###\n",
    "\n",
    "Given a list L of n integers, compute the smallest positive integer (greater than 0) that does not occur in L.\n",
    "\n",
    "E.g., the following list L = [1, 5, 7, 3, 2, 6], the function should return 4.\n",
    "\n",
    "L = [5, 8, 9] should return 1.\n",
    "\n",
    "L = [−3, −4] should return 1."
   ]
  },
  {
   "cell_type": "code",
   "execution_count": 131,
   "metadata": {},
   "outputs": [],
   "source": [
    "def GetSmallestPositiveIntegerNotInList(lList):\n",
    "    # Remove duplicate items from list.\n",
    "    # Remove non-positive integers from list.\n",
    "    lList = [item for item in set(lList) if item >= 1]\n",
    "    \n",
    "    # Sort list, to enable sorted element-wise comparisons.\n",
    "    lList.sort()    \n",
    "    \n",
    "    # Get upper bound for comparisons, based on maximum item in list.\n",
    "    # Add 1: Handle scenarios where there is no gap in input integer sequence.\n",
    "    # Add 1: Python list handling is right-exclusive.\n",
    "    if (len(lList) >= 1):\n",
    "        maximumItem = max(lList) + 2\n",
    "    else:\n",
    "        # Since Python list handling is right-exclusive, ensure that upper bound is, at least, 2;\n",
    "        # which effectively ensures that upper bound, is at, least 1.\n",
    "        maximumItem = 2\n",
    "\n",
    "    integerList = list(range(1, maximumItem))\n",
    "    \n",
    "    j = 0\n",
    "    smallestPositiveInteger = None\n",
    "\n",
    "    # Perform sorted element-wise comparison to detect gap.\n",
    "    for item in lList:\n",
    "        if item != integerList[j]:\n",
    "            smallestPositiveInteger = integerList[j]\n",
    "            break\n",
    "            \n",
    "        j += 1\n",
    "        \n",
    "    if (smallestPositiveInteger is None):\n",
    "        smallestPositiveInteger = max(integerList)\n",
    "    \n",
    "    return(smallestPositiveInteger)"
   ]
  },
  {
   "cell_type": "code",
   "execution_count": 132,
   "metadata": {},
   "outputs": [
    {
     "name": "stdout",
     "output_type": "stream",
     "text": [
      "4\n"
     ]
    }
   ],
   "source": [
    "print(GetSmallestPositiveIntegerNotInList([1, 5, 7, 3, 2, 6]))"
   ]
  },
  {
   "cell_type": "code",
   "execution_count": 133,
   "metadata": {},
   "outputs": [
    {
     "name": "stdout",
     "output_type": "stream",
     "text": [
      "1\n"
     ]
    }
   ],
   "source": [
    "print(GetSmallestPositiveIntegerNotInList([5, 8, 9]))"
   ]
  },
  {
   "cell_type": "code",
   "execution_count": 134,
   "metadata": {},
   "outputs": [
    {
     "name": "stdout",
     "output_type": "stream",
     "text": [
      "1\n"
     ]
    }
   ],
   "source": [
    "print(GetSmallestPositiveIntegerNotInList([-3, -4]))"
   ]
  },
  {
   "cell_type": "code",
   "execution_count": 135,
   "metadata": {},
   "outputs": [
    {
     "name": "stdout",
     "output_type": "stream",
     "text": [
      "2\n"
     ]
    }
   ],
   "source": [
    "print(GetSmallestPositiveIntegerNotInList([1]))"
   ]
  },
  {
   "cell_type": "code",
   "execution_count": 136,
   "metadata": {},
   "outputs": [
    {
     "name": "stdout",
     "output_type": "stream",
     "text": [
      "5\n"
     ]
    }
   ],
   "source": [
    "print(GetSmallestPositiveIntegerNotInList([1, 3, 6, 4, 1, 2]))"
   ]
  },
  {
   "cell_type": "code",
   "execution_count": 137,
   "metadata": {},
   "outputs": [
    {
     "name": "stdout",
     "output_type": "stream",
     "text": [
      "1\n"
     ]
    }
   ],
   "source": [
    "print(GetSmallestPositiveIntegerNotInList([-100]))"
   ]
  },
  {
   "cell_type": "code",
   "execution_count": 139,
   "metadata": {},
   "outputs": [
    {
     "name": "stdout",
     "output_type": "stream",
     "text": [
      "1\n"
     ]
    }
   ],
   "source": [
    "print(GetSmallestPositiveIntegerNotInList([-100, 0, 100]))"
   ]
  }
 ],
 "metadata": {
  "kernelspec": {
   "display_name": "Python 3",
   "language": "python",
   "name": "python3"
  },
  "language_info": {
   "codemirror_mode": {
    "name": "ipython",
    "version": 3
   },
   "file_extension": ".py",
   "mimetype": "text/x-python",
   "name": "python",
   "nbconvert_exporter": "python",
   "pygments_lexer": "ipython3",
   "version": "3.7.4"
  }
 },
 "nbformat": 4,
 "nbformat_minor": 2
}
