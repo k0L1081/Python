{
 "cells": [
  {
   "cell_type": "markdown",
   "id": "dee31b4c",
   "metadata": {},
   "source": [
    "### Schedule AI model training ###\n",
    "\n",
    "You are given a list of model training tasks where each task is represented as a tuple containing two integers: `(duration, deadline)`.\n",
    "\n",
    "`duration` is the time it takes to complete the task; and `deadline` is the epoch time by which the task needs to be completed.\n",
    "\n",
    "Your goal is to schedule these tasks in a way that maximizes the number of tasks completed before their respective deadlines.\n",
    "\n",
    "**Constraints:**\n",
    "\n",
    "* The number of tasks `n` is at most 100.\n",
    "* `duration` and `deadline` are positive integers, where `duration <= deadline`.\n",
    "* You can only work on one task at a time.\n",
    "* Tasks can be started and completed at any time.\n",
    "\n",
    "**Objective**\n",
    "\n",
    "* Return the maximum number of tasks that can be completed before their respective deadlines."
   ]
  },
  {
   "cell_type": "code",
   "execution_count": 33,
   "id": "963ce820",
   "metadata": {},
   "outputs": [],
   "source": [
    "def get_task_schedule(tasks, max_n = 100, verbose = False):\n",
    "\n",
    "    # Sort list of tuples in numeric order: By 1st element; then 2nd element.\n",
    "    tasks = sorted(tasks, key = lambda i: (i[0], i[1]))\n",
    "\n",
    "    n = 0\n",
    "\n",
    "    task_schedule = []\n",
    "\n",
    "    current_duration = 0\n",
    "\n",
    "    for duration, deadline in tasks:\n",
    "\n",
    "        if verbose:\n",
    "      \n",
    "            print(f'Current Duration: {current_duration}')\n",
    "\n",
    "            print(f'Trying {(duration, deadline)} ...')\n",
    "\n",
    "        if current_duration + duration <= deadline and n <= max_n:\n",
    "\n",
    "            task_schedule.append((duration, deadline))\n",
    "\n",
    "            if verbose:\n",
    "\n",
    "                print(f'Scheduled {(duration, deadline)}.')\n",
    "\n",
    "                print()\n",
    "\n",
    "            current_duration += duration\n",
    "\n",
    "            n += 1\n",
    "\n",
    "    if verbose:\n",
    "\n",
    "        print()\n",
    "\n",
    "        print(f'Task Schedule: {task_schedule}')\n",
    "\n",
    "        print(f'Number of Scheduled Tasks: {n}')\n",
    "\n",
    "        print(f'Current Duration: {current_duration}')\n",
    "\n",
    "        print()\n",
    "  \n",
    "    return(task_schedule)"
   ]
  },
  {
   "cell_type": "code",
   "execution_count": 34,
   "id": "e5e259ec",
   "metadata": {},
   "outputs": [
    {
     "name": "stdout",
     "output_type": "stream",
     "text": [
      "Current Duration: 0\n",
      "Trying (2, 4) ...\n",
      "Scheduled (2, 4).\n",
      "\n",
      "Current Duration: 2\n",
      "Trying (2, 6) ...\n",
      "Scheduled (2, 6).\n",
      "\n",
      "Current Duration: 4\n",
      "Trying (2, 8) ...\n",
      "Scheduled (2, 8).\n",
      "\n",
      "Current Duration: 6\n",
      "Trying (3, 5) ...\n",
      "\n",
      "Task Schedule: [(2, 4), (2, 6), (2, 8)]\n",
      "Number of Scheduled Tasks: 3\n",
      "Current Duration: 6\n",
      "\n"
     ]
    },
    {
     "data": {
      "text/plain": [
       "[(2, 4), (2, 6), (2, 8)]"
      ]
     },
     "execution_count": 34,
     "metadata": {},
     "output_type": "execute_result"
    }
   ],
   "source": [
    "tasks_0 = [(2, 4), (3, 5), (2, 8), (2, 6)]\n",
    "\n",
    "get_task_schedule(tasks_0, verbose = True)"
   ]
  },
  {
   "cell_type": "code",
   "execution_count": 35,
   "id": "c6d8542b",
   "metadata": {},
   "outputs": [
    {
     "data": {
      "text/plain": [
       "[(1, 2), (2, 3), (2, 5)]"
      ]
     },
     "execution_count": 35,
     "metadata": {},
     "output_type": "execute_result"
    }
   ],
   "source": [
    "tasks_1 = [(1, 2), (2, 3), (3, 5), (2, 5)]\n",
    "\n",
    "get_task_schedule(tasks_1)"
   ]
  },
  {
   "cell_type": "code",
   "execution_count": 36,
   "id": "292272cd",
   "metadata": {},
   "outputs": [
    {
     "name": "stdout",
     "output_type": "stream",
     "text": [
      "Current Duration: 0\n",
      "Trying (2, 3) ...\n",
      "Scheduled (2, 3).\n",
      "\n",
      "Current Duration: 2\n",
      "Trying (2, 4) ...\n",
      "Scheduled (2, 4).\n",
      "\n",
      "Current Duration: 4\n",
      "Trying (2, 5) ...\n",
      "Current Duration: 4\n",
      "Trying (2, 6) ...\n",
      "Scheduled (2, 6).\n",
      "\n",
      "\n",
      "Task Schedule: [(2, 3), (2, 4), (2, 6)]\n",
      "Number of Scheduled Tasks: 3\n",
      "Current Duration: 6\n",
      "\n"
     ]
    },
    {
     "data": {
      "text/plain": [
       "[(2, 3), (2, 4), (2, 6)]"
      ]
     },
     "execution_count": 36,
     "metadata": {},
     "output_type": "execute_result"
    }
   ],
   "source": [
    "tasks_2 = [(2, 4), (2, 6), (2, 3), (2, 5)]\n",
    "\n",
    "get_task_schedule(tasks_2, verbose=True)"
   ]
  },
  {
   "cell_type": "code",
   "execution_count": 37,
   "id": "426b5191",
   "metadata": {},
   "outputs": [
    {
     "data": {
      "text/plain": [
       "[(1, 25), (2, 5), (3, 20)]"
      ]
     },
     "execution_count": 37,
     "metadata": {},
     "output_type": "execute_result"
    }
   ],
   "source": [
    "tasks_3 = [(5, 10), (3, 20), (10, 15), (2, 5), (1, 25)]\n",
    "\n",
    "get_task_schedule(tasks_3)"
   ]
  },
  {
   "cell_type": "code",
   "execution_count": 50,
   "id": "a80d9f2f",
   "metadata": {},
   "outputs": [],
   "source": [
    "def test_get_task_schedule():\n",
    "    \n",
    "    tasks_0 = [(2, 4), (3, 5), (2, 8), (2, 6)]\n",
    "    expected_tasks_0 = [(2, 4), (2, 6), (2, 8)]\n",
    "    task_schedule_0 = get_task_schedule(tasks_0)\n",
    "\n",
    "    assert len(expected_tasks_0) == len(task_schedule_0), (f'''The expected length of the task schedule for {tasks_0} is {len(expected_tasks_0)}.\n",
    "    However, the computed length of the task schedule is {len(task_schedule_0)}''')\n",
    "    \n",
    "    print('Test #1 passed.')\n",
    "\n",
    "    tasks_1 = [(1, 2), (2, 3), (3, 5), (2, 5)]\n",
    "    expected_tasks_1 = [(1, 2), (2, 3), (2, 5)]\n",
    "    task_schedule_1 = get_task_schedule(tasks_1)\n",
    "\n",
    "    assert len(expected_tasks_1) == len(task_schedule_1), (f'''The expected length of the task schedule for {tasks_1} is {len(expected_tasks_1)}.\n",
    "    However, the computed length of the task schedule is {len(task_schedule_1)}''')\n",
    "    \n",
    "    print('Test #2 passed.')\n",
    "\n",
    "    tasks_2 = [(2, 4), (2, 6), (2, 3), (2, 5)]\n",
    "    expected_tasks_2 = [(2, 3), (2, 4), (2, 6)]\n",
    "    task_schedule_2 = get_task_schedule(tasks_2)\n",
    "\n",
    "    assert len(expected_tasks_2) == len(task_schedule_2), (f'''The expected length of the task schedule for {tasks_2} is {len(expected_tasks_2)}.\n",
    "    However, the computed length of the task schedule is {len(task_schedule_2)}''')\n",
    "    \n",
    "    print('Test #3 passed.')"
   ]
  },
  {
   "cell_type": "code",
   "execution_count": 51,
   "id": "3d94c16b",
   "metadata": {},
   "outputs": [
    {
     "name": "stdout",
     "output_type": "stream",
     "text": [
      "Test #1 passed.\n",
      "Test #2 passed.\n",
      "Test #3 passed.\n"
     ]
    }
   ],
   "source": [
    "test_get_task_schedule()"
   ]
  }
 ],
 "metadata": {
  "kernelspec": {
   "display_name": "python39",
   "language": "python",
   "name": "python39"
  },
  "language_info": {
   "codemirror_mode": {
    "name": "ipython",
    "version": 3
   },
   "file_extension": ".py",
   "mimetype": "text/x-python",
   "name": "python",
   "nbconvert_exporter": "python",
   "pygments_lexer": "ipython3",
   "version": "3.9.18"
  }
 },
 "nbformat": 4,
 "nbformat_minor": 5
}
