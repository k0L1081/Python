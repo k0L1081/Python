{
 "cells": [
  {
   "cell_type": "markdown",
   "metadata": {},
   "source": [
    "### Create class that can iterate numbers that are divisible by a given factor f between a given range 0 to n. ###\n",
    "\n",
    "E.g., For factor 7 and range 0 to 30, the classs should return: 0, 7, 14, 21 and 28."
   ]
  },
  {
   "cell_type": "code",
   "execution_count": 79,
   "metadata": {
    "collapsed": false
   },
   "outputs": [],
   "source": [
    "class multiplesRange():\n",
    "    def __init__(self, factor, maximum):\n",
    "        self.factor = factor\n",
    "        self.maximum = maximum\n",
    "        \n",
    "        multiples = [str(i) for i in range(0, (maximum + 1)) if i % factor == 0]\n",
    "        self.multiples = multiples\n",
    "\n",
    "    def getMultiplesList(self):\n",
    "        return(self.multiples)\n",
    "        \n",
    "    def getMultiplesStringLine(self):\n",
    "        multiplesStringLine = ', '.join(self.multiples)\n",
    "        return(multiplesStringLine)\n",
    "\n",
    "    def getMultiplesStringLines(self):\n",
    "        multiplesStringLines = '\\n'.join(self.multiples)\n",
    "        return(multiplesStringLines)"
   ]
  },
  {
   "cell_type": "code",
   "execution_count": 80,
   "metadata": {
    "collapsed": false
   },
   "outputs": [
    {
     "name": "stdout",
     "output_type": "stream",
     "text": [
      "['0', '7', '14', '21', '28']\n",
      "\n",
      "0, 7, 14, 21, 28\n",
      "\n",
      "0\n",
      "7\n",
      "14\n",
      "21\n",
      "28\n",
      "\n"
     ]
    }
   ],
   "source": [
    "multiplesRange730 = multiplesRange(7, 30)\n",
    "\n",
    "print(multiplesRange730.getMultiplesList()); print()\n",
    "\n",
    "print(multiplesRange730.getMultiplesStringLine()); print()\n",
    "\n",
    "print(multiplesRange730.getMultiplesStringLines()); print()"
   ]
  },
  {
   "cell_type": "code",
   "execution_count": 81,
   "metadata": {
    "collapsed": false
   },
   "outputs": [
    {
     "name": "stdout",
     "output_type": "stream",
     "text": [
      "['0', '9', '18', '27', '36', '45', '54', '63', '72', '81', '90', '99']\n",
      "\n",
      "0, 9, 18, 27, 36, 45, 54, 63, 72, 81, 90, 99\n",
      "\n",
      "0\n",
      "9\n",
      "18\n",
      "27\n",
      "36\n",
      "45\n",
      "54\n",
      "63\n",
      "72\n",
      "81\n",
      "90\n",
      "99\n",
      "\n"
     ]
    }
   ],
   "source": [
    "multiplesRange9100 = multiplesRange(9, 100)\n",
    "\n",
    "print(multiplesRange9100.getMultiplesList()); print()\n",
    "\n",
    "print(multiplesRange9100.getMultiplesStringLine()); print()\n",
    "\n",
    "print(multiplesRange9100.getMultiplesStringLines()); print()"
   ]
  }
 ],
 "metadata": {
  "kernelspec": {
   "display_name": "Python 3",
   "language": "python",
   "name": "python3"
  },
  "language_info": {
   "codemirror_mode": {
    "name": "ipython",
    "version": 3
   },
   "file_extension": ".py",
   "mimetype": "text/x-python",
   "name": "python",
   "nbconvert_exporter": "python",
   "pygments_lexer": "ipython3",
   "version": "3.5.2"
  }
 },
 "nbformat": 4,
 "nbformat_minor": 2
}
