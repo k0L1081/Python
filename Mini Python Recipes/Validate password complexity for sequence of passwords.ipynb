{
 "cells": [
  {
   "cell_type": "markdown",
   "metadata": {
    "collapsed": false
   },
   "source": [
    "### Validate password complexity for a comma-separated sequence of passwords. ###\n",
    "\n",
    "Validate that each password in the sequence meets the following criteria:\n",
    "\n",
    "1. Contains, at least, 1 letter between [a-z]\n",
    "2. Contains, at least, 1 number between [0-9]\n",
    "3. Contains, at least, 1 letter between [A-Z]\n",
    "4. Contains, at least, 1 character from [$#@]\n",
    "5. Minimum length is 6\n",
    "6. Maximum length is 12\n",
    "\n",
    "Return comma-separated list containing only the passwords that satisfy all of the noted password requirements.\n",
    "\n",
    "E.g., the following input sequence: ABd1234@1,a,F1#,2w3E*,2We3345\n",
    "\n",
    "Should produce the following output: ABd1234@1\n",
    "\n",
    "**Create function to validate single password.**"
   ]
  },
  {
   "cell_type": "code",
   "execution_count": 29,
   "metadata": {
    "collapsed": true
   },
   "outputs": [],
   "source": [
    "def validate_password(password):\n",
    "    import string\n",
    "\n",
    "    # Contains, at least, 1 letter between [a-z]\n",
    "    if(len([character for character in password if character in string.ascii_lowercase]) == 0):\n",
    "        return False\n",
    "    \n",
    "    # Contains, at least, 1 number between [0-9]\n",
    "    if(len([character for character in password if character in string.digits]) == 0):\n",
    "        return False\n",
    "\n",
    "    # Contains, at least, 1 letter between [A-Z]\n",
    "    if(len([character for character in password if character in string.ascii_uppercase]) == 0):\n",
    "        return False\n",
    "\n",
    "    # Contains, at least, 1 character from [$#@]\n",
    "    if(len([character for character in password if character in '$#@']) == 0):\n",
    "        return False\n",
    "    \n",
    "    # Minimum length is 6 and maximum length is 12\n",
    "    if(not(len(password) >= 6 and len(password)) <= 12):\n",
    "        return False\n",
    "    \n",
    "    return True"
   ]
  },
  {
   "cell_type": "markdown",
   "metadata": {},
   "source": [
    "**Validate sample passwords.**"
   ]
  },
  {
   "cell_type": "code",
   "execution_count": 30,
   "metadata": {
    "collapsed": false
   },
   "outputs": [
    {
     "name": "stdout",
     "output_type": "stream",
     "text": [
      "True\n",
      "False\n",
      "False\n",
      "False\n",
      "True\n"
     ]
    }
   ],
   "source": [
    "print(validate_password('ABd1234@1'))\n",
    "print(validate_password('a'))\n",
    "print(validate_password('F1#'))\n",
    "print(validate_password('2w3E*'))\n",
    "print(validate_password('2We3#45'))"
   ]
  },
  {
   "cell_type": "markdown",
   "metadata": {},
   "source": [
    "**Create function to validate sequence of comma-separated passwords.**"
   ]
  },
  {
   "cell_type": "code",
   "execution_count": 31,
   "metadata": {
    "collapsed": true
   },
   "outputs": [],
   "source": [
    "def get_valid_passwords(passwords):\n",
    "    valid_passwords = [password for password in passwords.split(',') if validate_password(password)]\n",
    "    valid_passwords = ','.join(valid_passwords)\n",
    "    return(valid_passwords)"
   ]
  },
  {
   "cell_type": "markdown",
   "metadata": {},
   "source": [
    "**Validate sequence of comma-separated passwords.**"
   ]
  },
  {
   "cell_type": "code",
   "execution_count": 32,
   "metadata": {
    "collapsed": false
   },
   "outputs": [
    {
     "name": "stdout",
     "output_type": "stream",
     "text": [
      "ABd1234@1\n",
      "ABd1234@1,2We3345$\n",
      "ABd1234@1,2We3345$,2We3#45\n"
     ]
    }
   ],
   "source": [
    "print(get_valid_passwords('ABd1234@1,a,F1#,2w3E*,2We3345,2We3345'))\n",
    "print(get_valid_passwords('ABd1234@1,a,F1#,2w3E*,2We3345,2We3345$'))\n",
    "print(get_valid_passwords('ABd1234@1,a,F1#,2w3E*,2We3345,2We3345$,2We3#45'))"
   ]
  }
 ],
 "metadata": {
  "kernelspec": {
   "display_name": "Python 3",
   "language": "python",
   "name": "python3"
  },
  "language_info": {
   "codemirror_mode": {
    "name": "ipython",
    "version": 3
   },
   "file_extension": ".py",
   "mimetype": "text/x-python",
   "name": "python",
   "nbconvert_exporter": "python",
   "pygments_lexer": "ipython3",
   "version": "3.5.2"
  }
 },
 "nbformat": 4,
 "nbformat_minor": 2
}
