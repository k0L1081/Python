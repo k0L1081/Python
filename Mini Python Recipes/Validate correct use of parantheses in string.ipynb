{
 "cells": [
  {
   "cell_type": "markdown",
   "metadata": {},
   "source": [
    "### Validate correct use of parantheses in string ###\n",
    "\n",
    "`()` ⟶ Right\n",
    "\n",
    "`[()]` ⟶ Right\n",
    "\n",
    "`{{[()]}}` ⟶ Right\n",
    "\n",
    "`[(}]` ⟶ Wrong\n",
    "\n",
    "`[{)}` ⟶ Wrong\n",
    "\n",
    "`)(` ⟶ Wrong"
   ]
  },
  {
   "cell_type": "markdown",
   "metadata": {},
   "source": [
    "**Check #1:** Sequence of parentheses must start and end with opening and closing parentheses, respectively."
   ]
  },
  {
   "cell_type": "markdown",
   "metadata": {},
   "source": [
    "Create function to get sequence of parenthesis pairs."
   ]
  },
  {
   "cell_type": "code",
   "execution_count": 1,
   "metadata": {},
   "outputs": [
    {
     "data": {
      "text/plain": [
       "[('(', ')'), ('[', ']'), ('{', '}')]"
      ]
     },
     "execution_count": 1,
     "metadata": {},
     "output_type": "execute_result"
    }
   ],
   "source": [
    "def get_parenthesis_pairs():\n",
    "    parenthesis_pairs = [('(', ')'),\n",
    "                         ('[', ']'),\n",
    "                         ('{', '}')]\n",
    "    \n",
    "    return(parenthesis_pairs)\n",
    "\n",
    "get_parenthesis_pairs()"
   ]
  },
  {
   "cell_type": "markdown",
   "metadata": {},
   "source": [
    "Create function to perform Check #1."
   ]
  },
  {
   "cell_type": "code",
   "execution_count": 2,
   "metadata": {},
   "outputs": [],
   "source": [
    "def passed_check_1(input_string):\n",
    "    \n",
    "    opening_parentheses = [pair[0] for pair in get_parenthesis_pairs()]\n",
    "    closing_parentheses = [pair[1] for pair in get_parenthesis_pairs()]\n",
    "    \n",
    "    if input_string[0] not in opening_parentheses:\n",
    "        print('Invalid opening parenthesis ...')\n",
    "        return False\n",
    "    \n",
    "    if input_string[-1] not in closing_parentheses:\n",
    "        print('Invalid closing parenthesis ...')\n",
    "        return False\n",
    "    \n",
    "    return True"
   ]
  },
  {
   "cell_type": "code",
   "execution_count": 3,
   "metadata": {},
   "outputs": [
    {
     "data": {
      "text/plain": [
       "True"
      ]
     },
     "execution_count": 3,
     "metadata": {},
     "output_type": "execute_result"
    }
   ],
   "source": [
    "input_string = '[()]'\n",
    "\n",
    "passed_check_1(input_string)"
   ]
  },
  {
   "cell_type": "code",
   "execution_count": 4,
   "metadata": {},
   "outputs": [
    {
     "name": "stdout",
     "output_type": "stream",
     "text": [
      "Invalid opening parenthesis ...\n"
     ]
    },
    {
     "data": {
      "text/plain": [
       "False"
      ]
     },
     "execution_count": 4,
     "metadata": {},
     "output_type": "execute_result"
    }
   ],
   "source": [
    "input_string = ']()]'\n",
    "\n",
    "passed_check_1(input_string)"
   ]
  },
  {
   "cell_type": "code",
   "execution_count": 5,
   "metadata": {},
   "outputs": [
    {
     "name": "stdout",
     "output_type": "stream",
     "text": [
      "Invalid closing parenthesis ...\n"
     ]
    },
    {
     "data": {
      "text/plain": [
       "False"
      ]
     },
     "execution_count": 5,
     "metadata": {},
     "output_type": "execute_result"
    }
   ],
   "source": [
    "input_string = '[()('\n",
    "\n",
    "passed_check_1(input_string)"
   ]
  },
  {
   "cell_type": "markdown",
   "metadata": {},
   "source": [
    "**Check #2:** Parentheses are balanced by type. E.g., equal number of `(` and `)`."
   ]
  },
  {
   "cell_type": "markdown",
   "metadata": {},
   "source": [
    "Create function to perform Check #2."
   ]
  },
  {
   "cell_type": "code",
   "execution_count": 6,
   "metadata": {},
   "outputs": [],
   "source": [
    "def passed_check_2(input_string):\n",
    "\n",
    "    print('Input string: {0}'.format(input_string))\n",
    "    print()\n",
    "\n",
    "    parenthesis_pairs = get_parenthesis_pairs()\n",
    "\n",
    "    parenthesis_counts = {}\n",
    "\n",
    "    for pair in parenthesis_pairs:\n",
    "        for parenthesis in pair:\n",
    "            parenthesis_counts[parenthesis] = 0\n",
    "\n",
    "    for character in input_string:\n",
    "        parenthesis_counts[character] += 1\n",
    "\n",
    "    for pair in parenthesis_pairs:\n",
    "        print('{0} count: {1}'.format(pair[0], parenthesis_counts[pair[0]]))\n",
    "        print('{0} count: {1}'.format(pair[1], parenthesis_counts[pair[1]]))\n",
    "\n",
    "        if parenthesis_counts[pair[0]] != parenthesis_counts[pair[1]]:\n",
    "            print('Unbalanced parentheses ...')\n",
    "            print()\n",
    "            return(False)\n",
    "\n",
    "        else:\n",
    "            print('Balanced parenthesis ...')\n",
    "            print()\n",
    "        \n",
    "    return(True)"
   ]
  },
  {
   "cell_type": "code",
   "execution_count": 7,
   "metadata": {},
   "outputs": [
    {
     "name": "stdout",
     "output_type": "stream",
     "text": [
      "Input string: [()]\n",
      "\n",
      "( count: 1\n",
      ") count: 1\n",
      "Balanced parenthesis ...\n",
      "\n",
      "[ count: 1\n",
      "] count: 1\n",
      "Balanced parenthesis ...\n",
      "\n",
      "{ count: 0\n",
      "} count: 0\n",
      "Balanced parenthesis ...\n",
      "\n"
     ]
    },
    {
     "data": {
      "text/plain": [
       "True"
      ]
     },
     "execution_count": 7,
     "metadata": {},
     "output_type": "execute_result"
    }
   ],
   "source": [
    "input_string = '[()]'\n",
    "\n",
    "passed_check_2(input_string)"
   ]
  },
  {
   "cell_type": "code",
   "execution_count": 8,
   "metadata": {},
   "outputs": [
    {
     "name": "stdout",
     "output_type": "stream",
     "text": [
      "Input string: {{[()]}}\n",
      "\n",
      "( count: 1\n",
      ") count: 1\n",
      "Balanced parenthesis ...\n",
      "\n",
      "[ count: 1\n",
      "] count: 1\n",
      "Balanced parenthesis ...\n",
      "\n",
      "{ count: 2\n",
      "} count: 2\n",
      "Balanced parenthesis ...\n",
      "\n"
     ]
    },
    {
     "data": {
      "text/plain": [
       "True"
      ]
     },
     "execution_count": 8,
     "metadata": {},
     "output_type": "execute_result"
    }
   ],
   "source": [
    "input_string = '{{[()]}}'\n",
    "\n",
    "passed_check_2(input_string)"
   ]
  },
  {
   "cell_type": "code",
   "execution_count": 9,
   "metadata": {},
   "outputs": [
    {
     "name": "stdout",
     "output_type": "stream",
     "text": [
      "Input string: [(}]\n",
      "\n",
      "( count: 1\n",
      ") count: 0\n",
      "Unbalanced parentheses ...\n",
      "\n"
     ]
    },
    {
     "data": {
      "text/plain": [
       "False"
      ]
     },
     "execution_count": 9,
     "metadata": {},
     "output_type": "execute_result"
    }
   ],
   "source": [
    "input_string = '[(}]'\n",
    "\n",
    "passed_check_2(input_string)"
   ]
  },
  {
   "cell_type": "code",
   "execution_count": 10,
   "metadata": {},
   "outputs": [
    {
     "name": "stdout",
     "output_type": "stream",
     "text": [
      "Input string: )(\n",
      "\n",
      "( count: 1\n",
      ") count: 1\n",
      "Balanced parenthesis ...\n",
      "\n",
      "[ count: 0\n",
      "] count: 0\n",
      "Balanced parenthesis ...\n",
      "\n",
      "{ count: 0\n",
      "} count: 0\n",
      "Balanced parenthesis ...\n",
      "\n"
     ]
    },
    {
     "data": {
      "text/plain": [
       "True"
      ]
     },
     "execution_count": 10,
     "metadata": {},
     "output_type": "execute_result"
    }
   ],
   "source": [
    "input_string = ')('\n",
    "\n",
    "passed_check_2(input_string)"
   ]
  },
  {
   "cell_type": "markdown",
   "metadata": {},
   "source": [
    "**Check #3:** For any given parenthesis, the following parenthesis must be valid. E.g.:\n",
    "\n",
    "* For `(`, valid following parenthesis must be either a closing parenthesis for the **same** type, `)`, or another opening parenthesis, such as `(`, `[` or `{`.\n",
    "* For `)`, valid following parenthesis must be another closing parenthesis for **any** type, `)`, such as `)`, `]` or `}`."
   ]
  },
  {
   "cell_type": "markdown",
   "metadata": {},
   "source": [
    "Create function to get valid following parentheses."
   ]
  },
  {
   "cell_type": "code",
   "execution_count": 11,
   "metadata": {},
   "outputs": [],
   "source": [
    "def get_valid_following_parentheses(parenthesis):\n",
    "    \n",
    "    if len(parenthesis) != 1:\n",
    "        print('Invalid input parenthesis supplied ...')\n",
    "        return\n",
    "\n",
    "    valid_following_parentheses = []\n",
    "\n",
    "    for pair in get_parenthesis_pairs():\n",
    "        \n",
    "        if parenthesis in pair:\n",
    "\n",
    "            if parenthesis == pair[0]:\n",
    "                valid_following_parentheses = [pair[1]] + [other_pair[0] for other_pair in get_parenthesis_pairs()]\n",
    "            \n",
    "            else:\n",
    "                valid_following_parentheses = [other_pair[1] for other_pair in get_parenthesis_pairs()]\n",
    "            \n",
    "            break\n",
    "\n",
    "    return(valid_following_parentheses)"
   ]
  },
  {
   "cell_type": "code",
   "execution_count": 12,
   "metadata": {},
   "outputs": [
    {
     "data": {
      "text/plain": [
       "['}', '(', '[', '{']"
      ]
     },
     "execution_count": 12,
     "metadata": {},
     "output_type": "execute_result"
    }
   ],
   "source": [
    "get_valid_following_parentheses('{')"
   ]
  },
  {
   "cell_type": "code",
   "execution_count": 13,
   "metadata": {},
   "outputs": [
    {
     "data": {
      "text/plain": [
       "[')', ']', '}']"
      ]
     },
     "execution_count": 13,
     "metadata": {},
     "output_type": "execute_result"
    }
   ],
   "source": [
    "get_valid_following_parentheses(')')"
   ]
  },
  {
   "cell_type": "markdown",
   "metadata": {},
   "source": [
    "Create function to perform Check #3."
   ]
  },
  {
   "cell_type": "code",
   "execution_count": 14,
   "metadata": {},
   "outputs": [],
   "source": [
    "def passed_check_3(input_string):\n",
    "    \n",
    "    for i in range(len(input_string) - 1):\n",
    "\n",
    "        print('Parenthesis: {0}'.format(input_string[i]))\n",
    "        print('Following Parenthesis: {0}'.format(input_string[i + 1]))\n",
    "        print('Valid Following Parenthesis: {0}'.format(get_valid_following_parentheses(input_string[i])))\n",
    "\n",
    "        if input_string[i + 1] not in get_valid_following_parentheses(input_string[i]):\n",
    "            print('Invalid following parenthesis ...')\n",
    "            return(False)\n",
    "        else:\n",
    "            print('Valid following parenthesis ...'); print()\n",
    "\n",
    "    return True"
   ]
  },
  {
   "cell_type": "code",
   "execution_count": 15,
   "metadata": {},
   "outputs": [
    {
     "name": "stdout",
     "output_type": "stream",
     "text": [
      "Parenthesis: {\n",
      "Following Parenthesis: {\n",
      "Valid Following Parenthesis: ['}', '(', '[', '{']\n",
      "Valid following parenthesis ...\n",
      "\n",
      "Parenthesis: {\n",
      "Following Parenthesis: [\n",
      "Valid Following Parenthesis: ['}', '(', '[', '{']\n",
      "Valid following parenthesis ...\n",
      "\n",
      "Parenthesis: [\n",
      "Following Parenthesis: (\n",
      "Valid Following Parenthesis: [']', '(', '[', '{']\n",
      "Valid following parenthesis ...\n",
      "\n",
      "Parenthesis: (\n",
      "Following Parenthesis: )\n",
      "Valid Following Parenthesis: [')', '(', '[', '{']\n",
      "Valid following parenthesis ...\n",
      "\n",
      "Parenthesis: )\n",
      "Following Parenthesis: ]\n",
      "Valid Following Parenthesis: [')', ']', '}']\n",
      "Valid following parenthesis ...\n",
      "\n",
      "Parenthesis: ]\n",
      "Following Parenthesis: }\n",
      "Valid Following Parenthesis: [')', ']', '}']\n",
      "Valid following parenthesis ...\n",
      "\n",
      "Parenthesis: }\n",
      "Following Parenthesis: }\n",
      "Valid Following Parenthesis: [')', ']', '}']\n",
      "Valid following parenthesis ...\n",
      "\n"
     ]
    },
    {
     "data": {
      "text/plain": [
       "True"
      ]
     },
     "execution_count": 15,
     "metadata": {},
     "output_type": "execute_result"
    }
   ],
   "source": [
    "input_string = '{{[()]}}'\n",
    "\n",
    "passed_check_3(input_string)"
   ]
  },
  {
   "cell_type": "code",
   "execution_count": 16,
   "metadata": {},
   "outputs": [
    {
     "name": "stdout",
     "output_type": "stream",
     "text": [
      "Parenthesis: [\n",
      "Following Parenthesis: (\n",
      "Valid Following Parenthesis: [']', '(', '[', '{']\n",
      "Valid following parenthesis ...\n",
      "\n",
      "Parenthesis: (\n",
      "Following Parenthesis: )\n",
      "Valid Following Parenthesis: [')', '(', '[', '{']\n",
      "Valid following parenthesis ...\n",
      "\n",
      "Parenthesis: )\n",
      "Following Parenthesis: ]\n",
      "Valid Following Parenthesis: [')', ']', '}']\n",
      "Valid following parenthesis ...\n",
      "\n"
     ]
    },
    {
     "data": {
      "text/plain": [
       "True"
      ]
     },
     "execution_count": 16,
     "metadata": {},
     "output_type": "execute_result"
    }
   ],
   "source": [
    "input_string = '[()]'\n",
    "\n",
    "passed_check_3(input_string)"
   ]
  },
  {
   "cell_type": "code",
   "execution_count": 17,
   "metadata": {},
   "outputs": [
    {
     "name": "stdout",
     "output_type": "stream",
     "text": [
      "Parenthesis: [\n",
      "Following Parenthesis: (\n",
      "Valid Following Parenthesis: [']', '(', '[', '{']\n",
      "Valid following parenthesis ...\n",
      "\n",
      "Parenthesis: (\n",
      "Following Parenthesis: )\n",
      "Valid Following Parenthesis: [')', '(', '[', '{']\n",
      "Valid following parenthesis ...\n",
      "\n",
      "Parenthesis: )\n",
      "Following Parenthesis: [\n",
      "Valid Following Parenthesis: [')', ']', '}']\n",
      "Invalid following parenthesis ...\n"
     ]
    },
    {
     "data": {
      "text/plain": [
       "False"
      ]
     },
     "execution_count": 17,
     "metadata": {},
     "output_type": "execute_result"
    }
   ],
   "source": [
    "input_string = '[()[]'\n",
    "\n",
    "passed_check_3(input_string)"
   ]
  },
  {
   "cell_type": "code",
   "execution_count": 18,
   "metadata": {},
   "outputs": [
    {
     "name": "stdout",
     "output_type": "stream",
     "text": [
      "Parenthesis: [\n",
      "Following Parenthesis: {\n",
      "Valid Following Parenthesis: [']', '(', '[', '{']\n",
      "Valid following parenthesis ...\n",
      "\n",
      "Parenthesis: {\n",
      "Following Parenthesis: )\n",
      "Valid Following Parenthesis: ['}', '(', '[', '{']\n",
      "Invalid following parenthesis ...\n"
     ]
    },
    {
     "data": {
      "text/plain": [
       "False"
      ]
     },
     "execution_count": 18,
     "metadata": {},
     "output_type": "execute_result"
    }
   ],
   "source": [
    "input_string = '[{)}'\n",
    "\n",
    "passed_check_3(input_string)"
   ]
  },
  {
   "cell_type": "markdown",
   "metadata": {},
   "source": [
    "**All Checks:** Combine all checks."
   ]
  },
  {
   "cell_type": "markdown",
   "metadata": {},
   "source": [
    "Create function to perform all checks."
   ]
  },
  {
   "cell_type": "code",
   "execution_count": 19,
   "metadata": {},
   "outputs": [],
   "source": [
    "def passed_all_checks(input_string):\n",
    "    \n",
    "    if passed_check_1(input_string) and passed_check_2(input_string) and passed_check_3(input_string):\n",
    "        return(True)\n",
    "    else:\n",
    "        return(False)"
   ]
  },
  {
   "cell_type": "code",
   "execution_count": 20,
   "metadata": {},
   "outputs": [
    {
     "name": "stdout",
     "output_type": "stream",
     "text": [
      "Input string: ()\n",
      "\n",
      "( count: 1\n",
      ") count: 1\n",
      "Balanced parenthesis ...\n",
      "\n",
      "[ count: 0\n",
      "] count: 0\n",
      "Balanced parenthesis ...\n",
      "\n",
      "{ count: 0\n",
      "} count: 0\n",
      "Balanced parenthesis ...\n",
      "\n",
      "Parenthesis: (\n",
      "Following Parenthesis: )\n",
      "Valid Following Parenthesis: [')', '(', '[', '{']\n",
      "Valid following parenthesis ...\n",
      "\n"
     ]
    },
    {
     "data": {
      "text/plain": [
       "True"
      ]
     },
     "execution_count": 20,
     "metadata": {},
     "output_type": "execute_result"
    }
   ],
   "source": [
    "input_string = '()'\n",
    "\n",
    "passed_all_checks(input_string)"
   ]
  },
  {
   "cell_type": "code",
   "execution_count": 21,
   "metadata": {},
   "outputs": [
    {
     "name": "stdout",
     "output_type": "stream",
     "text": [
      "Input string: [()]\n",
      "\n",
      "( count: 1\n",
      ") count: 1\n",
      "Balanced parenthesis ...\n",
      "\n",
      "[ count: 1\n",
      "] count: 1\n",
      "Balanced parenthesis ...\n",
      "\n",
      "{ count: 0\n",
      "} count: 0\n",
      "Balanced parenthesis ...\n",
      "\n",
      "Parenthesis: [\n",
      "Following Parenthesis: (\n",
      "Valid Following Parenthesis: [']', '(', '[', '{']\n",
      "Valid following parenthesis ...\n",
      "\n",
      "Parenthesis: (\n",
      "Following Parenthesis: )\n",
      "Valid Following Parenthesis: [')', '(', '[', '{']\n",
      "Valid following parenthesis ...\n",
      "\n",
      "Parenthesis: )\n",
      "Following Parenthesis: ]\n",
      "Valid Following Parenthesis: [')', ']', '}']\n",
      "Valid following parenthesis ...\n",
      "\n"
     ]
    },
    {
     "data": {
      "text/plain": [
       "True"
      ]
     },
     "execution_count": 21,
     "metadata": {},
     "output_type": "execute_result"
    }
   ],
   "source": [
    "input_string = '[()]'\n",
    "\n",
    "passed_all_checks(input_string)"
   ]
  },
  {
   "cell_type": "code",
   "execution_count": 22,
   "metadata": {},
   "outputs": [
    {
     "name": "stdout",
     "output_type": "stream",
     "text": [
      "Input string: {{[()]}}\n",
      "\n",
      "( count: 1\n",
      ") count: 1\n",
      "Balanced parenthesis ...\n",
      "\n",
      "[ count: 1\n",
      "] count: 1\n",
      "Balanced parenthesis ...\n",
      "\n",
      "{ count: 2\n",
      "} count: 2\n",
      "Balanced parenthesis ...\n",
      "\n",
      "Parenthesis: {\n",
      "Following Parenthesis: {\n",
      "Valid Following Parenthesis: ['}', '(', '[', '{']\n",
      "Valid following parenthesis ...\n",
      "\n",
      "Parenthesis: {\n",
      "Following Parenthesis: [\n",
      "Valid Following Parenthesis: ['}', '(', '[', '{']\n",
      "Valid following parenthesis ...\n",
      "\n",
      "Parenthesis: [\n",
      "Following Parenthesis: (\n",
      "Valid Following Parenthesis: [']', '(', '[', '{']\n",
      "Valid following parenthesis ...\n",
      "\n",
      "Parenthesis: (\n",
      "Following Parenthesis: )\n",
      "Valid Following Parenthesis: [')', '(', '[', '{']\n",
      "Valid following parenthesis ...\n",
      "\n",
      "Parenthesis: )\n",
      "Following Parenthesis: ]\n",
      "Valid Following Parenthesis: [')', ']', '}']\n",
      "Valid following parenthesis ...\n",
      "\n",
      "Parenthesis: ]\n",
      "Following Parenthesis: }\n",
      "Valid Following Parenthesis: [')', ']', '}']\n",
      "Valid following parenthesis ...\n",
      "\n",
      "Parenthesis: }\n",
      "Following Parenthesis: }\n",
      "Valid Following Parenthesis: [')', ']', '}']\n",
      "Valid following parenthesis ...\n",
      "\n"
     ]
    },
    {
     "data": {
      "text/plain": [
       "True"
      ]
     },
     "execution_count": 22,
     "metadata": {},
     "output_type": "execute_result"
    }
   ],
   "source": [
    "input_string = '{{[()]}}'\n",
    "\n",
    "passed_all_checks(input_string)"
   ]
  },
  {
   "cell_type": "code",
   "execution_count": 23,
   "metadata": {},
   "outputs": [
    {
     "name": "stdout",
     "output_type": "stream",
     "text": [
      "Input string: [(}]\n",
      "\n",
      "( count: 1\n",
      ") count: 0\n",
      "Unbalanced parentheses ...\n",
      "\n"
     ]
    },
    {
     "data": {
      "text/plain": [
       "False"
      ]
     },
     "execution_count": 23,
     "metadata": {},
     "output_type": "execute_result"
    }
   ],
   "source": [
    "input_string = '[(}]'\n",
    "\n",
    "passed_all_checks(input_string)"
   ]
  },
  {
   "cell_type": "code",
   "execution_count": 24,
   "metadata": {},
   "outputs": [
    {
     "name": "stdout",
     "output_type": "stream",
     "text": [
      "Input string: [{)}\n",
      "\n",
      "( count: 0\n",
      ") count: 1\n",
      "Unbalanced parentheses ...\n",
      "\n"
     ]
    },
    {
     "data": {
      "text/plain": [
       "False"
      ]
     },
     "execution_count": 24,
     "metadata": {},
     "output_type": "execute_result"
    }
   ],
   "source": [
    "input_string = '[{)}'\n",
    "\n",
    "passed_all_checks(input_string)"
   ]
  },
  {
   "cell_type": "code",
   "execution_count": 25,
   "metadata": {},
   "outputs": [
    {
     "name": "stdout",
     "output_type": "stream",
     "text": [
      "Invalid opening parenthesis ...\n"
     ]
    },
    {
     "data": {
      "text/plain": [
       "False"
      ]
     },
     "execution_count": 25,
     "metadata": {},
     "output_type": "execute_result"
    }
   ],
   "source": [
    "input_string = ')('\n",
    "\n",
    "passed_all_checks(input_string)"
   ]
  },
  {
   "cell_type": "code",
   "execution_count": 26,
   "metadata": {},
   "outputs": [
    {
     "name": "stdout",
     "output_type": "stream",
     "text": [
      "Invalid closing parenthesis ...\n"
     ]
    },
    {
     "data": {
      "text/plain": [
       "False"
      ]
     },
     "execution_count": 26,
     "metadata": {},
     "output_type": "execute_result"
    }
   ],
   "source": [
    "input_string = '[()]['\n",
    "\n",
    "passed_all_checks(input_string)"
   ]
  }
 ],
 "metadata": {
  "kernelspec": {
   "display_name": "Python 3",
   "language": "python",
   "name": "python3"
  },
  "language_info": {
   "codemirror_mode": {
    "name": "ipython",
    "version": 3
   },
   "file_extension": ".py",
   "mimetype": "text/x-python",
   "name": "python",
   "nbconvert_exporter": "python",
   "pygments_lexer": "ipython3",
   "version": "3.7.4"
  }
 },
 "nbformat": 4,
 "nbformat_minor": 2
}
