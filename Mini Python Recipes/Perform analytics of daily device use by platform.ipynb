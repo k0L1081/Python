{
 "cells": [
  {
   "cell_type": "markdown",
   "metadata": {},
   "source": [
    "### Perform analytics of daily device use by platform ###\n",
    "\n",
    "#### Device use by day: ####\n",
    "```\n",
    "activities = {'iphone': [0, 1, 1, 0, 1, 0, 0],\n",
    "              'samsung': [1, 1, 0, 0, 0, 1, 1],\n",
    "              'desktop': [1, 0, 1, 0, 1, 1, 1]}\n",
    "```\n",
    "#### Devices by platform: ####\n",
    "```\n",
    "platforms = {'mobile': ['iphone', 'samsung'],\n",
    "             'desktop': 'desktop'}\n",
    "```"
   ]
  },
  {
   "cell_type": "markdown",
   "metadata": {},
   "source": [
    "Load data sets."
   ]
  },
  {
   "cell_type": "code",
   "execution_count": 1,
   "metadata": {},
   "outputs": [],
   "source": [
    "ds_platforms = {'mobile': ['iphone', 'samsung'],\n",
    "             'desktop': ['desktop']}\n",
    "\n",
    "ds_activities = {'iphone': [0, 1, 1, 0, 1, 0, 0],\n",
    "              'samsung': [1, 1, 0, 0, 0, 1, 1],\n",
    "              'desktop': [1, 0, 1, 0, 1, 1, 1]}"
   ]
  },
  {
   "cell_type": "markdown",
   "metadata": {},
   "source": [
    "Create function to compute aggregate total number of days with activity for each platform."
   ]
  },
  {
   "cell_type": "code",
   "execution_count": 2,
   "metadata": {},
   "outputs": [],
   "source": [
    "def get_platform_active_days(platform, platforms, activities):\n",
    "    \n",
    "    is_active_day = [False, False, False, False, False, False, False]\n",
    "\n",
    "    for device in platforms[platform]:\n",
    "\n",
    "        i = 0\n",
    "\n",
    "        for i in range(len(is_active_day)):\n",
    "            if activities[device][i] == 1:\n",
    "                is_active_day[i] = True\n",
    "            \n",
    "            i += 1\n",
    "    \n",
    "    print('Is Active Day?', is_active_day)\n",
    "    \n",
    "    return(sum(is_active_day))"
   ]
  },
  {
   "cell_type": "markdown",
   "metadata": {},
   "source": [
    "Compute aggregate total number of days with activity for **mobile**."
   ]
  },
  {
   "cell_type": "code",
   "execution_count": 3,
   "metadata": {},
   "outputs": [
    {
     "name": "stdout",
     "output_type": "stream",
     "text": [
      "Is Active Day? [True, True, True, False, True, True, True]\n",
      "The total number of days with activity for mobile is 6.\n"
     ]
    }
   ],
   "source": [
    "platform = 'mobile'\n",
    "\n",
    "print('The total number of days with activity for {0} is {1}.'.format(platform,\n",
    "                                                                     get_platform_active_days(platform,\n",
    "                                                                                             ds_platforms,\n",
    "                                                                                             ds_activities)))"
   ]
  },
  {
   "cell_type": "markdown",
   "metadata": {},
   "source": [
    "Compute aggregate total number of days with activity for **desktop**."
   ]
  },
  {
   "cell_type": "code",
   "execution_count": 4,
   "metadata": {},
   "outputs": [
    {
     "name": "stdout",
     "output_type": "stream",
     "text": [
      "Is Active Day? [True, False, True, False, True, True, True]\n",
      "The total number of days with activity for desktop is 5.\n"
     ]
    }
   ],
   "source": [
    "platform = 'desktop'\n",
    "\n",
    "print('The total number of days with activity for {0} is {1}.'.format(platform,\n",
    "                                                                     get_platform_active_days(platform,\n",
    "                                                                                             ds_platforms,\n",
    "                                                                                             ds_activities)))"
   ]
  }
 ],
 "metadata": {
  "kernelspec": {
   "display_name": "Python 3",
   "language": "python",
   "name": "python3"
  },
  "language_info": {
   "codemirror_mode": {
    "name": "ipython",
    "version": 3
   },
   "file_extension": ".py",
   "mimetype": "text/x-python",
   "name": "python",
   "nbconvert_exporter": "python",
   "pygments_lexer": "ipython3",
   "version": "3.7.4"
  }
 },
 "nbformat": 4,
 "nbformat_minor": 2
}
