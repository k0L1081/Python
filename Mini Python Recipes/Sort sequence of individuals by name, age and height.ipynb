{
 "cells": [
  {
   "cell_type": "markdown",
   "metadata": {},
   "source": [
    "### Sort sequence of individuals by name, age and height. ###\n",
    "\n",
    "For a sequence of individual entries made to the console; in name, age, height format; sort the entries in ascending order. Sort based on name; then sort based on age; then sort by height.\n",
    "\n",
    "The priority is as follows: name > age > height.\n",
    "\n",
    "E.g., If the following individual entries are supplied to the program:<br>\n",
    "\n",
    "Kim,25,70<br>\n",
    "Brenda,50,58<br>\n",
    "Kim,35,70<br>\n",
    "John,20,80<br>\n",
    "Yolanda,38,65<br>\n",
    "Jony,17,81<br>\n",
    "Jony,17,83<br>\n",
    "Frank,21,75<br>\n",
    "Amy,50,58<br>\n",
    "Amy,34,61<br>\n",
    "\n",
    "The expected output should be:<br>\n",
    "\n",
    "[('Amy', '34', '61'), ('Amy', '50', '58'), ('Brenda', '50', '58'), ('Frank', '21', '75'), ('John', '20', '80'), ('Jony', '17', '81'), ('Jony', '17', '83'), ('Kim', '25', '70'), ('Kim', '35', '70'), ('Yolanda', '38', '65')]\n",
    "\n",
    "**Create function to get sequence of individual entries and sort by name, age and height.**"
   ]
  },
  {
   "cell_type": "code",
   "execution_count": 34,
   "metadata": {
    "collapsed": false
   },
   "outputs": [],
   "source": [
    "def get_and_sort_individuals():\n",
    "    individuals = []\n",
    "\n",
    "    while(True):\n",
    "        individual = input()\n",
    "\n",
    "        if (not individual):\n",
    "            break\n",
    "\n",
    "        name, age, height = individual.split(',')\n",
    "        individual = (name, age, height)\n",
    "\n",
    "        individuals.append(individual)\n",
    "\n",
    "    individuals.sort()\n",
    "    print(individuals)"
   ]
  },
  {
   "cell_type": "markdown",
   "metadata": {},
   "source": [
    "**Get sequence of individual entries and sort by name, age and height.**"
   ]
  },
  {
   "cell_type": "code",
   "execution_count": 36,
   "metadata": {
    "collapsed": false
   },
   "outputs": [
    {
     "name": "stdout",
     "output_type": "stream",
     "text": [
      "Kim,25,70\n",
      "Brenda,50,58\n",
      "Kim,35,70\n",
      "John,20,80\n",
      "Yolanda,38,65\n",
      "Jony,17,81\n",
      "Jony,17,83\n",
      "Frank,21,75\n",
      "Amy,50,58\n",
      "Amy,34,61\n",
      "\n",
      "[('Amy', '34', '61'), ('Amy', '50', '58'), ('Brenda', '50', '58'), ('Frank', '21', '75'), ('John', '20', '80'), ('Jony', '17', '81'), ('Jony', '17', '83'), ('Kim', '25', '70'), ('Kim', '35', '70'), ('Yolanda', '38', '65')]\n"
     ]
    }
   ],
   "source": [
    "get_and_sort_individuals()"
   ]
  }
 ],
 "metadata": {
  "kernelspec": {
   "display_name": "Python 3",
   "language": "python",
   "name": "python3"
  },
  "language_info": {
   "codemirror_mode": {
    "name": "ipython",
    "version": 3
   },
   "file_extension": ".py",
   "mimetype": "text/x-python",
   "name": "python",
   "nbconvert_exporter": "python",
   "pygments_lexer": "ipython3",
   "version": "3.5.2"
  }
 },
 "nbformat": 4,
 "nbformat_minor": 2
}
