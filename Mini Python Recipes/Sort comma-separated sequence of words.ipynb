{
 "cells": [
  {
   "cell_type": "code",
   "execution_count": 3,
   "metadata": {
    "collapsed": false
   },
   "outputs": [
    {
     "name": "stdout",
     "output_type": "stream",
     "text": [
      "without,hello,bag,world\n"
     ]
    },
    {
     "data": {
      "text/plain": [
       "'bag,hello,without,world'"
      ]
     },
     "execution_count": 3,
     "metadata": {},
     "output_type": "execute_result"
    }
   ],
   "source": [
    "# Sort comma-separated sequence of words.\n",
    "# Accepts a comma-separated sequence of words as input\n",
    "# and prints the words in a comma-separated sequence after sorting them alphabetically.\n",
    "# E.g., the following input: without,hello,bag,world\n",
    "# Should produce the following output:\n",
    "# bag,hello,without,world\n",
    "\n",
    "def sort_words(lst_words):\n",
    "    lst_words = lst_words.split(',')\n",
    "    lst_words = [str.strip(word) for word in lst_words]\n",
    "    lst_words.sort()\n",
    "    lst_words = ','.join(lst_words)\n",
    "    \n",
    "    return(lst_words)\n",
    "\n",
    "lst_words = input()\n",
    "sort_words(lst_words)"
   ]
  },
  {
   "cell_type": "code",
   "execution_count": 6,
   "metadata": {
    "collapsed": false
   },
   "outputs": [
    {
     "name": "stdout",
     "output_type": "stream",
     "text": [
      "without,hello,bag,world\n"
     ]
    },
    {
     "data": {
      "text/plain": [
       "'bag,hello,without,world'"
      ]
     },
     "execution_count": 6,
     "metadata": {},
     "output_type": "execute_result"
    }
   ],
   "source": [
    "# Perform computation in single line.\n",
    "\n",
    "def sort_words(lst_words):\n",
    "    lst_words = ','.join(sorted([str.strip(word) for word in lst_words.split(',')]))\n",
    "    return(lst_words)\n",
    "\n",
    "lst_words = input()\n",
    "sort_words(lst_words)"
   ]
  }
 ],
 "metadata": {
  "kernelspec": {
   "display_name": "Python 3",
   "language": "python",
   "name": "python3"
  },
  "language_info": {
   "codemirror_mode": {
    "name": "ipython",
    "version": 3
   },
   "file_extension": ".py",
   "mimetype": "text/x-python",
   "name": "python",
   "nbconvert_exporter": "python",
   "pygments_lexer": "ipython3",
   "version": "3.5.2"
  }
 },
 "nbformat": 4,
 "nbformat_minor": 2
}
