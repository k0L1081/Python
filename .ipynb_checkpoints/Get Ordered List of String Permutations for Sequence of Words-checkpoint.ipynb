{
 "cells": [
  {
   "cell_type": "markdown",
   "metadata": {},
   "source": [
    "### Get Ordered List of String Permutations for Sequence of Words\n",
    "\n",
    "For a given sequence of words, construct list of string permutations for each word.\n",
    "\n",
    "Order the list of string permutations by the original word and then by the permutation.\n",
    "\n",
    "Print the output as a comma-delimited string of permutations for all words of the input sequence.\n",
    "\n",
    "E.g., For the word `tie`, the output should be: `eit,eti,iet,ite,tei,tie`\n",
    "\n",
    "E.g., For the sequence:`car,sun`\n",
    "\n",
    "The output should be: `acr,arc,car,cra,rac,rca,nsu,nus,snu,sun,uns,usn`"
   ]
  },
  {
   "cell_type": "code",
   "execution_count": 1,
   "metadata": {},
   "outputs": [],
   "source": [
    "# Perform import(s).\n",
    "from itertools import permutations"
   ]
  },
  {
   "cell_type": "code",
   "execution_count": 2,
   "metadata": {},
   "outputs": [],
   "source": [
    "# Create function to print ordered list of string permutations for input sequence of words.\n",
    "def print_words_permutations(words):\n",
    "\n",
    "  perms = []\n",
    "\n",
    "  for word in words.split(','):\n",
    "\n",
    "    perms += sorted([''.join(p) for p in list(permutations(word))])\n",
    "\n",
    "  perms = ','.join(perms)\n",
    "\n",
    "  return(perms)"
   ]
  },
  {
   "cell_type": "code",
   "execution_count": 3,
   "metadata": {},
   "outputs": [
    {
     "data": {
      "text/plain": [
       "'eit,eti,iet,ite,tei,tie'"
      ]
     },
     "execution_count": 3,
     "metadata": {},
     "output_type": "execute_result"
    }
   ],
   "source": [
    "print_words_permutations('tie')"
   ]
  },
  {
   "cell_type": "code",
   "execution_count": 4,
   "metadata": {},
   "outputs": [
    {
     "data": {
      "text/plain": [
       "'acr,arc,car,cra,rac,rca,nsu,nus,snu,sun,uns,usn'"
      ]
     },
     "execution_count": 4,
     "metadata": {},
     "output_type": "execute_result"
    }
   ],
   "source": [
    "print_words_permutations('car,sun')"
   ]
  },
  {
   "cell_type": "code",
   "execution_count": 5,
   "metadata": {},
   "outputs": [
    {
     "data": {
      "text/plain": [
       "'acr,arc,car,cra,rac,rca,nsu,nus,snu,sun,uns,usn,bkno,bkon,bnko,bnok,bokn,bonk,kbno,kbon,knbo,knob,kobn,konb,nbko,nbok,nkbo,nkob,nobk,nokb,obkn,obnk,okbn,oknb,onbk,onkb,jmpu,jmup,jpmu,jpum,jump,jupm,mjpu,mjup,mpju,mpuj,mujp,mupj,pjmu,pjum,pmju,pmuj,pujm,pumj,ujmp,ujpm,umjp,umpj,upjm,upmj,ckrtu,ckrut,cktru,cktur,ckurt,ckutr,crktu,crkut,crtku,crtuk,crukt,crutk,ctkru,ctkur,ctrku,ctruk,ctukr,cturk,cukrt,cuktr,curkt,curtk,cutkr,cutrk,kcrtu,kcrut,kctru,kctur,kcurt,kcutr,krctu,krcut,krtcu,krtuc,kruct,krutc,ktcru,ktcur,ktrcu,ktruc,ktucr,kturc,kucrt,kuctr,kurct,kurtc,kutcr,kutrc,rcktu,rckut,rctku,rctuk,rcukt,rcutk,rkctu,rkcut,rktcu,rktuc,rkuct,rkutc,rtcku,rtcuk,rtkcu,rtkuc,rtuck,rtukc,ruckt,ructk,rukct,ruktc,rutck,rutkc,tckru,tckur,tcrku,tcruk,tcukr,tcurk,tkcru,tkcur,tkrcu,tkruc,tkucr,tkurc,trcku,trcuk,trkcu,trkuc,truck,trukc,tuckr,tucrk,tukcr,tukrc,turck,turkc,uckrt,ucktr,ucrkt,ucrtk,uctkr,uctrk,ukcrt,ukctr,ukrct,ukrtc,uktcr,uktrc,urckt,urctk,urkct,urktc,urtck,urtkc,utckr,utcrk,utkcr,utkrc,utrck,utrkc'"
      ]
     },
     "execution_count": 5,
     "metadata": {},
     "output_type": "execute_result"
    }
   ],
   "source": [
    "print_words_permutations('car,sun,knob,jump,truck')"
   ]
  },
  {
   "cell_type": "code",
   "execution_count": 6,
   "metadata": {},
   "outputs": [
    {
     "data": {
      "text/plain": [
       "'inw,iwn,niw,nwi,win,wni,ace,aec,cae,cea,eac,eca,cikk,cikk,ckik,ckik,ckki,ckki,ickk,ickk,ikck,ikck,ikkc,ikkc,kcik,kcik,kcki,kcki,kick,kick,kikc,kikc,kkci,kkci,kkic,kkic,ailm,aiml,alim,almi,amil,amli,ialm,iaml,ilam,ilma,imal,imla,laim,lami,liam,lima,lmai,lmia,mail,mali,mial,mila,mlai,mlia,ehirtv,ehirvt,ehitrv,ehitvr,ehivrt,ehivtr,ehritv,ehrivt,ehrtiv,ehrtvi,ehrvit,ehrvti,ehtirv,ehtivr,ehtriv,ehtrvi,ehtvir,ehtvri,ehvirt,ehvitr,ehvrit,ehvrti,ehvtir,ehvtri,eihrtv,eihrvt,eihtrv,eihtvr,eihvrt,eihvtr,eirhtv,eirhvt,eirthv,eirtvh,eirvht,eirvth,eithrv,eithvr,eitrhv,eitrvh,eitvhr,eitvrh,eivhrt,eivhtr,eivrht,eivrth,eivthr,eivtrh,erhitv,erhivt,erhtiv,erhtvi,erhvit,erhvti,erihtv,erihvt,erithv,eritvh,erivht,erivth,erthiv,erthvi,ertihv,ertivh,ertvhi,ertvih,ervhit,ervhti,erviht,ervith,ervthi,ervtih,ethirv,ethivr,ethriv,ethrvi,ethvir,ethvri,etihrv,etihvr,etirhv,etirvh,etivhr,etivrh,etrhiv,etrhvi,etrihv,etrivh,etrvhi,etrvih,etvhir,etvhri,etvihr,etvirh,etvrhi,etvrih,evhirt,evhitr,evhrit,evhrti,evhtir,evhtri,evihrt,evihtr,evirht,evirth,evithr,evitrh,evrhit,evrhti,evriht,evrith,evrthi,evrtih,evthir,evthri,evtihr,evtirh,evtrhi,evtrih,heirtv,heirvt,heitrv,heitvr,heivrt,heivtr,heritv,herivt,hertiv,hertvi,hervit,hervti,hetirv,hetivr,hetriv,hetrvi,hetvir,hetvri,hevirt,hevitr,hevrit,hevrti,hevtir,hevtri,hiertv,hiervt,hietrv,hietvr,hievrt,hievtr,hiretv,hirevt,hirtev,hirtve,hirvet,hirvte,hiterv,hitevr,hitrev,hitrve,hitver,hitvre,hivert,hivetr,hivret,hivrte,hivter,hivtre,hreitv,hreivt,hretiv,hretvi,hrevit,hrevti,hrietv,hrievt,hritev,hritve,hrivet,hrivte,hrteiv,hrtevi,hrtiev,hrtive,hrtvei,hrtvie,hrveit,hrveti,hrviet,hrvite,hrvtei,hrvtie,hteirv,hteivr,hteriv,htervi,htevir,htevri,htierv,htievr,htirev,htirve,htiver,htivre,htreiv,htrevi,htriev,htrive,htrvei,htrvie,htveir,htveri,htvier,htvire,htvrei,htvrie,hveirt,hveitr,hverit,hverti,hvetir,hvetri,hviert,hvietr,hviret,hvirte,hviter,hvitre,hvreit,hvreti,hvriet,hvrite,hvrtei,hvrtie,hvteir,hvteri,hvtier,hvtire,hvtrei,hvtrie,iehrtv,iehrvt,iehtrv,iehtvr,iehvrt,iehvtr,ierhtv,ierhvt,ierthv,iertvh,iervht,iervth,iethrv,iethvr,ietrhv,ietrvh,ietvhr,ietvrh,ievhrt,ievhtr,ievrht,ievrth,ievthr,ievtrh,ihertv,ihervt,ihetrv,ihetvr,ihevrt,ihevtr,ihretv,ihrevt,ihrtev,ihrtve,ihrvet,ihrvte,ihterv,ihtevr,ihtrev,ihtrve,ihtver,ihtvre,ihvert,ihvetr,ihvret,ihvrte,ihvter,ihvtre,irehtv,irehvt,irethv,iretvh,irevht,irevth,irhetv,irhevt,irhtev,irhtve,irhvet,irhvte,irtehv,irtevh,irthev,irthve,irtveh,irtvhe,irveht,irveth,irvhet,irvhte,irvteh,irvthe,itehrv,itehvr,iterhv,itervh,itevhr,itevrh,itherv,ithevr,ithrev,ithrve,ithver,ithvre,itrehv,itrevh,itrhev,itrhve,itrveh,itrvhe,itvehr,itverh,itvher,itvhre,itvreh,itvrhe,ivehrt,ivehtr,iverht,iverth,ivethr,ivetrh,ivhert,ivhetr,ivhret,ivhrte,ivhter,ivhtre,ivreht,ivreth,ivrhet,ivrhte,ivrteh,ivrthe,ivtehr,ivterh,ivther,ivthre,ivtreh,ivtrhe,rehitv,rehivt,rehtiv,rehtvi,rehvit,rehvti,reihtv,reihvt,reithv,reitvh,reivht,reivth,rethiv,rethvi,retihv,retivh,retvhi,retvih,revhit,revhti,reviht,revith,revthi,revtih,rheitv,rheivt,rhetiv,rhetvi,rhevit,rhevti,rhietv,rhievt,rhitev,rhitve,rhivet,rhivte,rhteiv,rhtevi,rhtiev,rhtive,rhtvei,rhtvie,rhveit,rhveti,rhviet,rhvite,rhvtei,rhvtie,riehtv,riehvt,riethv,rietvh,rievht,rievth,rihetv,rihevt,rihtev,rihtve,rihvet,rihvte,ritehv,ritevh,rithev,rithve,ritveh,ritvhe,riveht,riveth,rivhet,rivhte,rivteh,rivthe,rtehiv,rtehvi,rteihv,rteivh,rtevhi,rtevih,rtheiv,rthevi,rthiev,rthive,rthvei,rthvie,rtiehv,rtievh,rtihev,rtihve,rtiveh,rtivhe,rtvehi,rtveih,rtvhei,rtvhie,rtvieh,rtvihe,rvehit,rvehti,rveiht,rveith,rvethi,rvetih,rvheit,rvheti,rvhiet,rvhite,rvhtei,rvhtie,rvieht,rvieth,rvihet,rvihte,rviteh,rvithe,rvtehi,rvteih,rvthei,rvthie,rvtieh,rvtihe,tehirv,tehivr,tehriv,tehrvi,tehvir,tehvri,teihrv,teihvr,teirhv,teirvh,teivhr,teivrh,terhiv,terhvi,terihv,terivh,tervhi,tervih,tevhir,tevhri,tevihr,tevirh,tevrhi,tevrih,theirv,theivr,theriv,thervi,thevir,thevri,thierv,thievr,thirev,thirve,thiver,thivre,threiv,threvi,thriev,thrive,thrvei,thrvie,thveir,thveri,thvier,thvire,thvrei,thvrie,tiehrv,tiehvr,tierhv,tiervh,tievhr,tievrh,tiherv,tihevr,tihrev,tihrve,tihver,tihvre,tirehv,tirevh,tirhev,tirhve,tirveh,tirvhe,tivehr,tiverh,tivher,tivhre,tivreh,tivrhe,trehiv,trehvi,treihv,treivh,trevhi,trevih,trheiv,trhevi,trhiev,trhive,trhvei,trhvie,triehv,trievh,trihev,trihve,triveh,trivhe,trvehi,trveih,trvhei,trvhie,trvieh,trvihe,tvehir,tvehri,tveihr,tveirh,tverhi,tverih,tvheir,tvheri,tvhier,tvhire,tvhrei,tvhrie,tviehr,tvierh,tviher,tvihre,tvireh,tvirhe,tvrehi,tvreih,tvrhei,tvrhie,tvrieh,tvrihe,vehirt,vehitr,vehrit,vehrti,vehtir,vehtri,veihrt,veihtr,veirht,veirth,veithr,veitrh,verhit,verhti,veriht,verith,verthi,vertih,vethir,vethri,vetihr,vetirh,vetrhi,vetrih,vheirt,vheitr,vherit,vherti,vhetir,vhetri,vhiert,vhietr,vhiret,vhirte,vhiter,vhitre,vhreit,vhreti,vhriet,vhrite,vhrtei,vhrtie,vhteir,vhteri,vhtier,vhtire,vhtrei,vhtrie,viehrt,viehtr,vierht,vierth,viethr,vietrh,vihert,vihetr,vihret,vihrte,vihter,vihtre,vireht,vireth,virhet,virhte,virteh,virthe,vitehr,viterh,vither,vithre,vitreh,vitrhe,vrehit,vrehti,vreiht,vreith,vrethi,vretih,vrheit,vrheti,vrhiet,vrhite,vrhtei,vrhtie,vrieht,vrieth,vrihet,vrihte,vriteh,vrithe,vrtehi,vrteih,vrthei,vrthie,vrtieh,vrtihe,vtehir,vtehri,vteihr,vteirh,vterhi,vterih,vtheir,vtheri,vthier,vthire,vthrei,vthrie,vtiehr,vtierh,vtiher,vtihre,vtireh,vtirhe,vtrehi,vtreih,vtrhei,vtrhie,vtrieh,vtrihe'"
      ]
     },
     "execution_count": 6,
     "metadata": {},
     "output_type": "execute_result"
    }
   ],
   "source": [
    "print_words_permutations('win,ace,kick,mail,thrive')"
   ]
  }
 ],
 "metadata": {
  "kernelspec": {
   "display_name": "Python 3 (ipykernel)",
   "language": "python",
   "name": "python3"
  },
  "language_info": {
   "codemirror_mode": {
    "name": "ipython",
    "version": 3
   },
   "file_extension": ".py",
   "mimetype": "text/x-python",
   "name": "python",
   "nbconvert_exporter": "python",
   "pygments_lexer": "ipython3",
   "version": "3.7.13"
  }
 },
 "nbformat": 4,
 "nbformat_minor": 2
}
