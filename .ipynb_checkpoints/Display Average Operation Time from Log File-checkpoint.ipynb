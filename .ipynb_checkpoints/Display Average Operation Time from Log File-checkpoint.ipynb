{
 "cells": [
  {
   "cell_type": "markdown",
   "metadata": {},
   "source": [
    "### Read lines of log file and compute the average runtime for all operations ###"
   ]
  },
  {
   "cell_type": "code",
   "execution_count": 1,
   "metadata": {},
   "outputs": [],
   "source": [
    "# Import package(s).\n",
    "import os\n",
    "import numpy as np\n",
    "from datetime import datetime"
   ]
  },
  {
   "cell_type": "markdown",
   "metadata": {},
   "source": [
    "**Content of Log File `operations.txt`<br>**\n",
    "\n",
    "2017-02-01T10:00 Operation ABC Start<br>\n",
    "2017-02-01T10:01 Operation ABC End<br>\n",
    "2017-02-01T10:02 Operation DEF Start<br>\n",
    "2017-02-01T10:08 Operation XYZ Start<br>\n",
    "2017-02-01T20:09 Operation WXY Start<br>\n",
    "2017-02-01T20:10 Operation XYZ End<br>\n",
    "2017-02-01T20:12 Operation WXY End<br>\n",
    "2017-02-01T10:05 Operation DEF End"
   ]
  },
  {
   "cell_type": "code",
   "execution_count": 2,
   "metadata": {},
   "outputs": [],
   "source": [
    "# Declare variable(s).\n",
    "dict_operations = {}\n",
    "\n",
    "lst_durations = []\n",
    "\n",
    "DateTimeFormat = \"%Y-%m-%dT%H:%M\"\n",
    "\n",
    "downloads_dir_path = os.getenv('DOWNLOADS_PATH')\n",
    "\n",
    "operations_file_path = os.path.join(downloads_dir_path, 'operations.txt')"
   ]
  },
  {
   "cell_type": "code",
   "execution_count": 3,
   "metadata": {},
   "outputs": [
    {
     "name": "stdout",
     "output_type": "stream",
     "text": [
      "2017-02-01T10:00 Operation ABC Start\n",
      "2017-02-01T10:01 Operation ABC End\n",
      "2017-02-01T10:02 Operation DEF Start\n",
      "2017-02-01T10:08 Operation XYZ Start\n",
      "2017-02-01T20:09 Operation WXY Start\n",
      "2017-02-01T20:10 Operation XYZ End\n",
      "2017-02-01T20:12 Operation WXY End\n",
      "2017-02-01T10:05 Operation DEF End"
     ]
    },
    {
     "data": {
      "text/plain": [
       "{'ABC': ('2017-02-01T10:00', '2017-02-01T10:01', 1.0),\n",
       " 'DEF': ('2017-02-01T10:02', '2017-02-01T10:05', 3.0),\n",
       " 'XYZ': ('2017-02-01T10:08', '2017-02-01T20:10', 602.0),\n",
       " 'WXY': ('2017-02-01T20:09', '2017-02-01T20:12', 3.0)}"
      ]
     },
     "execution_count": 3,
     "metadata": {},
     "output_type": "execute_result"
    }
   ],
   "source": [
    "# Open file in read-only mode.\n",
    "with open(operations_file_path, 'r') as operations:\n",
    "    \n",
    "    for operation in operations:\n",
    "\n",
    "        # Print current line.\n",
    "        print(operation, end='')\n",
    "        \n",
    "        # Split items of line by whitespace.\n",
    "        operation_items = operation.split()\n",
    "        \n",
    "        # Capture Operation Time. E.g., 2017-02-01T10:00\n",
    "        operation_time = operation_items[0]\n",
    "\n",
    "        # Capture Operation Name. E.g., ABC\n",
    "        operation_name = operation_items[2]\n",
    "        \n",
    "        # Capture Operation Type. E.g., Start\n",
    "        operation_type = operation_items[3]\n",
    "\n",
    "        # Capture Start Time.\n",
    "        if operation_type == 'Start':\n",
    "        \n",
    "            # If entry for Operation already exists ...\n",
    "            if dict_operations.get(operation_name):\n",
    "                \n",
    "                # Capture Start Time and, if End Time exists, retain End Time.\n",
    "                dict_operations[operation_name] = (operation_time, dict_operations[operation_name][1], None)\n",
    "            \n",
    "            # Entry for Operation does not exist ...\n",
    "            else:\n",
    "\n",
    "                # Capture only Start Time.\n",
    "                dict_operations[operation_name] = (operation_time, None, None)\n",
    "\n",
    "        # Capture End Time.\n",
    "        elif operation_type == 'End':\n",
    "        \n",
    "            # If entry for Operation already exists ...\n",
    "            if dict_operations.get(operation_name):\n",
    "                \n",
    "                # Capture End Time and, if Start Time exists, retain Start Time.\n",
    "                dict_operations[operation_name] = (dict_operations[operation_name][0], operation_time, None)\n",
    "                \n",
    "            # Entry for Operation does not exist ...\n",
    "            else:\n",
    "\n",
    "                # Capture only End Time.\n",
    "                dict_operations[operation_name] = (None, operation_time, None)\n",
    "                \n",
    "        # When Start Time and End Time exist, calculate Duration (in minutes).\n",
    "        if dict_operations[operation_name][0] and dict_operations[operation_name][1]:\n",
    "            \n",
    "            start_time = dict_operations[operation_name][0]\n",
    "            \n",
    "            end_time = dict_operations[operation_name][1]\n",
    "            \n",
    "            # Compute Duration: End Time - Start Time\n",
    "            duration = (datetime.strptime(end_time, DateTimeFormat)\n",
    "                        - datetime.strptime(start_time, DateTimeFormat))\n",
    "            \n",
    "            # Extract Minutes from Duration.\n",
    "            duration_minutes = duration.total_seconds() / 60\n",
    "            \n",
    "            # Store Duration.\n",
    "            dict_operations[operation_name] = (start_time, end_time, duration_minutes)\n",
    "\n",
    "# Print captured content.\n",
    "dict_operations"
   ]
  },
  {
   "cell_type": "code",
   "execution_count": 4,
   "metadata": {},
   "outputs": [
    {
     "data": {
      "text/plain": [
       "[1.0, 3.0, 602.0, 3.0]"
      ]
     },
     "execution_count": 4,
     "metadata": {},
     "output_type": "execute_result"
    }
   ],
   "source": [
    "# Create list of all Duration entries.\n",
    "lst_durations = [operations[2] for operations in dict_operations.values()]\n",
    "\n",
    "# Print list of Duration entries.\n",
    "lst_durations"
   ]
  },
  {
   "cell_type": "code",
   "execution_count": 5,
   "metadata": {},
   "outputs": [
    {
     "name": "stdout",
     "output_type": "stream",
     "text": [
      "Average Run Time: 152.25 Minutes\n"
     ]
    }
   ],
   "source": [
    "# Compute mean of Durations.\n",
    "average_run_time = np.mean(lst_durations)\n",
    "\n",
    "# Print Average Run Time.\n",
    "print(f'Average Run Time: {average_run_time} Minutes')"
   ]
  }
 ],
 "metadata": {
  "kernelspec": {
   "display_name": "Python 3 (ipykernel)",
   "language": "python",
   "name": "python3"
  },
  "language_info": {
   "codemirror_mode": {
    "name": "ipython",
    "version": 3
   },
   "file_extension": ".py",
   "mimetype": "text/x-python",
   "name": "python",
   "nbconvert_exporter": "python",
   "pygments_lexer": "ipython3",
   "version": "3.7.13"
  }
 },
 "nbformat": 4,
 "nbformat_minor": 2
}
