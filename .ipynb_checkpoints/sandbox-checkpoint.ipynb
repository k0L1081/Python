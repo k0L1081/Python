{
 "cells": [
  {
   "cell_type": "code",
   "execution_count": 0,
   "metadata": {
    "application/vnd.databricks.v1+cell": {
     "cellMetadata": {
      "byteLimit": 2048000,
      "rowLimit": 10000
     },
     "inputWidgets": {},
     "nuid": "2f2365bf-334a-4c98-970e-996b25e4dea8",
     "showTitle": false,
     "title": ""
    }
   },
   "outputs": [
    {
     "name": "stdout",
     "output_type": "stream",
     "text": [
      "Out[37]: [(1, 'Bernard Arnault', 236),\n",
      " (2, 'Jeff Bezos', 193),\n",
      " (3, 'Elon Musk', 189),\n",
      " (4, 'Mark Zuckerberg', 170),\n",
      " (5, 'Larry Elison', 155)]"
     ]
    }
   ],
   "source": [
    "lst_columns = ['rank', 'name', 'net_worth']\n",
    "lst_billionaires = [(1, 'Bernard Arnault', 236), (2, 'Jeff Bezos', 193), (3, 'Elon Musk', 189), (4, 'Mark Zuckerberg', 170), (5, 'Larry Elison', 155)]\n",
    "\n",
    "lst_billionaires"
   ]
  },
  {
   "cell_type": "code",
   "execution_count": 0,
   "metadata": {
    "application/vnd.databricks.v1+cell": {
     "cellMetadata": {
      "byteLimit": 2048000,
      "rowLimit": 10000
     },
     "inputWidgets": {},
     "nuid": "7fed27f6-4413-4ce6-aba2-d1018dd5c3b5",
     "showTitle": false,
     "title": ""
    }
   },
   "outputs": [
    {
     "name": "stdout",
     "output_type": "stream",
     "text": [
      "Out[38]: [(1, 'Bernard Arnault', 236),\n",
      " (2, 'Jeff Bezos', 193),\n",
      " (3, 'Elon Musk', 189),\n",
      " (4, 'Mark Zuckerberg', 170),\n",
      " (5, 'Larry Elison', 155)]"
     ]
    }
   ],
   "source": [
    "rdd_billionaires = sc.parallelize(lst_billionaires)\n",
    "\n",
    "rdd_billionaires.collect()"
   ]
  },
  {
   "cell_type": "code",
   "execution_count": 0,
   "metadata": {
    "application/vnd.databricks.v1+cell": {
     "cellMetadata": {
      "byteLimit": 2048000,
      "rowLimit": 10000
     },
     "inputWidgets": {},
     "nuid": "dfd09610-9570-4126-9038-38038262b351",
     "showTitle": false,
     "title": ""
    }
   },
   "outputs": [
    {
     "data": {
      "text/html": [
       "<style scoped>\n",
       "  .table-result-container {\n",
       "    max-height: 300px;\n",
       "    overflow: auto;\n",
       "  }\n",
       "  table, th, td {\n",
       "    border: 1px solid black;\n",
       "    border-collapse: collapse;\n",
       "  }\n",
       "  th, td {\n",
       "    padding: 5px;\n",
       "  }\n",
       "  th {\n",
       "    text-align: left;\n",
       "  }\n",
       "</style><div class='table-result-container'><table class='table-result'><thead style='background-color: white'><tr><th>rank</th><th>name</th><th>net_worth</th></tr></thead><tbody><tr><td>1</td><td>Bernard Arnault</td><td>236</td></tr><tr><td>2</td><td>Jeff Bezos</td><td>193</td></tr><tr><td>3</td><td>Elon Musk</td><td>189</td></tr><tr><td>4</td><td>Mark Zuckerberg</td><td>170</td></tr><tr><td>5</td><td>Larry Elison</td><td>155</td></tr></tbody></table></div>"
      ]
     },
     "metadata": {
      "application/vnd.databricks.v1+output": {
       "addedWidgets": {},
       "aggData": [],
       "aggError": "",
       "aggOverflow": false,
       "aggSchema": [],
       "aggSeriesLimitReached": false,
       "aggType": "",
       "arguments": {},
       "columnCustomDisplayInfos": {},
       "data": [
        [
         1,
         "Bernard Arnault",
         236
        ],
        [
         2,
         "Jeff Bezos",
         193
        ],
        [
         3,
         "Elon Musk",
         189
        ],
        [
         4,
         "Mark Zuckerberg",
         170
        ],
        [
         5,
         "Larry Elison",
         155
        ]
       ],
       "datasetInfos": [],
       "dbfsResultPath": null,
       "isJsonSchema": true,
       "metadata": {},
       "overflow": false,
       "plotOptions": {
        "customPlotOptions": {},
        "displayType": "table",
        "pivotAggregation": null,
        "pivotColumns": null,
        "xColumns": null,
        "yColumns": null
       },
       "removedWidgets": [],
       "schema": [
        {
         "metadata": "{}",
         "name": "rank",
         "type": "\"long\""
        },
        {
         "metadata": "{}",
         "name": "name",
         "type": "\"string\""
        },
        {
         "metadata": "{}",
         "name": "net_worth",
         "type": "\"long\""
        }
       ],
       "type": "table"
      }
     },
     "output_type": "display_data"
    }
   ],
   "source": [
    "df_billionaires = spark.createDataFrame(lst_billionaires, lst_columns)\n",
    "\n",
    "display(df_billionaires)"
   ]
  },
  {
   "cell_type": "code",
   "execution_count": 0,
   "metadata": {
    "application/vnd.databricks.v1+cell": {
     "cellMetadata": {
      "byteLimit": 2048000,
      "rowLimit": 10000
     },
     "inputWidgets": {},
     "nuid": "8a9e3bc2-ab7a-4627-ba12-91004e6920d4",
     "showTitle": false,
     "title": ""
    }
   },
   "outputs": [
    {
     "data": {
      "text/html": [
       "<style scoped>\n",
       "  .table-result-container {\n",
       "    max-height: 300px;\n",
       "    overflow: auto;\n",
       "  }\n",
       "  table, th, td {\n",
       "    border: 1px solid black;\n",
       "    border-collapse: collapse;\n",
       "  }\n",
       "  th, td {\n",
       "    padding: 5px;\n",
       "  }\n",
       "  th {\n",
       "    text-align: left;\n",
       "  }\n",
       "</style><div class='table-result-container'><table class='table-result'><thead style='background-color: white'><tr><th>rank</th><th>name</th><th>net_worth</th><th>net_worth_2</th></tr></thead><tbody><tr><td>1</td><td>Bernard Arnault</td><td>236</td><td>472</td></tr><tr><td>2</td><td>Jeff Bezos</td><td>193</td><td>386</td></tr><tr><td>3</td><td>Elon Musk</td><td>189</td><td>378</td></tr><tr><td>4</td><td>Mark Zuckerberg</td><td>170</td><td>340</td></tr><tr><td>5</td><td>Larry Elison</td><td>155</td><td>310</td></tr></tbody></table></div>"
      ]
     },
     "metadata": {
      "application/vnd.databricks.v1+output": {
       "addedWidgets": {},
       "aggData": [],
       "aggError": "",
       "aggOverflow": false,
       "aggSchema": [],
       "aggSeriesLimitReached": false,
       "aggType": "",
       "arguments": {},
       "columnCustomDisplayInfos": {},
       "data": [
        [
         1,
         "Bernard Arnault",
         236,
         472
        ],
        [
         2,
         "Jeff Bezos",
         193,
         386
        ],
        [
         3,
         "Elon Musk",
         189,
         378
        ],
        [
         4,
         "Mark Zuckerberg",
         170,
         340
        ],
        [
         5,
         "Larry Elison",
         155,
         310
        ]
       ],
       "datasetInfos": [],
       "dbfsResultPath": null,
       "isJsonSchema": true,
       "metadata": {},
       "overflow": false,
       "plotOptions": {
        "customPlotOptions": {},
        "displayType": "table",
        "pivotAggregation": null,
        "pivotColumns": null,
        "xColumns": null,
        "yColumns": null
       },
       "removedWidgets": [],
       "schema": [
        {
         "metadata": "{}",
         "name": "rank",
         "type": "\"long\""
        },
        {
         "metadata": "{}",
         "name": "name",
         "type": "\"string\""
        },
        {
         "metadata": "{}",
         "name": "net_worth",
         "type": "\"long\""
        },
        {
         "metadata": "{}",
         "name": "net_worth_2",
         "type": "\"long\""
        }
       ],
       "type": "table"
      }
     },
     "output_type": "display_data"
    }
   ],
   "source": [
    "display(df_billionaires.select('rank', 'name', 'net_worth', (df_billionaires.net_worth * 2).alias('net_worth_2')).orderBy(df_billionaires.net_worth.desc()))"
   ]
  },
  {
   "cell_type": "code",
   "execution_count": 0,
   "metadata": {
    "application/vnd.databricks.v1+cell": {
     "cellMetadata": {
      "byteLimit": 2048000,
      "rowLimit": 10000
     },
     "inputWidgets": {},
     "nuid": "4969ffeb-5196-46e7-a74b-88afb443509a",
     "showTitle": false,
     "title": ""
    }
   },
   "outputs": [
    {
     "data": {
      "text/html": [
       "<style scoped>\n",
       "  .table-result-container {\n",
       "    max-height: 300px;\n",
       "    overflow: auto;\n",
       "  }\n",
       "  table, th, td {\n",
       "    border: 1px solid black;\n",
       "    border-collapse: collapse;\n",
       "  }\n",
       "  th, td {\n",
       "    padding: 5px;\n",
       "  }\n",
       "  th {\n",
       "    text-align: left;\n",
       "  }\n",
       "</style><div class='table-result-container'><table class='table-result'><thead style='background-color: white'><tr><th>net_worth_total</th></tr></thead><tbody><tr><td>943</td></tr></tbody></table></div>"
      ]
     },
     "metadata": {
      "application/vnd.databricks.v1+output": {
       "addedWidgets": {},
       "aggData": [],
       "aggError": "",
       "aggOverflow": false,
       "aggSchema": [],
       "aggSeriesLimitReached": false,
       "aggType": "",
       "arguments": {},
       "columnCustomDisplayInfos": {},
       "data": [
        [
         943
        ]
       ],
       "datasetInfos": [],
       "dbfsResultPath": null,
       "isJsonSchema": true,
       "metadata": {},
       "overflow": false,
       "plotOptions": {
        "customPlotOptions": {},
        "displayType": "table",
        "pivotAggregation": null,
        "pivotColumns": null,
        "xColumns": null,
        "yColumns": null
       },
       "removedWidgets": [],
       "schema": [
        {
         "metadata": "{}",
         "name": "net_worth_total",
         "type": "\"long\""
        }
       ],
       "type": "table"
      }
     },
     "output_type": "display_data"
    }
   ],
   "source": [
    "df_agg = df_billionaires.select('net_worth').groupBy().sum()\n",
    "\n",
    "df_agg = df_agg.withColumnRenamed('sum(net_worth)', 'net_worth_total')\n",
    "\n",
    "display(df_agg)"
   ]
  },
  {
   "cell_type": "code",
   "execution_count": 0,
   "metadata": {
    "application/vnd.databricks.v1+cell": {
     "cellMetadata": {
      "byteLimit": 2048000,
      "rowLimit": 10000
     },
     "inputWidgets": {},
     "nuid": "816ab8dc-3885-459b-a2dd-e6b4094ee67f",
     "showTitle": false,
     "title": ""
    }
   },
   "outputs": [],
   "source": [
    "df_billionaires.write.mode('overwrite').format('delta').save('dbfs:/user/billionaires')"
   ]
  },
  {
   "cell_type": "code",
   "execution_count": 0,
   "metadata": {
    "application/vnd.databricks.v1+cell": {
     "cellMetadata": {
      "byteLimit": 2048000,
      "rowLimit": 10000
     },
     "inputWidgets": {},
     "nuid": "b8b16e0d-2a70-4f03-b9bf-07fa7203e7ce",
     "showTitle": false,
     "title": ""
    }
   },
   "outputs": [
    {
     "data": {
      "text/html": [
       "<style scoped>\n",
       "  .ansiout {\n",
       "    display: block;\n",
       "    unicode-bidi: embed;\n",
       "    white-space: pre-wrap;\n",
       "    word-wrap: break-word;\n",
       "    word-break: break-all;\n",
       "    font-family: \"Menlo\", \"Monaco\", \"Consolas\", \"Ubuntu Mono\", \"Source Code Pro\", monospace;\n",
       "    font-size: 13px;\n",
       "    color: #555;\n",
       "    margin-left: 4px;\n",
       "    line-height: 19px;\n",
       "  }\n",
       "</style>\n",
       "<div class=\"ansiout\">res6: Boolean = false\n",
       "</div>"
      ]
     },
     "metadata": {
      "application/vnd.databricks.v1+output": {
       "addedWidgets": {},
       "arguments": {},
       "data": "<div class=\"ansiout\">res6: Boolean = false\n</div>",
       "datasetInfos": [],
       "metadata": {
        "isDbfsCommandResult": false
       },
       "removedWidgets": [],
       "type": "html"
      }
     },
     "output_type": "display_data"
    }
   ],
   "source": [
    "%fs rm -r dbfs:/user/billionaires.paquet/"
   ]
  },
  {
   "cell_type": "code",
   "execution_count": 0,
   "metadata": {
    "application/vnd.databricks.v1+cell": {
     "cellMetadata": {
      "byteLimit": 2048000,
      "rowLimit": 10000
     },
     "inputWidgets": {},
     "nuid": "b2b08412-24ff-423c-b394-fafc4683194d",
     "showTitle": false,
     "title": ""
    }
   },
   "outputs": [
    {
     "data": {
      "text/html": [
       "<style scoped>\n",
       "  .table-result-container {\n",
       "    max-height: 300px;\n",
       "    overflow: auto;\n",
       "  }\n",
       "  table, th, td {\n",
       "    border: 1px solid black;\n",
       "    border-collapse: collapse;\n",
       "  }\n",
       "  th, td {\n",
       "    padding: 5px;\n",
       "  }\n",
       "  th {\n",
       "    text-align: left;\n",
       "  }\n",
       "</style><div class='table-result-container'><table class='table-result'><thead style='background-color: white'><tr><th>path</th><th>name</th><th>size</th><th>modificationTime</th></tr></thead><tbody><tr><td>dbfs:/user/billionaires/</td><td>billionaires/</td><td>0</td><td>0</td></tr><tr><td>dbfs:/user/hive/</td><td>hive/</td><td>0</td><td>0</td></tr></tbody></table></div>"
      ]
     },
     "metadata": {
      "application/vnd.databricks.v1+output": {
       "addedWidgets": {},
       "aggData": [],
       "aggError": "",
       "aggOverflow": false,
       "aggSchema": [],
       "aggSeriesLimitReached": false,
       "aggType": "",
       "arguments": {},
       "columnCustomDisplayInfos": {},
       "data": [
        [
         "dbfs:/user/billionaires/",
         "billionaires/",
         0,
         0
        ],
        [
         "dbfs:/user/hive/",
         "hive/",
         0,
         0
        ]
       ],
       "datasetInfos": [],
       "dbfsResultPath": null,
       "isJsonSchema": true,
       "metadata": {
        "isDbfsCommandResult": false
       },
       "overflow": false,
       "plotOptions": {
        "customPlotOptions": {},
        "displayType": "table",
        "pivotAggregation": null,
        "pivotColumns": null,
        "xColumns": null,
        "yColumns": null
       },
       "removedWidgets": [],
       "schema": [
        {
         "metadata": "{}",
         "name": "path",
         "type": "\"string\""
        },
        {
         "metadata": "{}",
         "name": "name",
         "type": "\"string\""
        },
        {
         "metadata": "{}",
         "name": "size",
         "type": "\"long\""
        },
        {
         "metadata": "{}",
         "name": "modificationTime",
         "type": "\"long\""
        }
       ],
       "type": "table"
      }
     },
     "output_type": "display_data"
    }
   ],
   "source": [
    "%fs ls dbfs:/user/"
   ]
  },
  {
   "cell_type": "code",
   "execution_count": 0,
   "metadata": {
    "application/vnd.databricks.v1+cell": {
     "cellMetadata": {
      "byteLimit": 2048000,
      "rowLimit": 10000
     },
     "inputWidgets": {},
     "nuid": "8b9ccbfc-afb4-4853-b575-5c12d8a1f4a3",
     "showTitle": false,
     "title": ""
    }
   },
   "outputs": [
    {
     "data": {
      "text/html": [
       "<style scoped>\n",
       "  .table-result-container {\n",
       "    max-height: 300px;\n",
       "    overflow: auto;\n",
       "  }\n",
       "  table, th, td {\n",
       "    border: 1px solid black;\n",
       "    border-collapse: collapse;\n",
       "  }\n",
       "  th, td {\n",
       "    padding: 5px;\n",
       "  }\n",
       "  th {\n",
       "    text-align: left;\n",
       "  }\n",
       "</style><div class='table-result-container'><table class='table-result'><thead style='background-color: white'><tr><th>path</th><th>name</th><th>size</th><th>modificationTime</th></tr></thead><tbody><tr><td>dbfs:/user/billionaires/_delta_log/</td><td>_delta_log/</td><td>0</td><td>0</td></tr><tr><td>dbfs:/user/billionaires/part-00001-02322720-9ac3-4547-8c40-a1618eeda198-c000.snappy.parquet</td><td>part-00001-02322720-9ac3-4547-8c40-a1618eeda198-c000.snappy.parquet</td><td>1181</td><td>1710612150000</td></tr><tr><td>dbfs:/user/billionaires/part-00001-17343512-0d90-49bf-a029-389c4fc731ff-c000.snappy.parquet</td><td>part-00001-17343512-0d90-49bf-a029-389c4fc731ff-c000.snappy.parquet</td><td>1181</td><td>1710611928000</td></tr><tr><td>dbfs:/user/billionaires/part-00001-7a550813-228c-4f69-979c-098725ac80c8-c000.snappy.parquet</td><td>part-00001-7a550813-228c-4f69-979c-098725ac80c8-c000.snappy.parquet</td><td>1181</td><td>1710623144000</td></tr><tr><td>dbfs:/user/billionaires/part-00001-86913079-606d-4df7-a17d-da0e5dbc2809-c000.snappy.parquet</td><td>part-00001-86913079-606d-4df7-a17d-da0e5dbc2809-c000.snappy.parquet</td><td>1181</td><td>1710623012000</td></tr><tr><td>dbfs:/user/billionaires/part-00001-f98a9797-5646-4d62-9de7-0a36ba5142d4-c000.snappy.parquet</td><td>part-00001-f98a9797-5646-4d62-9de7-0a36ba5142d4-c000.snappy.parquet</td><td>1181</td><td>1710623129000</td></tr><tr><td>dbfs:/user/billionaires/part-00003-9088fdad-be2f-4b9a-bbdd-11d223bd2f93-c000.snappy.parquet</td><td>part-00003-9088fdad-be2f-4b9a-bbdd-11d223bd2f93-c000.snappy.parquet</td><td>1146</td><td>1710611928000</td></tr><tr><td>dbfs:/user/billionaires/part-00003-b2d1d0ae-8f3e-44be-835a-d04a90b299b2-c000.snappy.parquet</td><td>part-00003-b2d1d0ae-8f3e-44be-835a-d04a90b299b2-c000.snappy.parquet</td><td>1146</td><td>1710623144000</td></tr><tr><td>dbfs:/user/billionaires/part-00003-cb6eaff1-5e84-471b-8dca-0f283d918139-c000.snappy.parquet</td><td>part-00003-cb6eaff1-5e84-471b-8dca-0f283d918139-c000.snappy.parquet</td><td>1146</td><td>1710623012000</td></tr><tr><td>dbfs:/user/billionaires/part-00003-cd861643-658c-4b3d-a12f-12eab0cfa206-c000.snappy.parquet</td><td>part-00003-cd861643-658c-4b3d-a12f-12eab0cfa206-c000.snappy.parquet</td><td>1146</td><td>1710612151000</td></tr><tr><td>dbfs:/user/billionaires/part-00003-d475d95e-81e7-4e26-bd8e-635c609659a1-c000.snappy.parquet</td><td>part-00003-d475d95e-81e7-4e26-bd8e-635c609659a1-c000.snappy.parquet</td><td>1146</td><td>1710623129000</td></tr><tr><td>dbfs:/user/billionaires/part-00004-0db1d026-2c9c-4f98-a66e-1e89169ee54f-c000.snappy.parquet</td><td>part-00004-0db1d026-2c9c-4f98-a66e-1e89169ee54f-c000.snappy.parquet</td><td>1139</td><td>1710611928000</td></tr><tr><td>dbfs:/user/billionaires/part-00004-3af68bca-959d-4c05-b7c1-76697cea7ff2-c000.snappy.parquet</td><td>part-00004-3af68bca-959d-4c05-b7c1-76697cea7ff2-c000.snappy.parquet</td><td>1139</td><td>1710612150000</td></tr><tr><td>dbfs:/user/billionaires/part-00004-3c0050b3-4d35-40d1-a199-f04dc7e5dbea-c000.snappy.parquet</td><td>part-00004-3c0050b3-4d35-40d1-a199-f04dc7e5dbea-c000.snappy.parquet</td><td>1139</td><td>1710623129000</td></tr><tr><td>dbfs:/user/billionaires/part-00004-99ade289-00f5-454e-8e2c-140ec0b7d5a7-c000.snappy.parquet</td><td>part-00004-99ade289-00f5-454e-8e2c-140ec0b7d5a7-c000.snappy.parquet</td><td>1139</td><td>1710623012000</td></tr><tr><td>dbfs:/user/billionaires/part-00004-cda0627d-6dbe-419a-a431-24a47394d90b-c000.snappy.parquet</td><td>part-00004-cda0627d-6dbe-419a-a431-24a47394d90b-c000.snappy.parquet</td><td>1139</td><td>1710623144000</td></tr><tr><td>dbfs:/user/billionaires/part-00006-077b815c-3c8f-4edb-bb1b-4c504adf5087-c000.snappy.parquet</td><td>part-00006-077b815c-3c8f-4edb-bb1b-4c504adf5087-c000.snappy.parquet</td><td>1181</td><td>1710623144000</td></tr><tr><td>dbfs:/user/billionaires/part-00006-2f704e0d-f360-47a8-a6d0-ac5fa3009f9f-c000.snappy.parquet</td><td>part-00006-2f704e0d-f360-47a8-a6d0-ac5fa3009f9f-c000.snappy.parquet</td><td>1181</td><td>1710612150000</td></tr><tr><td>dbfs:/user/billionaires/part-00006-63cb5738-78e9-4ffc-b77c-c42a9b6f8382-c000.snappy.parquet</td><td>part-00006-63cb5738-78e9-4ffc-b77c-c42a9b6f8382-c000.snappy.parquet</td><td>1181</td><td>1710623012000</td></tr><tr><td>dbfs:/user/billionaires/part-00006-6fe41424-3b9b-4efd-b558-ebd7b19ab34a-c000.snappy.parquet</td><td>part-00006-6fe41424-3b9b-4efd-b558-ebd7b19ab34a-c000.snappy.parquet</td><td>1181</td><td>1710611928000</td></tr><tr><td>dbfs:/user/billionaires/part-00006-dec07050-101f-497b-bd6e-2c23fde2df0e-c000.snappy.parquet</td><td>part-00006-dec07050-101f-497b-bd6e-2c23fde2df0e-c000.snappy.parquet</td><td>1181</td><td>1710623129000</td></tr><tr><td>dbfs:/user/billionaires/part-00007-0209d72a-6d03-410e-af13-c919f19b5173-c000.snappy.parquet</td><td>part-00007-0209d72a-6d03-410e-af13-c919f19b5173-c000.snappy.parquet</td><td>1160</td><td>1710611928000</td></tr><tr><td>dbfs:/user/billionaires/part-00007-066cb023-cc4e-456f-8850-2902e98fe79b-c000.snappy.parquet</td><td>part-00007-066cb023-cc4e-456f-8850-2902e98fe79b-c000.snappy.parquet</td><td>1160</td><td>1710623144000</td></tr><tr><td>dbfs:/user/billionaires/part-00007-2eb604cf-bd46-4486-88ab-4367ae17aa71-c000.snappy.parquet</td><td>part-00007-2eb604cf-bd46-4486-88ab-4367ae17aa71-c000.snappy.parquet</td><td>1160</td><td>1710623129000</td></tr><tr><td>dbfs:/user/billionaires/part-00007-6b4fc12c-74ff-40aa-8dfb-23e9bc9f833c-c000.snappy.parquet</td><td>part-00007-6b4fc12c-74ff-40aa-8dfb-23e9bc9f833c-c000.snappy.parquet</td><td>1160</td><td>1710612150000</td></tr><tr><td>dbfs:/user/billionaires/part-00007-f676f230-9b5e-4e78-b628-ede64ec50703-c000.snappy.parquet</td><td>part-00007-f676f230-9b5e-4e78-b628-ede64ec50703-c000.snappy.parquet</td><td>1160</td><td>1710623012000</td></tr></tbody></table></div>"
      ]
     },
     "metadata": {
      "application/vnd.databricks.v1+output": {
       "addedWidgets": {},
       "aggData": [],
       "aggError": "",
       "aggOverflow": false,
       "aggSchema": [],
       "aggSeriesLimitReached": false,
       "aggType": "",
       "arguments": {},
       "columnCustomDisplayInfos": {},
       "data": [
        [
         "dbfs:/user/billionaires/_delta_log/",
         "_delta_log/",
         0,
         0
        ],
        [
         "dbfs:/user/billionaires/part-00001-02322720-9ac3-4547-8c40-a1618eeda198-c000.snappy.parquet",
         "part-00001-02322720-9ac3-4547-8c40-a1618eeda198-c000.snappy.parquet",
         1181,
         1710612150000
        ],
        [
         "dbfs:/user/billionaires/part-00001-17343512-0d90-49bf-a029-389c4fc731ff-c000.snappy.parquet",
         "part-00001-17343512-0d90-49bf-a029-389c4fc731ff-c000.snappy.parquet",
         1181,
         1710611928000
        ],
        [
         "dbfs:/user/billionaires/part-00001-7a550813-228c-4f69-979c-098725ac80c8-c000.snappy.parquet",
         "part-00001-7a550813-228c-4f69-979c-098725ac80c8-c000.snappy.parquet",
         1181,
         1710623144000
        ],
        [
         "dbfs:/user/billionaires/part-00001-86913079-606d-4df7-a17d-da0e5dbc2809-c000.snappy.parquet",
         "part-00001-86913079-606d-4df7-a17d-da0e5dbc2809-c000.snappy.parquet",
         1181,
         1710623012000
        ],
        [
         "dbfs:/user/billionaires/part-00001-f98a9797-5646-4d62-9de7-0a36ba5142d4-c000.snappy.parquet",
         "part-00001-f98a9797-5646-4d62-9de7-0a36ba5142d4-c000.snappy.parquet",
         1181,
         1710623129000
        ],
        [
         "dbfs:/user/billionaires/part-00003-9088fdad-be2f-4b9a-bbdd-11d223bd2f93-c000.snappy.parquet",
         "part-00003-9088fdad-be2f-4b9a-bbdd-11d223bd2f93-c000.snappy.parquet",
         1146,
         1710611928000
        ],
        [
         "dbfs:/user/billionaires/part-00003-b2d1d0ae-8f3e-44be-835a-d04a90b299b2-c000.snappy.parquet",
         "part-00003-b2d1d0ae-8f3e-44be-835a-d04a90b299b2-c000.snappy.parquet",
         1146,
         1710623144000
        ],
        [
         "dbfs:/user/billionaires/part-00003-cb6eaff1-5e84-471b-8dca-0f283d918139-c000.snappy.parquet",
         "part-00003-cb6eaff1-5e84-471b-8dca-0f283d918139-c000.snappy.parquet",
         1146,
         1710623012000
        ],
        [
         "dbfs:/user/billionaires/part-00003-cd861643-658c-4b3d-a12f-12eab0cfa206-c000.snappy.parquet",
         "part-00003-cd861643-658c-4b3d-a12f-12eab0cfa206-c000.snappy.parquet",
         1146,
         1710612151000
        ],
        [
         "dbfs:/user/billionaires/part-00003-d475d95e-81e7-4e26-bd8e-635c609659a1-c000.snappy.parquet",
         "part-00003-d475d95e-81e7-4e26-bd8e-635c609659a1-c000.snappy.parquet",
         1146,
         1710623129000
        ],
        [
         "dbfs:/user/billionaires/part-00004-0db1d026-2c9c-4f98-a66e-1e89169ee54f-c000.snappy.parquet",
         "part-00004-0db1d026-2c9c-4f98-a66e-1e89169ee54f-c000.snappy.parquet",
         1139,
         1710611928000
        ],
        [
         "dbfs:/user/billionaires/part-00004-3af68bca-959d-4c05-b7c1-76697cea7ff2-c000.snappy.parquet",
         "part-00004-3af68bca-959d-4c05-b7c1-76697cea7ff2-c000.snappy.parquet",
         1139,
         1710612150000
        ],
        [
         "dbfs:/user/billionaires/part-00004-3c0050b3-4d35-40d1-a199-f04dc7e5dbea-c000.snappy.parquet",
         "part-00004-3c0050b3-4d35-40d1-a199-f04dc7e5dbea-c000.snappy.parquet",
         1139,
         1710623129000
        ],
        [
         "dbfs:/user/billionaires/part-00004-99ade289-00f5-454e-8e2c-140ec0b7d5a7-c000.snappy.parquet",
         "part-00004-99ade289-00f5-454e-8e2c-140ec0b7d5a7-c000.snappy.parquet",
         1139,
         1710623012000
        ],
        [
         "dbfs:/user/billionaires/part-00004-cda0627d-6dbe-419a-a431-24a47394d90b-c000.snappy.parquet",
         "part-00004-cda0627d-6dbe-419a-a431-24a47394d90b-c000.snappy.parquet",
         1139,
         1710623144000
        ],
        [
         "dbfs:/user/billionaires/part-00006-077b815c-3c8f-4edb-bb1b-4c504adf5087-c000.snappy.parquet",
         "part-00006-077b815c-3c8f-4edb-bb1b-4c504adf5087-c000.snappy.parquet",
         1181,
         1710623144000
        ],
        [
         "dbfs:/user/billionaires/part-00006-2f704e0d-f360-47a8-a6d0-ac5fa3009f9f-c000.snappy.parquet",
         "part-00006-2f704e0d-f360-47a8-a6d0-ac5fa3009f9f-c000.snappy.parquet",
         1181,
         1710612150000
        ],
        [
         "dbfs:/user/billionaires/part-00006-63cb5738-78e9-4ffc-b77c-c42a9b6f8382-c000.snappy.parquet",
         "part-00006-63cb5738-78e9-4ffc-b77c-c42a9b6f8382-c000.snappy.parquet",
         1181,
         1710623012000
        ],
        [
         "dbfs:/user/billionaires/part-00006-6fe41424-3b9b-4efd-b558-ebd7b19ab34a-c000.snappy.parquet",
         "part-00006-6fe41424-3b9b-4efd-b558-ebd7b19ab34a-c000.snappy.parquet",
         1181,
         1710611928000
        ],
        [
         "dbfs:/user/billionaires/part-00006-dec07050-101f-497b-bd6e-2c23fde2df0e-c000.snappy.parquet",
         "part-00006-dec07050-101f-497b-bd6e-2c23fde2df0e-c000.snappy.parquet",
         1181,
         1710623129000
        ],
        [
         "dbfs:/user/billionaires/part-00007-0209d72a-6d03-410e-af13-c919f19b5173-c000.snappy.parquet",
         "part-00007-0209d72a-6d03-410e-af13-c919f19b5173-c000.snappy.parquet",
         1160,
         1710611928000
        ],
        [
         "dbfs:/user/billionaires/part-00007-066cb023-cc4e-456f-8850-2902e98fe79b-c000.snappy.parquet",
         "part-00007-066cb023-cc4e-456f-8850-2902e98fe79b-c000.snappy.parquet",
         1160,
         1710623144000
        ],
        [
         "dbfs:/user/billionaires/part-00007-2eb604cf-bd46-4486-88ab-4367ae17aa71-c000.snappy.parquet",
         "part-00007-2eb604cf-bd46-4486-88ab-4367ae17aa71-c000.snappy.parquet",
         1160,
         1710623129000
        ],
        [
         "dbfs:/user/billionaires/part-00007-6b4fc12c-74ff-40aa-8dfb-23e9bc9f833c-c000.snappy.parquet",
         "part-00007-6b4fc12c-74ff-40aa-8dfb-23e9bc9f833c-c000.snappy.parquet",
         1160,
         1710612150000
        ],
        [
         "dbfs:/user/billionaires/part-00007-f676f230-9b5e-4e78-b628-ede64ec50703-c000.snappy.parquet",
         "part-00007-f676f230-9b5e-4e78-b628-ede64ec50703-c000.snappy.parquet",
         1160,
         1710623012000
        ]
       ],
       "datasetInfos": [],
       "dbfsResultPath": null,
       "isJsonSchema": true,
       "metadata": {
        "isDbfsCommandResult": false
       },
       "overflow": false,
       "plotOptions": {
        "customPlotOptions": {},
        "displayType": "table",
        "pivotAggregation": null,
        "pivotColumns": null,
        "xColumns": null,
        "yColumns": null
       },
       "removedWidgets": [],
       "schema": [
        {
         "metadata": "{}",
         "name": "path",
         "type": "\"string\""
        },
        {
         "metadata": "{}",
         "name": "name",
         "type": "\"string\""
        },
        {
         "metadata": "{}",
         "name": "size",
         "type": "\"long\""
        },
        {
         "metadata": "{}",
         "name": "modificationTime",
         "type": "\"long\""
        }
       ],
       "type": "table"
      }
     },
     "output_type": "display_data"
    }
   ],
   "source": [
    "%fs ls dbfs:/user/billionaires"
   ]
  },
  {
   "cell_type": "code",
   "execution_count": 0,
   "metadata": {
    "application/vnd.databricks.v1+cell": {
     "cellMetadata": {
      "byteLimit": 2048000,
      "rowLimit": 10000
     },
     "inputWidgets": {},
     "nuid": "3dc9557a-5284-4ae1-ad99-18a6c917ae8f",
     "showTitle": false,
     "title": ""
    }
   },
   "outputs": [
    {
     "data": {
      "text/html": [
       "<style scoped>\n",
       "  .table-result-container {\n",
       "    max-height: 300px;\n",
       "    overflow: auto;\n",
       "  }\n",
       "  table, th, td {\n",
       "    border: 1px solid black;\n",
       "    border-collapse: collapse;\n",
       "  }\n",
       "  th, td {\n",
       "    padding: 5px;\n",
       "  }\n",
       "  th {\n",
       "    text-align: left;\n",
       "  }\n",
       "</style><div class='table-result-container'><table class='table-result'><thead style='background-color: white'><tr><th>rank</th><th>name</th><th>net_worth</th></tr></thead><tbody><tr><td>1</td><td>Bernard Arnault</td><td>236</td></tr><tr><td>4</td><td>Mark Zuckerberg</td><td>170</td></tr><tr><td>5</td><td>Larry Elison</td><td>155</td></tr><tr><td>2</td><td>Jeff Bezos</td><td>193</td></tr><tr><td>3</td><td>Elon Musk</td><td>189</td></tr></tbody></table></div>"
      ]
     },
     "metadata": {
      "application/vnd.databricks.v1+output": {
       "addedWidgets": {},
       "aggData": [],
       "aggError": "",
       "aggOverflow": false,
       "aggSchema": [],
       "aggSeriesLimitReached": false,
       "aggType": "",
       "arguments": {},
       "columnCustomDisplayInfos": {},
       "data": [
        [
         1,
         "Bernard Arnault",
         236
        ],
        [
         4,
         "Mark Zuckerberg",
         170
        ],
        [
         5,
         "Larry Elison",
         155
        ],
        [
         2,
         "Jeff Bezos",
         193
        ],
        [
         3,
         "Elon Musk",
         189
        ]
       ],
       "datasetInfos": [],
       "dbfsResultPath": null,
       "isJsonSchema": true,
       "metadata": {},
       "overflow": false,
       "plotOptions": {
        "customPlotOptions": {},
        "displayType": "table",
        "pivotAggregation": null,
        "pivotColumns": null,
        "xColumns": null,
        "yColumns": null
       },
       "removedWidgets": [],
       "schema": [
        {
         "metadata": "{}",
         "name": "rank",
         "type": "\"long\""
        },
        {
         "metadata": "{}",
         "name": "name",
         "type": "\"string\""
        },
        {
         "metadata": "{}",
         "name": "net_worth",
         "type": "\"long\""
        }
       ],
       "type": "table"
      }
     },
     "output_type": "display_data"
    }
   ],
   "source": [
    "df_billionaires_2 = spark.read.load('dbfs:/user/billionaires/', format = 'delta')\n",
    "\n",
    "display(df_billionaires_2)"
   ]
  },
  {
   "cell_type": "code",
   "execution_count": 0,
   "metadata": {
    "application/vnd.databricks.v1+cell": {
     "cellMetadata": {
      "byteLimit": 2048000,
      "implicitDf": true,
      "rowLimit": 10000
     },
     "inputWidgets": {},
     "nuid": "65f1b43c-3411-4c96-b9af-cb239a25f7bd",
     "showTitle": false,
     "title": ""
    }
   },
   "outputs": [
    {
     "data": {
      "text/html": [
       "<style scoped>\n",
       "  .table-result-container {\n",
       "    max-height: 300px;\n",
       "    overflow: auto;\n",
       "  }\n",
       "  table, th, td {\n",
       "    border: 1px solid black;\n",
       "    border-collapse: collapse;\n",
       "  }\n",
       "  th, td {\n",
       "    padding: 5px;\n",
       "  }\n",
       "  th {\n",
       "    text-align: left;\n",
       "  }\n",
       "</style><div class='table-result-container'><table class='table-result'><thead style='background-color: white'><tr></tr></thead><tbody></tbody></table></div>"
      ]
     },
     "metadata": {
      "application/vnd.databricks.v1+output": {
       "addedWidgets": {},
       "aggData": [],
       "aggError": "",
       "aggOverflow": false,
       "aggSchema": [],
       "aggSeriesLimitReached": false,
       "aggType": "",
       "arguments": {},
       "columnCustomDisplayInfos": {},
       "data": [],
       "datasetInfos": [],
       "dbfsResultPath": null,
       "isJsonSchema": true,
       "metadata": {},
       "overflow": false,
       "plotOptions": {
        "customPlotOptions": {},
        "displayType": "table",
        "pivotAggregation": null,
        "pivotColumns": null,
        "xColumns": null,
        "yColumns": null
       },
       "removedWidgets": [],
       "schema": [],
       "type": "table"
      }
     },
     "output_type": "display_data"
    }
   ],
   "source": [
    " %sql drop table if exists tbl_billionaires;"
   ]
  },
  {
   "cell_type": "code",
   "execution_count": 0,
   "metadata": {
    "application/vnd.databricks.v1+cell": {
     "cellMetadata": {
      "byteLimit": 2048000,
      "rowLimit": 10000
     },
     "inputWidgets": {},
     "nuid": "c7834eec-9776-4102-9635-1c804449276f",
     "showTitle": false,
     "title": ""
    }
   },
   "outputs": [],
   "source": [
    "df_billionaires.write.mode('overwrite').format('delta').saveAsTable('tbl_billionaires')"
   ]
  },
  {
   "cell_type": "code",
   "execution_count": 0,
   "metadata": {
    "application/vnd.databricks.v1+cell": {
     "cellMetadata": {
      "byteLimit": 2048000,
      "rowLimit": 10000
     },
     "inputWidgets": {},
     "nuid": "09fc72e0-8cb9-4e5d-85f6-a750e115e025",
     "showTitle": false,
     "title": ""
    }
   },
   "outputs": [
    {
     "name": "stdout",
     "output_type": "stream",
     "text": [
      "<class 'pyspark.sql.dataframe.DataFrame'>\n"
     ]
    },
    {
     "data": {
      "text/html": [
       "<style scoped>\n",
       "  .table-result-container {\n",
       "    max-height: 300px;\n",
       "    overflow: auto;\n",
       "  }\n",
       "  table, th, td {\n",
       "    border: 1px solid black;\n",
       "    border-collapse: collapse;\n",
       "  }\n",
       "  th, td {\n",
       "    padding: 5px;\n",
       "  }\n",
       "  th {\n",
       "    text-align: left;\n",
       "  }\n",
       "</style><div class='table-result-container'><table class='table-result'><thead style='background-color: white'><tr><th>rank</th><th>name</th><th>net_worth</th></tr></thead><tbody><tr><td>1</td><td>Bernard Arnault</td><td>236</td></tr><tr><td>4</td><td>Mark Zuckerberg</td><td>170</td></tr><tr><td>5</td><td>Larry Elison</td><td>155</td></tr><tr><td>2</td><td>Jeff Bezos</td><td>193</td></tr><tr><td>3</td><td>Elon Musk</td><td>189</td></tr></tbody></table></div>"
      ]
     },
     "metadata": {
      "application/vnd.databricks.v1+output": {
       "addedWidgets": {},
       "aggData": [],
       "aggError": "",
       "aggOverflow": false,
       "aggSchema": [],
       "aggSeriesLimitReached": false,
       "aggType": "",
       "arguments": {},
       "columnCustomDisplayInfos": {},
       "data": [
        [
         1,
         "Bernard Arnault",
         236
        ],
        [
         4,
         "Mark Zuckerberg",
         170
        ],
        [
         5,
         "Larry Elison",
         155
        ],
        [
         2,
         "Jeff Bezos",
         193
        ],
        [
         3,
         "Elon Musk",
         189
        ]
       ],
       "datasetInfos": [],
       "dbfsResultPath": null,
       "isJsonSchema": true,
       "metadata": {},
       "overflow": false,
       "plotOptions": {
        "customPlotOptions": {},
        "displayType": "table",
        "pivotAggregation": null,
        "pivotColumns": null,
        "xColumns": null,
        "yColumns": null
       },
       "removedWidgets": [],
       "schema": [
        {
         "metadata": "{}",
         "name": "rank",
         "type": "\"long\""
        },
        {
         "metadata": "{}",
         "name": "name",
         "type": "\"string\""
        },
        {
         "metadata": "{}",
         "name": "net_worth",
         "type": "\"long\""
        }
       ],
       "type": "table"
      }
     },
     "output_type": "display_data"
    }
   ],
   "source": [
    "sql = '''\n",
    "select * from tbl_billionaires\n",
    "'''\n",
    "\n",
    "df_sql = spark.sql(sql)\n",
    "\n",
    "print(type(df_sql))\n",
    "\n",
    "display(df_sql)"
   ]
  },
  {
   "cell_type": "code",
   "execution_count": 0,
   "metadata": {
    "application/vnd.databricks.v1+cell": {
     "cellMetadata": {
      "byteLimit": 2048000,
      "implicitDf": true,
      "rowLimit": 10000
     },
     "inputWidgets": {},
     "nuid": "84a04045-6a97-4c64-a840-0347c3d877ad",
     "showTitle": false,
     "title": ""
    }
   },
   "outputs": [
    {
     "data": {
      "text/html": [
       "<style scoped>\n",
       "  .table-result-container {\n",
       "    max-height: 300px;\n",
       "    overflow: auto;\n",
       "  }\n",
       "  table, th, td {\n",
       "    border: 1px solid black;\n",
       "    border-collapse: collapse;\n",
       "  }\n",
       "  th, td {\n",
       "    padding: 5px;\n",
       "  }\n",
       "  th {\n",
       "    text-align: left;\n",
       "  }\n",
       "</style><div class='table-result-container'><table class='table-result'><thead style='background-color: white'><tr><th>rank</th><th>name</th><th>net_worth</th></tr></thead><tbody><tr><td>1</td><td>Bernard Arnault</td><td>236</td></tr><tr><td>4</td><td>Mark Zuckerberg</td><td>170</td></tr><tr><td>5</td><td>Larry Elison</td><td>155</td></tr><tr><td>2</td><td>Jeff Bezos</td><td>193</td></tr><tr><td>3</td><td>Elon Musk</td><td>189</td></tr></tbody></table></div>"
      ]
     },
     "metadata": {
      "application/vnd.databricks.v1+output": {
       "addedWidgets": {},
       "aggData": [],
       "aggError": "",
       "aggOverflow": false,
       "aggSchema": [],
       "aggSeriesLimitReached": false,
       "aggType": "",
       "arguments": {},
       "columnCustomDisplayInfos": {},
       "data": [
        [
         1,
         "Bernard Arnault",
         236
        ],
        [
         4,
         "Mark Zuckerberg",
         170
        ],
        [
         5,
         "Larry Elison",
         155
        ],
        [
         2,
         "Jeff Bezos",
         193
        ],
        [
         3,
         "Elon Musk",
         189
        ]
       ],
       "datasetInfos": [],
       "dbfsResultPath": null,
       "isJsonSchema": true,
       "metadata": {},
       "overflow": false,
       "plotOptions": {
        "customPlotOptions": {},
        "displayType": "table",
        "pivotAggregation": null,
        "pivotColumns": null,
        "xColumns": null,
        "yColumns": null
       },
       "removedWidgets": [],
       "schema": [
        {
         "metadata": "{}",
         "name": "rank",
         "type": "\"long\""
        },
        {
         "metadata": "{}",
         "name": "name",
         "type": "\"string\""
        },
        {
         "metadata": "{}",
         "name": "net_worth",
         "type": "\"long\""
        }
       ],
       "type": "table"
      }
     },
     "output_type": "display_data"
    }
   ],
   "source": [
    "%sql select * from tbl_billionaires"
   ]
  },
  {
   "cell_type": "code",
   "execution_count": 0,
   "metadata": {
    "application/vnd.databricks.v1+cell": {
     "cellMetadata": {
      "byteLimit": 2048000,
      "rowLimit": 10000
     },
     "inputWidgets": {},
     "nuid": "44c1b026-7f14-49ef-b41f-8b9962672821",
     "showTitle": false,
     "title": ""
    }
   },
   "outputs": [],
   "source": [
    "df_sql.createOrReplaceTempView('tbl_agg')"
   ]
  },
  {
   "cell_type": "code",
   "execution_count": 0,
   "metadata": {
    "application/vnd.databricks.v1+cell": {
     "cellMetadata": {
      "byteLimit": 2048000,
      "rowLimit": 10000
     },
     "inputWidgets": {},
     "nuid": "01530aed-2100-4b29-8722-88a3635ff5d3",
     "showTitle": false,
     "title": ""
    }
   },
   "outputs": [
    {
     "name": "stdout",
     "output_type": "stream",
     "text": [
      "/databricks/driver/logs\n",
      "total 14380\n",
      "-rw-r--r-- 1 root root     629 Mar 16 20:53 ttyd_logs\n",
      "-rw-r--r-- 1 root root     163 Mar 16 20:54 stderr--2024-03-16--21-00\n",
      "-rw-r--r-- 1 root root   97398 Mar 16 20:58 stdout--2024-03-16--21-00\n",
      "drwxr-xr-x 1 root root    4096 Mar 16 21:00 ..\n",
      "-rw-r--r-- 1 root root    3871 Mar 16 21:00 2024-03-16-20.product.json.gz\n",
      "-rw-r--r-- 1 root root   54586 Mar 16 21:00 2024-03-16-20.usage.json.gz\n",
      "-rw-r--r-- 1 root root    4807 Mar 16 21:00 2024-03-16-20.log.gz\n",
      "-rw-r--r-- 1 root root   16716 Mar 16 21:00 log4j-2024-03-16-20.log.gz\n",
      "-rw-r--r-- 1 root root  100386 Mar 16 21:01 2024-03-16-20.metrics.json.gz\n",
      "drwxr-xr-x 2 root root    4096 Mar 16 21:03 .\n",
      "-rw-r--r-- 1 root root     521 Mar 16 21:05 stderr\n",
      "-rw-r--r-- 1 root root  214368 Mar 16 21:07 metrics.json\n",
      "-rw-r--r-- 1 root root   85035 Mar 16 21:07 spark_usage.json\n",
      "-rw-r--r-- 1 root root  864208 Mar 16 21:07 QueryProfileLog.pb.base64\n",
      "-rw-r--r-- 1 root root 3395343 Mar 16 21:07 product.json\n",
      "-rw-r--r-- 1 root root  708615 Mar 16 21:07 log4j-active.log\n",
      "-rw-r--r-- 1 root root  103850 Mar 16 21:07 active.log\n",
      "-rw-r--r-- 1 root root 9016359 Mar 16 21:07 usage.json\n",
      "-rw-r--r-- 1 root root    3735 Mar 16 21:07 stdout\n",
      "[2024/03/16 20:53:51:9375] N: ttyd 1.6.3 (libwebsockets 4.1.6-)\n",
      "[2024/03/16 20:53:51:9375] N: tty configuration:\n",
      "[2024/03/16 20:53:51:9375] N:   start command: bash /databricks/spark/scripts/ttyd/set_wsfs_credentials.sh\n",
      "[2024/03/16 20:53:51:9376] N:   close signal: SIGHUP (1)\n",
      "[2024/03/16 20:53:51:9376] N:   terminal type: xterm-256color\n"
     ]
    }
   ],
   "source": [
    "%sh cd logs; pwd; ls -lart; head -5 ttyd_logs;"
   ]
  },
  {
   "cell_type": "code",
   "execution_count": 0,
   "metadata": {
    "application/vnd.databricks.v1+cell": {
     "cellMetadata": {
      "byteLimit": 2048000,
      "rowLimit": 10000
     },
     "inputWidgets": {},
     "nuid": "d189f549-792d-4f46-a3e7-f9e5fb0835db",
     "showTitle": false,
     "title": ""
    }
   },
   "outputs": [
    {
     "name": "stdout",
     "output_type": "stream",
     "text": [
      "Out[59]: [(1, 'Bernard Arnault', 236, 'B'),\n",
      " (2, 'Jeff Bezos', 193, 'J'),\n",
      " (3, 'Elon Musk', 189, 'E'),\n",
      " (4, 'Mark Zuckerberg', 170, 'M'),\n",
      " (5, 'Larry Elison', 155, 'L')]"
     ]
    }
   ],
   "source": [
    "rdd_billionaires_2 = rdd_billionaires.map(lambda x: (x[0], x[1], x[2], x[1][0]))\n",
    "\n",
    "rdd_billionaires_2.collect()"
   ]
  },
  {
   "cell_type": "code",
   "execution_count": 0,
   "metadata": {
    "application/vnd.databricks.v1+cell": {
     "cellMetadata": {
      "byteLimit": 2048000,
      "rowLimit": 10000
     },
     "inputWidgets": {},
     "nuid": "75760598-d3f7-4426-9192-fdaa91e3aada",
     "showTitle": false,
     "title": ""
    }
   },
   "outputs": [
    {
     "name": "stdout",
     "output_type": "stream",
     "text": [
      "Out[61]: (1, 'Bernard Arnault', 236, 'B')"
     ]
    }
   ],
   "source": [
    "def add_first_initial_from_tuple(billionaire_row):\n",
    "\n",
    "    return(billionaire_row[0],\n",
    "           billionaire_row[1],\n",
    "           billionaire_row[2],\n",
    "           billionaire_row[1][0])\n",
    "    \n",
    "add_first_initial_from_tuple((1, 'Bernard Arnault', 236))"
   ]
  },
  {
   "cell_type": "code",
   "execution_count": 0,
   "metadata": {
    "application/vnd.databricks.v1+cell": {
     "cellMetadata": {
      "byteLimit": 2048000,
      "rowLimit": 10000
     },
     "inputWidgets": {},
     "nuid": "a9c43250-879b-482e-933d-93c6bdf36733",
     "showTitle": false,
     "title": ""
    }
   },
   "outputs": [
    {
     "name": "stdout",
     "output_type": "stream",
     "text": [
      "Out[62]: [(1, 'Bernard Arnault', 236, 'B'),\n",
      " (2, 'Jeff Bezos', 193, 'J'),\n",
      " (3, 'Elon Musk', 189, 'E'),\n",
      " (4, 'Mark Zuckerberg', 170, 'M'),\n",
      " (5, 'Larry Elison', 155, 'L')]"
     ]
    }
   ],
   "source": [
    "rdd_billionaires_3 = rdd_billionaires.map(lambda x: add_first_initial_from_tuple(x))\n",
    "\n",
    "rdd_billionaires_3.collect()"
   ]
  },
  {
   "cell_type": "code",
   "execution_count": 0,
   "metadata": {
    "application/vnd.databricks.v1+cell": {
     "cellMetadata": {
      "byteLimit": 2048000,
      "rowLimit": 10000
     },
     "inputWidgets": {},
     "nuid": "324c39f0-7047-4906-90be-499764a78952",
     "showTitle": false,
     "title": ""
    }
   },
   "outputs": [
    {
     "name": "stdout",
     "output_type": "stream",
     "text": [
      "['hello', 'world', 'how', 'are', 'you']\n"
     ]
    }
   ],
   "source": [
    "# Create an RDD from a list of strings\n",
    "lines_rdd = sc.parallelize([\"hello world\", \"how are you\"])\n",
    "\n",
    "# Use flatMap to split each line into words\n",
    "words_rdd = lines_rdd.flatMap(lambda line: line.split(\" \"))\n",
    "\n",
    "# Collect and print the results\n",
    "print(words_rdd.collect())"
   ]
  }
 ],
 "metadata": {
  "application/vnd.databricks.v1+notebook": {
   "dashboards": [],
   "language": "python",
   "notebookMetadata": {
    "mostRecentlyExecutedCommandWithImplicitDF": {
     "commandId": 3789496944242838,
     "dataframes": [
      "_sqldf"
     ]
    },
    "pythonIndentUnit": 4
   },
   "notebookName": "sandbox",
   "widgets": {}
  },
  "kernelspec": {
   "display_name": "Python 3 (ipykernel)",
   "language": "python",
   "name": "python3"
  },
  "language_info": {
   "codemirror_mode": {
    "name": "ipython",
    "version": 3
   },
   "file_extension": ".py",
   "mimetype": "text/x-python",
   "name": "python",
   "nbconvert_exporter": "python",
   "pygments_lexer": "ipython3",
   "version": "3.7.13"
  }
 },
 "nbformat": 4,
 "nbformat_minor": 1
}
